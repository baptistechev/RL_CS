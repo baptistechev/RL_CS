{
 "cells": [
  {
   "cell_type": "code",
   "execution_count": 1,
   "metadata": {},
   "outputs": [],
   "source": [
    "import numpy as np\n",
    "import matplotlib.pyplot as plt\n",
    "from sklearn.linear_model import OrthogonalMatchingPursuit\n",
    "import copy\n",
    "from collections import Counter"
   ]
  },
  {
   "cell_type": "code",
   "execution_count": null,
   "metadata": {},
   "outputs": [],
   "source": [
    "def bin_to_pattern(x):\n",
    "    return [ [1-int(i), int(i)] for i in x ]\n",
    "def create_specific_patterns(mode1,mode2,size):\n",
    "    pats =[]\n",
    "    for i in range(2):\n",
    "        for j in range(2):\n",
    "            pats.append( [[1,1]]*mode1 + bin_to_pattern(str(i)) + [[1,1]]*(mode2-mode1-1) + bin_to_pattern(str(j)) + [[1,1]]*(size-mode1-(mode2-mode1-1)-2) )\n",
    "    return pats\n",
    "def create_specific_patterns3(mode1,mode2,mode3,size):\n",
    "    pats =[]\n",
    "    for i in range(2):\n",
    "        for j in range(2):\n",
    "            for k in range(2):\n",
    "                pats.append( [[1,1]]*mode1 + bin_to_pattern(str(i)) + [[1,1]]*(mode2-mode1-1) + bin_to_pattern(str(j)) + [[1,1]]*(mode3-(mode2-mode1-1)-mode1-2) + bin_to_pattern(str(k)) + [[1,1]]*(size -mode1-(mode2-mode1-1)-(mode3-(mode2-mode1-1)-mode1-2)-3) )\n",
    "    return pats\n",
    "def create_specific_patterns4(mode1,mode2,mode3,mode4,size):\n",
    "    pats = []\n",
    "    temp_pats = create_specific_patterns3(mode1,mode2,mode3,size)\n",
    "    for p in temp_pats:\n",
    "        for k in range(2):\n",
    "            p_prime = copy.deepcopy(p)\n",
    "            p_prime[mode4] = bin_to_pattern(str(k))[0]\n",
    "            pats.append(p_prime)\n",
    "    return pats\n",
    "def create_specific_patterns5(mode1, mode2, mode3, mode4, mode5, size):\n",
    "    \"\"\"\n",
    "    Generate specific patterns for 5 modes.\n",
    "    \"\"\"\n",
    "    pats = []\n",
    "    temp_pats = create_specific_patterns4(mode1, mode2, mode3, mode4, size)\n",
    "    for p in temp_pats:\n",
    "        for k in range(2):\n",
    "            p_prime = copy.deepcopy(p)\n",
    "            p_prime[mode5] = bin_to_pattern(str(k))[0]\n",
    "            pats.append(p_prime)\n",
    "    return pats\n",
    "def create_specific_patterns8(mode1, mode2, mode3, mode4, mode5, mode6, mode7, mode8, size):\n",
    "    \"\"\"\n",
    "    Generate specific patterns for 8 modes.\n",
    "    \"\"\"\n",
    "    pats = []\n",
    "    temp_pats = create_specific_patterns5(mode1, mode2, mode3, mode4, mode5, size)\n",
    "    for p in temp_pats:\n",
    "        for k in range(2):\n",
    "            p_prime = copy.deepcopy(p)\n",
    "            p_prime[mode6] = bin_to_pattern(str(k))[0]\n",
    "            for l in range(2):\n",
    "                p_prime2 = copy.deepcopy(p_prime)\n",
    "                p_prime2[mode7] = bin_to_pattern(str(l))[0]\n",
    "                for m in range(2):\n",
    "                    p_prime3 = copy.deepcopy(p_prime2)\n",
    "                    p_prime3[mode8] = bin_to_pattern(str(m))[0]\n",
    "                    pats.append(p_prime3)\n",
    "    return pats\n",
    "def dev_pattern(pat):\n",
    "    f = np.array([1])\n",
    "    for i in pat:\n",
    "        f = np.kron(f,i)\n",
    "    return f"
   ]
  },
  {
   "cell_type": "markdown",
   "metadata": {},
   "source": [
    "<h2>Game modeling</h2>"
   ]
  },
  {
   "cell_type": "code",
   "execution_count": 3,
   "metadata": {},
   "outputs": [],
   "source": [
    "def stringify(seq):\n",
    "    string = ''\n",
    "    for n in seq:\n",
    "        string+=str(n)\n",
    "    return string"
   ]
  },
  {
   "cell_type": "code",
   "execution_count": 4,
   "metadata": {},
   "outputs": [
    {
     "data": {
      "text/plain": [
       "4096"
      ]
     },
     "execution_count": 4,
     "metadata": {},
     "output_type": "execute_result"
    }
   ],
   "source": [
    "n = 12\n",
    "sequence_list = np.array([np.array(list(bin(i)[3:]),dtype=np.int32) for i in range(2**n, 2**(n+1))])\n",
    "len(sequence_list)"
   ]
  },
  {
   "cell_type": "code",
   "execution_count": 17,
   "metadata": {},
   "outputs": [],
   "source": [
    "def generate_rules_and_rewards(num_rules=5, rule_length=4, reward_range=(1, 20), sequence_length=12):\n",
    "    \"\"\"\n",
    "    Generate rules, rewards, and starting positions for the rules.\n",
    "    \"\"\"\n",
    "    rules = set()\n",
    "    rewards = []\n",
    "    starting_positions = []\n",
    "\n",
    "    while len(rules) < num_rules:\n",
    "        rule = tuple(np.random.randint(0, 2, size=rule_length))  # Generate a random rule\n",
    "        if rule not in rules:\n",
    "            rules.add(rule)\n",
    "            reward = np.random.randint(reward_range[0], reward_range[1])  # Generate a random reward\n",
    "            rewards.append(reward)\n",
    "            # Generate one or more starting positions for the rule\n",
    "            positions = np.random.choice(range(sequence_length - rule_length + 1), size=np.random.randint(1, 12-rule_length), replace=False)\n",
    "            starting_positions.append(list(positions))\n",
    "\n",
    "    return list(rules), rewards, starting_positions\n",
    "\n",
    "\n",
    "def estimate_cost(sequence, rules, rewards, starting_positions):\n",
    "    \"\"\"\n",
    "    Estimate the cost of a sequence based on the rules, rewards, and starting positions.\n",
    "    \"\"\"\n",
    "    reward = 0\n",
    "    rule_length = len(rules[0])\n",
    "\n",
    "    for rule, rule_reward, positions in zip(rules, rewards, starting_positions):\n",
    "        for k in positions:  # Only check the specified starting positions\n",
    "            if k + rule_length <= len(sequence) and np.all(sequence[k:k + rule_length] == rule):\n",
    "                reward += rule_reward\n",
    "                break  # Stop checking further positions for this rule if it matches\n",
    "\n",
    "    return np.abs(reward)"
   ]
  },
  {
   "cell_type": "markdown",
   "metadata": {},
   "source": [
    "<h2>Tests</h2>"
   ]
  },
  {
   "cell_type": "code",
   "execution_count": 6,
   "metadata": {},
   "outputs": [],
   "source": [
    "def monte_carlo_compressive_learning(Phi,sequence_cost,sample_size=200,threshold=20):\n",
    "\n",
    "    #Sample\n",
    "    sample_index = np.random.randint(0,len(sequence_list),sample_size)\n",
    "    sequence_cost_spectrum = np.zeros_like(sequence_cost)\n",
    "    sequence_cost_spectrum[sample_index] = sequence_cost[sample_index]\n",
    "\n",
    "    #Threshold\n",
    "    sequence_cost_spectrum[sequence_cost_spectrum<threshold]=0\n",
    "\n",
    "    #Measurements\n",
    "    y = []\n",
    "    y = np.array(Phi * np.matrix(sequence_cost_spectrum).T).T[0]\n",
    "    y = np.array(y)\n",
    "\n",
    "    #Matching pursuit\n",
    "    omp = OrthogonalMatchingPursuit(n_nonzero_coefs=10)\n",
    "    omp.fit(Phi, y)\n",
    "    coefficients = [ i if i>0 else 0 for i in omp.coef_]\n",
    "\n",
    "    return coefficients"
   ]
  },
  {
   "cell_type": "code",
   "execution_count": 540,
   "metadata": {},
   "outputs": [
    {
     "data": {
      "image/png": "[encoded data removed]",
      "text/plain": [
       "<Figure size 640x480 with 1 Axes>"
      ]
     },
     "metadata": {},
     "output_type": "display_data"
    },
    {
     "name": "stdout",
     "output_type": "stream",
     "text": [
      "1400\n",
      "44\n"
     ]
    }
   ],
   "source": [
    "nb_rules = 3\n",
    "rules1, rewards1,pos1 = generate_rules_and_rewards(num_rules=nb_rules,rule_length=4)\n",
    "# rules2, rewards2,pos2 = generate_rules_and_rewards(num_rules=3,rule_length=2)\n",
    "# rules3, rewards3,pos3 = generate_rules_and_rewards(num_rules=2,rule_length=3)\n",
    "# rules4, rewards4,pos4 = generate_rules_and_rewards(num_rules=2,rule_length=6)\n",
    "# pos1 = [[0,2,4,6,8]]*nb_rules\n",
    "# pos1 = [np.arange(0,4)]*nb_rules\n",
    "pos1 = [ [i] for i in np.random.randint(0,8,nb_rules)]\n",
    "\n",
    "sequence_cost = []\n",
    "for sequence in sequence_list:\n",
    "    rew = 0\n",
    "    rew += estimate_cost(sequence,rules1, rewards1,pos1)\n",
    "    # rew += estimate_cost(sequence,rules2, rewards2, pos2)\n",
    "    # rew += estimate_cost(sequence,rules3, rewards3, pos3)\n",
    "    # rew += estimate_cost(sequence,rules4, rewards4, pos4)\n",
    "    sequence_cost.append(rew)\n",
    "sequence_cost = np.array(sequence_cost)\n",
    "\n",
    "# noise_rate = 0.5\n",
    "# noise_intensity = 10\n",
    "# mask = np.random.rand(len(sequence_cost)) <= noise_rate\n",
    "# noisy_sequence_cost = sequence_cost.copy()\n",
    "# noisy_sequence_cost[mask]+= np.random.normal(0,noise_intensity,len(sequence_cost)).astype(int)[mask]\n",
    "# noisy_sequence_cost=np.abs(noisy_sequence_cost)\n",
    "\n",
    "plt.bar([i for i in np.arange(len(sequence_list))],sequence_cost,width=1.5)\n",
    "plt.show()\n",
    "# plt.bar([i for i in np.arange(len(sequence_list))],noisy_sequence_cost,width=0.5)\n",
    "# plt.show()\n",
    "ma = np.argmax(sequence_cost)\n",
    "print(ma)\n",
    "# print(sequence_list[ma])\n",
    "print(sequence_cost[ma])"
   ]
  },
  {
   "cell_type": "code",
   "execution_count": 541,
   "metadata": {},
   "outputs": [
    {
     "data": {
      "text/plain": [
       "0.47"
      ]
     },
     "execution_count": 541,
     "metadata": {},
     "output_type": "execute_result"
    }
   ],
   "source": [
    "from scipy.optimize import dual_annealing\n",
    "\n",
    "# Define the objective function\n",
    "def my_f(x):\n",
    "    \"\"\"\n",
    "    Objective function to minimize.\n",
    "    Converts x to an integer index and returns the negative sequence cost.\n",
    "    \"\"\"\n",
    "    x = int(round(x[0]))  # Ensure x is a single integer index\n",
    "    if 0 <= x < len(sequence_cost):  # Check bounds\n",
    "        return -sequence_cost[x]\n",
    "    else:\n",
    "        return float('inf')  # Return a large value if out of bounds\n",
    "\n",
    "# Define bounds for the single-dimensional problem\n",
    "bounds = [(0, len(sequence_cost) - 1)]  # Single-dimensional bounds\n",
    "\n",
    "# Perform dual annealing optimization\n",
    "results = []\n",
    "for _ in range(200):\n",
    "    res = dual_annealing(my_f, bounds=bounds, maxiter=200,no_local_search=True)\n",
    "    # print(\"Optimization result:\", res)\n",
    "    results.append(int(round(res.x[0])) in np.argpartition(sequence_cost, -20)[-20:])\n",
    "np.average(results)"
   ]
  },
  {
   "cell_type": "code",
   "execution_count": 542,
   "metadata": {},
   "outputs": [
    {
     "data": {
      "text/plain": [
       "0.6"
      ]
     },
     "execution_count": 542,
     "metadata": {},
     "output_type": "execute_result"
    }
   ],
   "source": [
    "#Random\n",
    "Phi = np.random.rand(250,4096)\n",
    "thresh = np.percentile(sequence_cost,90)\n",
    "\n",
    "res = []\n",
    "for _ in range(300):\n",
    "    coefficients = monte_carlo_compressive_learning(Phi,sequence_cost,threshold=thresh)\n",
    "    good_opt = np.intersect1d(np.argpartition(sequence_cost, -20)[-20:],np.nonzero(coefficients)[0])\n",
    "    res.append(1 if len(good_opt) > 0 else 0)\n",
    "np.average(res)"
   ]
  },
  {
   "cell_type": "code",
   "execution_count": 543,
   "metadata": {},
   "outputs": [
    {
     "data": {
      "text/plain": [
       "0.59"
      ]
     },
     "execution_count": 543,
     "metadata": {},
     "output_type": "execute_result"
    }
   ],
   "source": [
    "#Nearest neighbor quadruplets\n",
    "all_pat = []\n",
    "for i in range(n-3):\n",
    "    all_pat += create_specific_patterns4(i,i+1,i+2,i+3,n)\n",
    "Phi = np.array([dev_pattern(p) for p in all_pat])\n",
    "thresh = np.percentile(sequence_cost,90)\n",
    "\n",
    "res = []\n",
    "for _ in range(600):\n",
    "    coefficients = monte_carlo_compressive_learning(Phi,sequence_cost,threshold=thresh)\n",
    "    good_opt = np.intersect1d(np.argpartition(sequence_cost, -20)[-20:],np.nonzero(coefficients)[0])\n",
    "    res.append(1 if len(good_opt) > 0 else 0)\n",
    "np.average(res)"
   ]
  },
  {
   "cell_type": "code",
   "execution_count": 544,
   "metadata": {},
   "outputs": [
    {
     "data": {
      "text/plain": [
       "0.5466666666666666"
      ]
     },
     "execution_count": 544,
     "metadata": {},
     "output_type": "execute_result"
    }
   ],
   "source": [
    "#Nearest neighbor quintuplets\n",
    "all_pat = []\n",
    "for i in range(n-4):\n",
    "    all_pat += create_specific_patterns5(i,i+1,i+2,i+3,i+4,n)\n",
    "Phi = np.array([dev_pattern(p) for p in all_pat])\n",
    "thresh = np.percentile(sequence_cost,90)\n",
    "\n",
    "res = []\n",
    "for _ in range(300):\n",
    "    coefficients = monte_carlo_compressive_learning(Phi,sequence_cost,threshold=thresh)\n",
    "    good_opt = np.intersect1d(np.argpartition(sequence_cost, -20)[-20:],np.nonzero(coefficients)[0])\n",
    "    res.append(1 if len(good_opt) > 0 else 0)\n",
    "np.average(res)"
   ]
  },
  {
   "cell_type": "code",
   "execution_count": 499,
   "metadata": {},
   "outputs": [
    {
     "name": "stderr",
     "output_type": "stream",
     "text": [
      "c:\\Users\\Baptiste\\Documents\\PhD\\Projects\\.venv\\Lib\\site-packages\\sklearn\\linear_model\\_omp.py:445: RuntimeWarning: Orthogonal matching pursuit ended prematurely due to linear dependence in the dictionary. The requested precision might not have been met.\n",
      "  out = _cholesky_omp(\n",
      "c:\\Users\\Baptiste\\Documents\\PhD\\Projects\\.venv\\Lib\\site-packages\\sklearn\\linear_model\\_omp.py:445: RuntimeWarning: Orthogonal matching pursuit ended prematurely due to linear dependence in the dictionary. The requested precision might not have been met.\n",
      "  out = _cholesky_omp(\n",
      "c:\\Users\\Baptiste\\Documents\\PhD\\Projects\\.venv\\Lib\\site-packages\\sklearn\\linear_model\\_omp.py:445: RuntimeWarning: Orthogonal matching pursuit ended prematurely due to linear dependence in the dictionary. The requested precision might not have been met.\n",
      "  out = _cholesky_omp(\n",
      "c:\\Users\\Baptiste\\Documents\\PhD\\Projects\\.venv\\Lib\\site-packages\\sklearn\\linear_model\\_omp.py:445: RuntimeWarning: Orthogonal matching pursuit ended prematurely due to linear dependence in the dictionary. The requested precision might not have been met.\n",
      "  out = _cholesky_omp(\n"
     ]
    },
    {
     "data": {
      "text/plain": [
       "0.12333333333333334"
      ]
     },
     "execution_count": 499,
     "metadata": {},
     "output_type": "execute_result"
    }
   ],
   "source": [
    "#Nearest neighbor pairs\n",
    "all_pat = []\n",
    "for i in range(n-1):\n",
    "    all_pat += create_specific_patterns(i,i+1,n)\n",
    "Phi = np.array([dev_pattern(p) for p in all_pat])\n",
    "thresh = np.percentile(sequence_cost,90)\n",
    "\n",
    "res = []\n",
    "for _ in range(300):\n",
    "    coefficients = monte_carlo_compressive_learning(Phi,sequence_cost,threshold=thresh)\n",
    "    good_opt = np.intersect1d(np.argpartition(sequence_cost, -20)[-20:],np.nonzero(coefficients)[0])\n",
    "    res.append(1 if len(good_opt) > 0 else 0)\n",
    "np.average(res)"
   ]
  },
  {
   "cell_type": "code",
   "execution_count": 500,
   "metadata": {},
   "outputs": [
    {
     "data": {
      "text/plain": [
       "0.33666666666666667"
      ]
     },
     "execution_count": 500,
     "metadata": {},
     "output_type": "execute_result"
    }
   ],
   "source": [
    "#All pairs\n",
    "all_pat = []\n",
    "all_pat = []\n",
    "for i in range(n):\n",
    "    for j in range(i+1,n):\n",
    "        all_pat += create_specific_patterns(i,j,n)\n",
    "Phi = np.array([dev_pattern(p) for p in all_pat])\n",
    "thresh = np.percentile(sequence_cost,90)\n",
    "\n",
    "res = []\n",
    "for _ in range(300):\n",
    "    coefficients = monte_carlo_compressive_learning(Phi,sequence_cost,threshold=thresh)\n",
    "    good_opt = np.intersect1d(np.argpartition(sequence_cost, -20)[-20:],np.nonzero(coefficients)[0])\n",
    "    res.append(1 if len(good_opt) > 0 else 0)\n",
    "np.average(res)"
   ]
  },
  {
   "cell_type": "code",
   "execution_count": 501,
   "metadata": {},
   "outputs": [
    {
     "name": "stderr",
     "output_type": "stream",
     "text": [
      "c:\\Users\\Baptiste\\Documents\\PhD\\Projects\\.venv\\Lib\\site-packages\\sklearn\\linear_model\\_omp.py:445: RuntimeWarning: Orthogonal matching pursuit ended prematurely due to linear dependence in the dictionary. The requested precision might not have been met.\n",
      "  out = _cholesky_omp(\n"
     ]
    },
    {
     "data": {
      "text/plain": [
       "0.21"
      ]
     },
     "execution_count": 501,
     "metadata": {},
     "output_type": "execute_result"
    }
   ],
   "source": [
    "#Nearest neighbor triplets\n",
    "all_pat = []\n",
    "for i in range(n-2):\n",
    "    all_pat += create_specific_patterns3(i,i+1,i+2,n)\n",
    "Phi = np.array([dev_pattern(p) for p in all_pat])\n",
    "thresh = np.percentile(sequence_cost,90)\n",
    "\n",
    "res = []\n",
    "for _ in range(300):\n",
    "    coefficients = monte_carlo_compressive_learning(Phi,sequence_cost,threshold=thresh)\n",
    "    good_opt = np.intersect1d(np.argpartition(sequence_cost, -20)[-20:],np.nonzero(coefficients)[0])\n",
    "    res.append(1 if len(good_opt) > 0 else 0)\n",
    "np.average(res)"
   ]
  },
  {
   "cell_type": "code",
   "execution_count": 379,
   "metadata": {},
   "outputs": [
    {
     "data": {
      "text/plain": [
       "0.2"
      ]
     },
     "execution_count": 379,
     "metadata": {},
     "output_type": "execute_result"
    }
   ],
   "source": [
    "#All quadruplets\n",
    "all_pat = []\n",
    "for i in range(n):\n",
    "    for j in range(i+1,n):\n",
    "        for k in range(j+1,n):\n",
    "            for l in range(k+1,n):\n",
    "                all_pat += create_specific_patterns4(i,j,k,l,n)\n",
    "Phi = np.array([dev_pattern(p) for p in all_pat])\n",
    "thresh = np.percentile(sequence_cost,90)\n",
    "\n",
    "res = []\n",
    "for _ in range(20):\n",
    "    coefficients = monte_carlo_compressive_learning(Phi,sequence_cost,threshold=thresh)\n",
    "    good_opt = np.intersect1d(np.argpartition(sequence_cost, -20)[-20:],np.nonzero(coefficients)[0])\n",
    "    res.append(1 if len(good_opt) > 0 else 0)\n",
    "np.average(res)"
   ]
  },
  {
   "cell_type": "code",
   "execution_count": null,
   "metadata": {},
   "outputs": [
    {
     "data": {
      "text/plain": [
       "0.93"
      ]
     },
     "execution_count": 47,
     "metadata": {},
     "output_type": "execute_result"
    }
   ],
   "source": [
    "#Nearest neighbor octuplets\n",
    "all_pat = []\n",
    "for i in range(n-7):\n",
    "    all_pat += create_specific_patterns8(i,i+1,i+2,i+3,i+4,i+5,i+6,i+7,n)\n",
    "Phi = np.array([dev_pattern(p) for p in all_pat])\n",
    "\n",
    "res = []\n",
    "for _ in range(100):\n",
    "    coefficients = monte_carlo_compressive_learning(Phi,sequence_cost,threshold=thresh)\n",
    "    good_opt = np.intersect1d(np.argpartition(sequence_cost, -20)[-20:],np.nonzero(coefficients)[0])\n",
    "    res.append(1 if len(good_opt) > 0 else 0)\n",
    "np.average(res)"
   ]
  }
 ],
 "metadata": {
  "kernelspec": {
   "display_name": ".venv",
   "language": "python",
   "name": "python3"
  },
  "language_info": {
   "codemirror_mode": {
    "name": "ipython",
    "version": 3
   },
   "file_extension": ".py",
   "mimetype": "text/x-python",
   "name": "python",
   "nbconvert_exporter": "python",
   "pygments_lexer": "ipython3",
   "version": "3.12.3"
  }
 },
 "nbformat": 4,
 "nbformat_minor": 2
}
