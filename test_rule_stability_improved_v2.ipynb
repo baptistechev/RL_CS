{
 "cells": [
  {
   "cell_type": "code",
   "execution_count": 1,
   "id": "b20ec18d",
   "metadata": {},
   "outputs": [],
   "source": [
    "import numpy as np\n",
    "import matplotlib.pyplot as plt\n",
    "from sklearn.linear_model import OrthogonalMatchingPursuit\n",
    "import copy\n",
    "from collections import Counter\n",
    "import random\n",
    "import itertools"
   ]
  },
  {
   "cell_type": "code",
   "execution_count": 2,
   "id": "5b79b31c",
   "metadata": {},
   "outputs": [],
   "source": [
    "def bin_to_pattern(x):\n",
    "    return [ [1-int(i), int(i)] for i in x ]\n",
    "def create_specific_patterns(mode1,mode2,size):\n",
    "    pats =[]\n",
    "    for i in range(2):\n",
    "        for j in range(2):\n",
    "            pats.append( [[1,1]]*mode1 + bin_to_pattern(str(i)) + [[1,1]]*(mode2-mode1-1) + bin_to_pattern(str(j)) + [[1,1]]*(size-mode1-(mode2-mode1-1)-2) )\n",
    "    return pats\n",
    "def create_specific_patterns3(mode1,mode2,mode3,size):\n",
    "    pats =[]\n",
    "    for i in range(2):\n",
    "        for j in range(2):\n",
    "            for k in range(2):\n",
    "                pats.append( [[1,1]]*mode1 + bin_to_pattern(str(i)) + [[1,1]]*(mode2-mode1-1) + bin_to_pattern(str(j)) + [[1,1]]*(mode3-(mode2-mode1-1)-mode1-2) + bin_to_pattern(str(k)) + [[1,1]]*(size -mode1-(mode2-mode1-1)-(mode3-(mode2-mode1-1)-mode1-2)-3) )\n",
    "    return pats\n",
    "def create_specific_patterns4(mode1,mode2,mode3,mode4,size):\n",
    "    pats = []\n",
    "    temp_pats = create_specific_patterns3(mode1,mode2,mode3,size)\n",
    "    for p in temp_pats:\n",
    "        for k in range(2):\n",
    "            p_prime = copy.deepcopy(p)\n",
    "            p_prime[mode4] = bin_to_pattern(str(k))[0]\n",
    "            pats.append(p_prime)\n",
    "    return pats\n",
    "def create_specific_patterns5(mode1, mode2, mode3, mode4, mode5, size):\n",
    "    \"\"\"\n",
    "    Generate specific patterns for 5 modes.\n",
    "    \"\"\"\n",
    "    pats = []\n",
    "    temp_pats = create_specific_patterns4(mode1, mode2, mode3, mode4, size)\n",
    "    for p in temp_pats:\n",
    "        for k in range(2):\n",
    "            p_prime = copy.deepcopy(p)\n",
    "            p_prime[mode5] = bin_to_pattern(str(k))[0]\n",
    "            pats.append(p_prime)\n",
    "    return pats\n",
    "def create_specific_patterns8(mode1, mode2, mode3, mode4, mode5, mode6, mode7, mode8, size):\n",
    "    \"\"\"\n",
    "    Generate specific patterns for 8 modes.\n",
    "    \"\"\"\n",
    "    pats = []\n",
    "    temp_pats = create_specific_patterns5(mode1, mode2, mode3, mode4, mode5, size)\n",
    "    for p in temp_pats:\n",
    "        for k in range(2):\n",
    "            p_prime = copy.deepcopy(p)\n",
    "            p_prime[mode6] = bin_to_pattern(str(k))[0]\n",
    "            for l in range(2):\n",
    "                p_prime2 = copy.deepcopy(p_prime)\n",
    "                p_prime2[mode7] = bin_to_pattern(str(l))[0]\n",
    "                for m in range(2):\n",
    "                    p_prime3 = copy.deepcopy(p_prime2)\n",
    "                    p_prime3[mode8] = bin_to_pattern(str(m))[0]\n",
    "                    pats.append(p_prime3)\n",
    "    return pats\n",
    "def dev_pattern(pat):\n",
    "    f = np.array([1])\n",
    "    for i in pat:\n",
    "        f = np.kron(f,i)\n",
    "    return f"
   ]
  },
  {
   "cell_type": "code",
   "execution_count": 3,
   "id": "be45d0a6",
   "metadata": {},
   "outputs": [],
   "source": [
    "def stringify(seq):\n",
    "    string = ''\n",
    "    for n in seq:\n",
    "        string+=str(n)\n",
    "    return string"
   ]
  },
  {
   "cell_type": "code",
   "execution_count": 4,
   "id": "330aded1",
   "metadata": {},
   "outputs": [
    {
     "data": {
      "text/plain": [
       "16384"
      ]
     },
     "execution_count": 4,
     "metadata": {},
     "output_type": "execute_result"
    }
   ],
   "source": [
    "n = 14\n",
    "sequence_list = np.array([np.array(list(bin(i)[3:]),dtype=np.int32) for i in range(2**n, 2**(n+1))])\n",
    "len(sequence_list)"
   ]
  },
  {
   "cell_type": "code",
   "execution_count": 5,
   "id": "50cd75ff",
   "metadata": {},
   "outputs": [],
   "source": [
    "def generate_rules_and_rewards(num_rules=5, rule_length=4, reward_range=(1, 20), sequence_length=12):\n",
    "    \"\"\"\n",
    "    Generate rules, rewards, and starting positions for the rules.\n",
    "    \"\"\"\n",
    "    rules = set()\n",
    "    rewards = []\n",
    "    starting_positions = []\n",
    "\n",
    "    while len(rules) < num_rules:\n",
    "        rule = tuple(np.random.randint(0, 2, size=rule_length))  # Generate a random rule\n",
    "        if rule not in rules:\n",
    "            rules.add(rule)\n",
    "            reward = np.random.randint(reward_range[0], reward_range[1])  # Generate a random reward\n",
    "            rewards.append(reward)\n",
    "            # Generate one or more starting positions for the rule\n",
    "            positions = np.random.choice(range(sequence_length - rule_length + 1), size=np.random.randint(1, 12-rule_length), replace=False)\n",
    "            starting_positions.append(list(positions))\n",
    "\n",
    "    return list(rules), rewards, starting_positions\n",
    "\n",
    "\n",
    "def estimate_cost(sequence, rules, rewards, starting_positions=None):\n",
    "    \"\"\"\n",
    "    Estimate the cost of a sequence based on the rules, rewards, and starting positions.\n",
    "    \"\"\"\n",
    "    if rules== [] or rewards == []:\n",
    "        return 0\n",
    "\n",
    "    if starting_positions is None:\n",
    "        starting_positions = [list(range(len(sequence) - len(rules[0]) + 1))] * len(rules)\n",
    "\n",
    "    reward = 0\n",
    "    rule_length = len(rules[0])\n",
    "\n",
    "    for rule, rule_reward, positions in zip(rules, rewards, starting_positions):\n",
    "        for k in positions:  # Only check the specified starting positions\n",
    "            if k + rule_length <= len(sequence) and np.all(sequence[k:k + rule_length] == rule):\n",
    "                reward += rule_reward\n",
    "                # break  # Stop checking further positions for this rule if it matches\n",
    "\n",
    "    return np.abs(reward)"
   ]
  },
  {
   "cell_type": "code",
   "execution_count": 7,
   "id": "0f57af9e",
   "metadata": {},
   "outputs": [],
   "source": [
    "def random_repartition(nb_rules,into=5):\n",
    "    \"\"\"\n",
    "    Generate a random repartition of 5 values whose sum equals nb_rules.\n",
    "    \"\"\"\n",
    "    values = np.random.multinomial(nb_rules, [1/into]*into)\n",
    "    return values\n"
   ]
  },
  {
   "cell_type": "code",
   "execution_count": 7,
   "id": "1b3920a3",
   "metadata": {},
   "outputs": [],
   "source": [
    "# Generate all possible rules of size 3 as tuples\n",
    "all_rules = [tuple(int(x) for x in format(i, '03b')) for i in range(2**3)]\n",
    "\n",
    "# Generate all possible sets of two rules (as arrays)\n",
    "all_sets_of_two = [rule_set for rule_set in itertools.combinations(all_rules, 2)] "
   ]
  },
  {
   "cell_type": "code",
   "execution_count": 9,
   "id": "8e216da0",
   "metadata": {},
   "outputs": [
    {
     "name": "stdout",
     "output_type": "stream",
     "text": [
      "((0, 0, 1), (1, 1, 1)) [15, 5]\n"
     ]
    },
    {
     "data": {
      "image/png": "[encoded data removed]",
      "text/plain": [
       "<Figure size 640x480 with 1 Axes>"
      ]
     },
     "metadata": {},
     "output_type": "display_data"
    }
   ],
   "source": [
    "np.random.shuffle(all_sets_of_two)\n",
    "rules1 = all_sets_of_two[0]\n",
    "rewards1 = [random.randint(1, 20) for _ in range(len(rules1))]\n",
    "\n",
    "print(rules1,rewards1)\n",
    "\n",
    "sequence_cost = []\n",
    "for sequence in sequence_list:\n",
    "    rew = 0\n",
    "    rew += estimate_cost(sequence,rules1, rewards1)\n",
    "    # rew += estimate_cost(sequence,rules2, rewards2)\n",
    "    # rew += estimate_cost(sequence,rules3, rewards3)\n",
    "    sequence_cost.append(rew)\n",
    "sequence_cost = np.array(sequence_cost)\n",
    "sequence_cost = sequence_cost /np.linalg.norm(sequence_cost)\n",
    "\n",
    "plt.bar([i for i in np.arange(len(sequence_list))],sequence_cost,width=1.5)\n",
    "plt.show()"
   ]
  },
  {
   "cell_type": "code",
   "execution_count": 45,
   "id": "a7fa114f",
   "metadata": {},
   "outputs": [],
   "source": [
    "#pairs\n",
    "# all_pat = []\n",
    "# for i in range(n-1):\n",
    "#     all_pat += create_specific_patterns(i,i+1,n)\n",
    "# Phi = np.array([dev_pattern(p) for p in all_pat])\n",
    "\n",
    "#quadruplets\n",
    "all_pat = []\n",
    "for i in range(n-3):\n",
    "    all_pat += create_specific_patterns4(i,i+1,i+2,i+3,n)\n",
    "Phi = np.array([dev_pattern(p) for p in all_pat])\n",
    "\n",
    "#quintuplets\n",
    "# all_pat = []\n",
    "# for i in range(n-4):\n",
    "#     all_pat += create_specific_patterns5(i,i+1,i+2,i+3,i+4,n)\n",
    "# Phi = np.array([dev_pattern(p) for p in all_pat])\n",
    "\n",
    "#random\n",
    "Phi = np.random.randn(50,2**n)\n",
    "\n",
    "y1 = Phi @ sequence_cost\n",
    "y1 = y1 / np.linalg.norm(y1)\n",
    "\n",
    "threshold_level = 80\n",
    "thresh =  np.percentile(sequence_cost, threshold_level)\n",
    "sequence_cost_thresh = sequence_cost.copy()\n",
    "sequence_cost_thresh[sequence_cost_thresh < thresh] = 0\n",
    "\n",
    "y1_thresh = Phi @ sequence_cost_thresh\n",
    "y1_thresh = y1_thresh / np.linalg.norm(y1_thresh)\n",
    "\n",
    "var = np.var(sequence_cost)\n",
    "var_thresh = np.var(sequence_cost_thresh)"
   ]
  },
  {
   "cell_type": "code",
   "execution_count": 11,
   "id": "fc15f808",
   "metadata": {},
   "outputs": [],
   "source": [
    "distance_different_rules = []\n",
    "for rule in all_sets_of_two[1:]:\n",
    "    sequence_cost2 = []\n",
    "    for sequence in sequence_list:\n",
    "        rew = 0\n",
    "        rew += estimate_cost(sequence,rule, rewards1)\n",
    "        sequence_cost2.append(rew)\n",
    "    sequence_cost2 = np.array(sequence_cost2)\n",
    "    sequence_cost2 = sequence_cost2 / np.linalg.norm(sequence_cost2)\n",
    "\n",
    "    y2 = Phi @ sequence_cost2\n",
    "    y2 = y2 / np.linalg.norm(y2)\n",
    "\n",
    "    d = np.linalg.norm(y1-y2)\n",
    "    distance_different_rules.append(d)\n",
    "bound = np.min(distance_different_rules)"
   ]
  },
  {
   "cell_type": "code",
   "execution_count": 12,
   "id": "23f1784f",
   "metadata": {},
   "outputs": [],
   "source": [
    "distance_different_rules_thresh = []\n",
    "for rule in all_sets_of_two[1:]:\n",
    "    sequence_cost2 = []\n",
    "    for sequence in sequence_list:\n",
    "        rew = 0\n",
    "        rew += estimate_cost(sequence,rule, rewards1)\n",
    "        sequence_cost2.append(rew)\n",
    "    sequence_cost2 = np.array(sequence_cost2)\n",
    "    sequence_cost2 = sequence_cost2 / np.linalg.norm(sequence_cost2)\n",
    "\n",
    "    thresh =  np.percentile(sequence_cost2, threshold_level)\n",
    "    sequence_cost2_thresh = sequence_cost2.copy()\n",
    "    sequence_cost2_thresh[sequence_cost2_thresh < thresh] = 0\n",
    "    y2_thresh = Phi @ sequence_cost2_thresh\n",
    "    y2_thresh = y2_thresh / np.linalg.norm(y2_thresh)\n",
    "\n",
    "    d = np.linalg.norm(y1_thresh - y2_thresh)\n",
    "    distance_different_rules_thresh.append(d)\n",
    "bound_thresh = np.min(distance_different_rules_thresh)"
   ]
  },
  {
   "cell_type": "code",
   "execution_count": 38,
   "id": "f67ed490",
   "metadata": {},
   "outputs": [
    {
     "data": {
      "image/png": "[encoded data removed]",
      "text/plain": [
       "<Figure size 640x480 with 1 Axes>"
      ]
     },
     "metadata": {},
     "output_type": "display_data"
    },
    {
     "data": {
      "image/png": "[encoded data removed]",
      "text/plain": [
       "<Figure size 640x480 with 1 Axes>"
      ]
     },
     "metadata": {},
     "output_type": "display_data"
    }
   ],
   "source": [
    "avgdistances = []\n",
    "avgdistances_thresh = []\n",
    "sp_size_range = [200,300,500, 1000, 2000, 3000, 4000,6000,10000] \n",
    "for sample_size in sp_size_range:\n",
    "\n",
    "    moments = []\n",
    "    moments_thresh = []\n",
    "    for _ in range(1000):\n",
    "        sample_index = np.random.randint(0,len(sequence_list),sample_size)\n",
    "        sequence_cost_spectrum = np.zeros_like(sequence_cost)\n",
    "        sequence_cost_spectrum[sample_index] = sequence_cost[sample_index]\n",
    "\n",
    "        m = Phi @ sequence_cost_spectrum\n",
    "        m = m / np.linalg.norm(m)\n",
    "        moments.append(m)\n",
    "\n",
    "        thresh =  np.percentile(sequence_cost, threshold_level)\n",
    "        sequence_cost_spectrum[sequence_cost_spectrum<=thresh]=0\n",
    "\n",
    "        m = Phi @ sequence_cost_spectrum\n",
    "        m = m / np.linalg.norm(m)\n",
    "        moments_thresh.append(m)\n",
    "\n",
    "    distances = []\n",
    "    for i in range(1,len(moments)):\n",
    "        distances.append(np.linalg.norm(moments[i] - y1))\n",
    "    avgdistances.append(np.average(distances))\n",
    "\n",
    "    distances = []\n",
    "    for i in range(1,len(moments)):\n",
    "        distances.append(np.linalg.norm(moments_thresh[i] - y1))\n",
    "    avgdistances_thresh.append(np.average(distances))\n",
    "\n",
    "plt.plot(sp_size_range, avgdistances, marker='o')\n",
    "# plt.hlines([np.partition(distance_different_rules, 25)[:25]], xmin=sp_size_range[0], xmax=sp_size_range[-1], colors='g', linestyles='--', label='Distances without threshold')\n",
    "plt.hlines([np.mean(distance_different_rules)], xmin=sp_size_range[0], xmax=sp_size_range[-1], colors='r', linestyles='--', label='Distances without threshold')\n",
    "plt.show()\n",
    "plt.plot(sp_size_range, avgdistances_thresh, marker='o')\n",
    "# plt.hlines([np.partition(distance_different_rules_thresh, 25)[:25]], xmin=sp_size_range[0], xmax=sp_size_range[-1], colors='g', linestyles='--', label='Distances with threshold')\n",
    "plt.hlines([np.mean(distance_different_rules_thresh)], xmin=sp_size_range[0], xmax=sp_size_range[-1], colors='r', linestyles='--', label='Distances without threshold')\n",
    "plt.show()"
   ]
  },
  {
   "cell_type": "markdown",
   "id": "a4359dd8",
   "metadata": {},
   "source": [
    "<h2>Test on equation 1</h2>"
   ]
  },
  {
   "cell_type": "code",
   "execution_count": 8,
   "id": "1302caa0",
   "metadata": {},
   "outputs": [
    {
     "data": {
      "image/png": "[encoded data removed]",
      "text/plain": [
       "<Figure size 640x480 with 1 Axes>"
      ]
     },
     "metadata": {},
     "output_type": "display_data"
    }
   ],
   "source": [
    "def generate_problem(total_nb_rules=5):\n",
    "    nb_rules = random_repartition(total_nb_rules,into=3)\n",
    "\n",
    "    rules1, rewards1,pos1 = generate_rules_and_rewards(num_rules=nb_rules[0],rule_length=4)\n",
    "    rules2, rewards2,pos2 = generate_rules_and_rewards(num_rules=nb_rules[1],rule_length=5)\n",
    "    rules3, rewards3,pos3 = generate_rules_and_rewards(num_rules=nb_rules[2],rule_length=6)\n",
    "    # pos1 = [ [i] for i in np.random.randint(0,8,nb_rules)]\n",
    "\n",
    "    sequence_cost = []\n",
    "    for sequence in sequence_list:\n",
    "        rew = 0\n",
    "        rew += estimate_cost(sequence,rules1, rewards1)\n",
    "        rew += estimate_cost(sequence,rules2, rewards2)\n",
    "        rew += estimate_cost(sequence,rules3, rewards3)\n",
    "        sequence_cost.append(rew)\n",
    "    sequence_cost = np.array(sequence_cost)\n",
    "    sequence_cost = sequence_cost /np.linalg.norm(sequence_cost)\n",
    "\n",
    "    return sequence_cost\n",
    "\n",
    "sequence_cost = generate_problem(5)\n",
    "plt.bar([i for i in np.arange(len(sequence_list))],sequence_cost,width=1.5)\n",
    "plt.show()"
   ]
  },
  {
   "cell_type": "code",
   "execution_count": 9,
   "id": "579ce331",
   "metadata": {},
   "outputs": [],
   "source": [
    "def mean_of_sparse(spectrum):\n",
    "    mean = 0\n",
    "    for v in spectrum:\n",
    "        if v != 0:\n",
    "            mean += v\n",
    "    return mean / np.count_nonzero(spectrum)\n",
    "\n",
    "def variance_of_sparse(spectrum):\n",
    "    mean = mean_of_sparse(spectrum)\n",
    "    variance = 0\n",
    "    for v in spectrum:\n",
    "        if v != 0:\n",
    "            variance += (v - mean) ** 2\n",
    "    return variance / np.count_nonzero(spectrum)"
   ]
  },
  {
   "cell_type": "code",
   "execution_count": 22,
   "id": "37e7594e",
   "metadata": {},
   "outputs": [
    {
     "data": {
      "text/plain": [
       "0.0029213312331488423"
      ]
     },
     "execution_count": 22,
     "metadata": {},
     "output_type": "execute_result"
    }
   ],
   "source": [
    "#random\n",
    "Phi = np.random.uniform(0,1,2**n)\n",
    "\n",
    "y1 = np.mean(Phi * sequence_cost)\n",
    "y1"
   ]
  },
  {
   "cell_type": "code",
   "execution_count": 27,
   "id": "56a3eed8",
   "metadata": {},
   "outputs": [
    {
     "data": {
      "text/plain": [
       "0.0017516734840007965"
      ]
     },
     "execution_count": 27,
     "metadata": {},
     "output_type": "execute_result"
    }
   ],
   "source": [
    "moment = []\n",
    "for _ in range(2000):\n",
    "    sample_index = np.random.randint(0,len(sequence_list),15000)\n",
    "    sequence_cost_spectrum = np.zeros_like(sequence_cost)\n",
    "    sequence_cost_spectrum[sample_index] = sequence_cost[sample_index]\n",
    "\n",
    "    y1_approx = np.mean(Phi*sequence_cost_spectrum)\n",
    "    moment.append(y1_approx)\n",
    "np.mean(moment)"
   ]
  },
  {
   "cell_type": "code",
   "execution_count": 192,
   "id": "6473ec60",
   "metadata": {},
   "outputs": [
    {
     "data": {
      "image/png": "[encoded data removed]",
      "text/plain": [
       "<Figure size 640x480 with 1 Axes>"
      ]
     },
     "metadata": {},
     "output_type": "display_data"
    }
   ],
   "source": [
    "y1_approx = 0\n",
    "k_range = [100, 200, 500, 1000, 2000, 3000, 4000, 6000, 10000]\n",
    "\n",
    "\n",
    "distance = []\n",
    "for k in k_range:\n",
    "    moment = []\n",
    "    for _ in range(1000):\n",
    "        sample_index = np.random.randint(0,len(sequence_list),k)\n",
    "        sequence_cost_spectrum = np.zeros_like(sequence_cost)\n",
    "        sequence_cost_spectrum[sample_index] = sequence_cost[sample_index]\n",
    "\n",
    "        y1_approx = np.mean(Phi*sequence_cost_spectrum)\n",
    "        moment.append(y1_approx)\n",
    "    moment = np.array(moment)\n",
    "    distance.append(np.mean( (moment - y1)**2 ))\n",
    "\n",
    "plt.scatter(k_range, distance, marker='o')\n",
    "plt.show()"
   ]
  },
  {
   "cell_type": "code",
   "execution_count": null,
   "id": "e61ef142",
   "metadata": {},
   "outputs": [],
   "source": [
    "sp_size_range = [200,300,500, 1000, 2000, 3000, 4000,6000,10000] \n",
    "for sample_size in sp_size_range:\n",
    "\n",
    "    moments = []\n",
    "    for _ in range(1000):\n",
    "        sample_index = np.random.randint(0,len(sequence_list),sample_size)\n",
    "        sequence_cost_spectrum = np.zeros_like(sequence_cost)\n",
    "        sequence_cost_spectrum[sample_index] = sequence_cost[sample_index]\n",
    "\n",
    "        m = Phi @ sequence_cost_spectrum\n",
    "        m = m / np.linalg.norm(m)\n",
    "        moments.append(m)\n",
    "\n",
    "    distances = []\n",
    "    for i in range(1,len(moments)):\n",
    "        distances.append(np.linalg.norm(moments[i] - y1))\n",
    "    avgdistances.append(np.average(distances))\n",
    "\n"
   ]
  },
  {
   "cell_type": "code",
   "execution_count": 21,
   "id": "fb1d13c7",
   "metadata": {},
   "outputs": [],
   "source": [
    "import pandas as pd\n",
    "\n",
    "def save_avgdistances_to_csv(avgdistances, avgdistances_thresh, filename):\n",
    "    \"\"\"\n",
    "    Save avgdistances and avgdistances_thresh to a CSV file.\n",
    "    Each will be a column in the CSV.\n",
    "    \"\"\"\n",
    "    df = pd.DataFrame({\n",
    "        'avgdistances': avgdistances,\n",
    "        'avgdistances_thresh': avgdistances_thresh\n",
    "    })\n",
    "    df.to_csv(filename, index=False)\n",
    "\n",
    "# Example usage:\n",
    "# avgdistances = np.random.rand(10)\n",
    "# avgdistances_thresh = np.random.rand(10)\n",
    "save_avgdistances_to_csv(avgdistances, avgdistances_thresh, 'output.csv')"
   ]
  }
 ],
 "metadata": {
  "kernelspec": {
   "display_name": ".venv",
   "language": "python",
   "name": "python3"
  },
  "language_info": {
   "codemirror_mode": {
    "name": "ipython",
    "version": 3
   },
   "file_extension": ".py",
   "mimetype": "text/x-python",
   "name": "python",
   "nbconvert_exporter": "python",
   "pygments_lexer": "ipython3",
   "version": "3.12.3"
  }
 },
 "nbformat": 4,
 "nbformat_minor": 5
}
