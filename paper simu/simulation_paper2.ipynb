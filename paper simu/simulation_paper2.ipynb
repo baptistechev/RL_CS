{
 "cells": [
  {
   "cell_type": "code",
   "execution_count": 1,
   "metadata": {},
   "outputs": [],
   "source": [
    "import numpy as np\n",
    "import matplotlib.pyplot as plt\n",
    "from sklearn.linear_model import OrthogonalMatchingPursuit\n",
    "import copy\n",
    "from collections import Counter\n",
    "import json\n",
    "\n",
    "import warnings\n",
    "\n",
    "# Filtrer les avertissements spécifiques\n",
    "warnings.filterwarnings(\"ignore\", message=\"Orthogonal matching pursuit ended prematurely due to linear dependence in the dictionary\")"
   ]
  },
  {
   "cell_type": "code",
   "execution_count": 2,
   "metadata": {},
   "outputs": [],
   "source": [
    "def bin_to_pattern(x):\n",
    "    return [ [1-int(i), int(i)] for i in x ]\n",
    "def create_specific_patterns(mode1,mode2,size):\n",
    "    pats =[]\n",
    "    for i in range(2):\n",
    "        for j in range(2):\n",
    "            pats.append( [[1,1]]*mode1 + bin_to_pattern(str(i)) + [[1,1]]*(mode2-mode1-1) + bin_to_pattern(str(j)) + [[1,1]]*(size-mode1-(mode2-mode1-1)-2) )\n",
    "    return pats\n",
    "def create_specific_patterns3(mode1,mode2,mode3,size):\n",
    "    pats =[]\n",
    "    for i in range(2):\n",
    "        for j in range(2):\n",
    "            for k in range(2):\n",
    "                pats.append( [[1,1]]*mode1 + bin_to_pattern(str(i)) + [[1,1]]*(mode2-mode1-1) + bin_to_pattern(str(j)) + [[1,1]]*(mode3-(mode2-mode1-1)-mode1-2) + bin_to_pattern(str(k)) + [[1,1]]*(size -mode1-(mode2-mode1-1)-(mode3-(mode2-mode1-1)-mode1-2)-3) )\n",
    "    return pats\n",
    "def create_specific_patterns4(mode1,mode2,mode3,mode4,size):\n",
    "    pats = []\n",
    "    temp_pats = create_specific_patterns3(mode1,mode2,mode3,size)\n",
    "    for p in temp_pats:\n",
    "        for k in range(2):\n",
    "            p_prime = copy.deepcopy(p)\n",
    "            p_prime[mode4] = bin_to_pattern(str(k))[0]\n",
    "            pats.append(p_prime)\n",
    "    return pats\n",
    "def create_specific_patterns5(mode1, mode2, mode3, mode4, mode5, size):\n",
    "    \"\"\"\n",
    "    Generate specific patterns for 5 modes.\n",
    "    \"\"\"\n",
    "    pats = []\n",
    "    temp_pats = create_specific_patterns4(mode1, mode2, mode3, mode4, size)\n",
    "    for p in temp_pats:\n",
    "        for k in range(2):\n",
    "            p_prime = copy.deepcopy(p)\n",
    "            p_prime[mode5] = bin_to_pattern(str(k))[0]\n",
    "            pats.append(p_prime)\n",
    "    return pats\n",
    "def create_specific_patterns8(mode1, mode2, mode3, mode4, mode5, mode6, mode7, mode8, size):\n",
    "    \"\"\"\n",
    "    Generate specific patterns for 8 modes.\n",
    "    \"\"\"\n",
    "    pats = []\n",
    "    temp_pats = create_specific_patterns5(mode1, mode2, mode3, mode4, mode5, size)\n",
    "    for p in temp_pats:\n",
    "        for k in range(2):\n",
    "            p_prime = copy.deepcopy(p)\n",
    "            p_prime[mode6] = bin_to_pattern(str(k))[0]\n",
    "            for l in range(2):\n",
    "                p_prime2 = copy.deepcopy(p_prime)\n",
    "                p_prime2[mode7] = bin_to_pattern(str(l))[0]\n",
    "                for m in range(2):\n",
    "                    p_prime3 = copy.deepcopy(p_prime2)\n",
    "                    p_prime3[mode8] = bin_to_pattern(str(m))[0]\n",
    "                    pats.append(p_prime3)\n",
    "    return pats\n",
    "def dev_pattern(pat):\n",
    "    f = np.array([1])\n",
    "    for i in pat:\n",
    "        f = np.kron(f,i)\n",
    "    return f"
   ]
  },
  {
   "cell_type": "markdown",
   "metadata": {},
   "source": [
    "<h2>Game modeling</h2>"
   ]
  },
  {
   "cell_type": "code",
   "execution_count": 3,
   "metadata": {},
   "outputs": [],
   "source": [
    "def stringify(seq):\n",
    "    string = ''\n",
    "    for n in seq:\n",
    "        string+=str(n)\n",
    "    return string"
   ]
  },
  {
   "cell_type": "code",
   "execution_count": 4,
   "metadata": {},
   "outputs": [
    {
     "data": {
      "text/plain": [
       "4096"
      ]
     },
     "execution_count": 4,
     "metadata": {},
     "output_type": "execute_result"
    }
   ],
   "source": [
    "n = 12\n",
    "sequence_list = np.array([np.array(list(bin(i)[3:]),dtype=np.int32) for i in range(2**n, 2**(n+1))])\n",
    "len(sequence_list)"
   ]
  },
  {
   "cell_type": "code",
   "execution_count": 9,
   "metadata": {},
   "outputs": [],
   "source": [
    "def generate_rules_and_rewards(num_rules=5, rule_length=4, reward_range=(1, 20), sequence_length=12):\n",
    "    \"\"\"\n",
    "    Generate rules, rewards, and starting positions for the rules.\n",
    "    \"\"\"\n",
    "    rules = set()\n",
    "    rewards = []\n",
    "    starting_positions = []\n",
    "\n",
    "    while len(rules) < num_rules:\n",
    "        rule = tuple(np.random.randint(0, 2, size=rule_length))  # Generate a random rule\n",
    "        if rule not in rules:\n",
    "            rules.add(rule)\n",
    "            reward = np.random.randint(reward_range[0], reward_range[1])  # Generate a random reward\n",
    "            rewards.append(reward)\n",
    "            # Generate one or more starting positions for the rule\n",
    "            positions = np.random.choice(range(sequence_length - rule_length + 1), size=np.random.randint(1, 12-rule_length), replace=False)\n",
    "            starting_positions.append(list(positions))\n",
    "\n",
    "    return list(rules), rewards, starting_positions\n",
    "\n",
    "\n",
    "def estimate_cost(sequence, rules, rewards, starting_positions=None):\n",
    "    \"\"\"\n",
    "    Estimate the cost of a sequence based on the rules, rewards, and starting positions.\n",
    "    \"\"\"\n",
    "    if rules== [] or rewards == []:\n",
    "        return 0\n",
    "\n",
    "    if starting_positions is None:\n",
    "        starting_positions = [list(range(len(sequence) - len(rules[0]) + 1))] * len(rules)\n",
    "\n",
    "    reward = 0\n",
    "    rule_length = len(rules[0])\n",
    "\n",
    "    for rule, rule_reward, positions in zip(rules, rewards, starting_positions):\n",
    "        for k in positions:  # Only check the specified starting positions\n",
    "            if k + rule_length <= len(sequence) and np.all(sequence[k:k + rule_length] == rule):\n",
    "                reward += rule_reward\n",
    "                \n",
    "    return np.abs(reward)"
   ]
  },
  {
   "cell_type": "code",
   "execution_count": 10,
   "metadata": {},
   "outputs": [],
   "source": [
    "def monte_carlo_compressive_learning(Phi,sequence_cost,sample_size=200,threshold=20):\n",
    "\n",
    "    #Sample\n",
    "    sample_index = np.random.randint(0,len(sequence_list),sample_size)\n",
    "    sequence_cost_spectrum = np.zeros_like(sequence_cost)\n",
    "    sequence_cost_spectrum[sample_index] = sequence_cost[sample_index]\n",
    "\n",
    "    #Threshold\n",
    "    sequence_cost_spectrum[sequence_cost_spectrum<threshold]=0\n",
    "\n",
    "    #Measurements\n",
    "    y = []\n",
    "    y = np.array(Phi * np.matrix(sequence_cost_spectrum).T).T[0]\n",
    "    y = np.array(y)\n",
    "\n",
    "    #Matching pursuit\n",
    "    omp = OrthogonalMatchingPursuit(n_nonzero_coefs=10)\n",
    "    omp.fit(Phi, y)\n",
    "    coefficients = np.array([ i if i>0 else 0 for i in omp.coef_])\n",
    "\n",
    "    support = np.where(coefficients>0)[0]\n",
    "    if len(support) != 0:\n",
    "        maximum = np.max(sequence_cost[support])\n",
    "        argmax = support[np.argmax(sequence_cost[support])]\n",
    "\n",
    "        return (argmax,maximum)\n",
    "    else:\n",
    "        return (None,0)"
   ]
  },
  {
   "cell_type": "code",
   "execution_count": 11,
   "metadata": {},
   "outputs": [],
   "source": [
    "from scipy.optimize import dual_annealing\n",
    "\n",
    "# Define the objective function\n",
    "def my_f(x):\n",
    "    \"\"\"\n",
    "    Objective function to minimize.\n",
    "    Converts x to an integer index and returns the negative sequence cost.\n",
    "    \"\"\"\n",
    "    x = int(round(x[0]))  # Ensure x is a single integer index\n",
    "    if 0 <= x < len(sequence_cost):  # Check bounds\n",
    "        return -sequence_cost[x]\n",
    "    else:\n",
    "        return float('inf')  # Return a large value if out of bounds\n",
    "\n",
    "# Define bounds for the single-dimensional problem\n",
    "# bounds = [(0, len(sequence_cost) - 1)]  # Single-dimensional bounds"
   ]
  },
  {
   "cell_type": "code",
   "execution_count": 12,
   "metadata": {},
   "outputs": [],
   "source": [
    "import numpy as np\n",
    "\n",
    "def random_repartition(nb_rules,into=5):\n",
    "    \"\"\"\n",
    "    Generate a random repartition of 5 values whose sum equals nb_rules.\n",
    "    \"\"\"\n",
    "    values = np.random.multinomial(nb_rules, [1/into]*into)\n",
    "    return values\n"
   ]
  },
  {
   "cell_type": "markdown",
   "metadata": {},
   "source": [
    "<h2>Step 1</h2>"
   ]
  },
  {
   "cell_type": "code",
   "execution_count": 19,
   "metadata": {},
   "outputs": [
    {
     "data": {
      "image/png": "[encoded data removed]",
      "text/plain": [
       "<Figure size 640x480 with 1 Axes>"
      ]
     },
     "metadata": {},
     "output_type": "display_data"
    },
    {
     "data": {
      "text/plain": [
       "0.08363539172794603"
      ]
     },
     "execution_count": 19,
     "metadata": {},
     "output_type": "execute_result"
    }
   ],
   "source": [
    "def generate_problem(total_nb_rules=5):\n",
    "    nb_rules = random_repartition(total_nb_rules,into=3)\n",
    "\n",
    "    rules1, rewards1,pos1 = generate_rules_and_rewards(num_rules=nb_rules[0],rule_length=4)\n",
    "    rules2, rewards2,pos2 = generate_rules_and_rewards(num_rules=nb_rules[1],rule_length=5)\n",
    "    rules3, rewards3,pos3 = generate_rules_and_rewards(num_rules=nb_rules[2],rule_length=6)\n",
    "    # pos1 = [[0,2,4,6,8]]*nb_rules\n",
    "    # pos1 = [np.arange(0,4)]*nb_rules\n",
    "    # pos1 = [ [i] for i in np.random.randint(0,8,nb_rules)]\n",
    "\n",
    "    sequence_cost = []\n",
    "    for sequence in sequence_list:\n",
    "        rew = 0\n",
    "        rew += estimate_cost(sequence,rules1, rewards1)\n",
    "        rew += estimate_cost(sequence,rules2, rewards2)\n",
    "        rew += estimate_cost(sequence,rules3, rewards3)\n",
    "        sequence_cost.append(rew)\n",
    "    sequence_cost = np.array(sequence_cost)\n",
    "    sequence_cost = sequence_cost /np.linalg.norm(sequence_cost)\n",
    "\n",
    "    return sequence_cost\n",
    "\n",
    "sequence_cost = generate_problem(5)\n",
    "real_argmax = np.argmax(sequence_cost)\n",
    "real_maximum = sequence_cost[real_argmax]\n",
    "plt.bar([i for i in np.arange(len(sequence_list))],sequence_cost,width=1.5)\n",
    "plt.show()\n",
    "real_maximum"
   ]
  },
  {
   "cell_type": "code",
   "execution_count": 23,
   "metadata": {},
   "outputs": [
    {
     "name": "stdout",
     "output_type": "stream",
     "text": [
      "50\n",
      "60\n",
      "70\n",
      "80\n",
      "90\n",
      "100\n",
      "110\n",
      "120\n",
      "130\n",
      "150\n",
      "175\n",
      "200\n",
      "225\n",
      "250\n",
      "275\n",
      "300\n",
      "325\n",
      "350\n",
      "375\n"
     ]
    }
   ],
   "source": [
    "#Random\n",
    "Phi_random = np.random.rand(250,2**n)\n",
    "\n",
    "#Quadruplets\n",
    "all_pat = []\n",
    "for i in range(n-3):\n",
    "    all_pat += create_specific_patterns4(i,i+1,i+2,i+3,n)\n",
    "Phi_quad = np.array([dev_pattern(p) for p in all_pat])\n",
    "\n",
    "#Quintuplets\n",
    "all_pat = []\n",
    "for i in range(n-4):\n",
    "    all_pat += create_specific_patterns5(i,i+1,i+2,i+3,i+4,n)\n",
    "Phi_quint = np.array([dev_pattern(p) for p in all_pat])\n",
    "\n",
    "#Parameters\n",
    "thresh = np.percentile(sequence_cost,90)\n",
    "\n",
    "plot_res = {}\n",
    "plot_res[\"annealing\"] = []\n",
    "plot_res[\"random\"] = []\n",
    "plot_res[\"quadruplets\"] = []\n",
    "plot_res[\"quintuplets\"] = []\n",
    "\n",
    "rg = np.concatenate((np.arange(50,140,10),np.arange(150,400,25)))\n",
    "\n",
    "for sample_size in rg:\n",
    "    print(sample_size)\n",
    "\n",
    "    average_distance = {}\n",
    "    average_distance[\"annealing\"] = []\n",
    "    average_distance[\"random\"] = []\n",
    "    average_distance[\"quadruplets\"] = []\n",
    "    average_distance[\"quintuplets\"] = []\n",
    "\n",
    "    for _ in range(1000):\n",
    "        \n",
    "        # Annealing\n",
    "        bounds = [(0, len(sequence_cost) - 1)]\n",
    "        res = dual_annealing(my_f, bounds=bounds, maxiter=sample_size,no_local_search=True)\n",
    "        argmax = round(res.x[0])\n",
    "        maximum = -res.fun\n",
    "        average_distance[\"annealing\"].append(np.max(sequence_cost) - maximum)\n",
    "\n",
    "        #Random\n",
    "        argmax,maximum = monte_carlo_compressive_learning(Phi_random,sequence_cost,sample_size=sample_size,threshold=thresh)\n",
    "        average_distance[\"random\"].append(np.max(sequence_cost) - maximum)\n",
    "\n",
    "        #Quadruplets\n",
    "        argmax,maximum = monte_carlo_compressive_learning(Phi_quad,sequence_cost,sample_size=sample_size,threshold=thresh)\n",
    "        average_distance[\"quadruplets\"].append(np.max(sequence_cost) - maximum)\n",
    "\n",
    "        #Quintuplets\n",
    "        argmax,maximum = monte_carlo_compressive_learning(Phi_quint,sequence_cost,sample_size=sample_size,threshold=thresh)\n",
    "        average_distance[\"quintuplets\"].append(np.max(sequence_cost) - maximum)\n",
    "\n",
    "    plot_res[\"annealing\"].append(round(np.average(average_distance[\"annealing\"]),ndigits=5))\n",
    "    plot_res[\"random\"].append(round(np.average(average_distance[\"random\"]),ndigits=5))\n",
    "    plot_res[\"quadruplets\"].append(round(np.average(average_distance[\"quadruplets\"]),ndigits=5))\n",
    "    plot_res[\"quintuplets\"].append(round(np.average(average_distance[\"quintuplets\"]),ndigits=5))"
   ]
  },
  {
   "cell_type": "code",
   "execution_count": 28,
   "metadata": {},
   "outputs": [
    {
     "data": {
      "image/png": "[encoded data removed]",
      "text/plain": [
       "<Figure size 640x480 with 1 Axes>"
      ]
     },
     "metadata": {},
     "output_type": "display_data"
    }
   ],
   "source": [
    "rg = np.concatenate((np.arange(50,140,10),np.arange(150,400,25)))\n",
    "plt.scatter(rg,plot_res[\"annealing\"],label=\"Annealing\")\n",
    "plt.scatter(rg,plot_res[\"random\"],label=\"Random\")\n",
    "plt.scatter(rg,plot_res[\"quadruplets\"],label=\"Quadruplets\")\n",
    "plt.scatter(rg,plot_res[\"quintuplets\"],label=\"Quintuplets\")\n",
    "plt.xlabel(\"Sample Size\")\n",
    "plt.ylabel(\"Average Distance to Maximum\")\n",
    "plt.title(\"Average Distance to Maximum vs Sample Size\")\n",
    "plt.legend()\n",
    "plt.show()"
   ]
  },
  {
   "cell_type": "code",
   "execution_count": 64,
   "metadata": {},
   "outputs": [],
   "source": [
    "#Random\n",
    "Phi_random = np.random.rand(250,2**n)\n",
    "\n",
    "#Quadruplets\n",
    "all_pat = []\n",
    "for i in range(n-3):\n",
    "    all_pat += create_specific_patterns4(i,i+1,i+2,i+3,n)\n",
    "Phi_quad = np.array([dev_pattern(p) for p in all_pat])\n",
    "\n",
    "#Quintuplets\n",
    "all_pat = []\n",
    "for i in range(n-4):\n",
    "    all_pat += create_specific_patterns5(i,i+1,i+2,i+3,i+4,n)\n",
    "Phi_quint = np.array([dev_pattern(p) for p in all_pat])\n",
    "\n",
    "#Parameters\n",
    "thresh = np.percentile(sequence_cost,90)\n",
    "sample_size = 250\n",
    "\n",
    "distance = {}\n",
    "distance[\"annealing\"] = []\n",
    "distance[\"random\"] = []\n",
    "distance[\"quadruplets\"] = []\n",
    "distance[\"quintuplets\"] = []\n",
    "\n",
    "for _ in range(5000):\n",
    "    \n",
    "    # Annealing\n",
    "    bounds = [(0, len(sequence_cost) - 1)]\n",
    "    res = dual_annealing(my_f, bounds=bounds, maxiter=sample_size,no_local_search=True)\n",
    "    argmax = round(res.x[0])\n",
    "    maximum = -res.fun\n",
    "    distance[\"annealing\"].append(np.max(sequence_cost) - maximum)\n",
    "\n",
    "    #Random\n",
    "    argmax,maximum = monte_carlo_compressive_learning(Phi_random,sequence_cost,sample_size=sample_size,threshold=thresh)\n",
    "    distance[\"random\"].append(np.max(sequence_cost) - maximum)\n",
    "\n",
    "    #Quadruplets\n",
    "    argmax,maximum = monte_carlo_compressive_learning(Phi_quad,sequence_cost,sample_size=sample_size,threshold=thresh)\n",
    "    distance[\"quadruplets\"].append(np.max(sequence_cost) - maximum)\n",
    "\n",
    "    #Quintuplets\n",
    "    argmax,maximum = monte_carlo_compressive_learning(Phi_quint,sequence_cost,sample_size=sample_size,threshold=thresh)\n",
    "    distance[\"quintuplets\"].append(np.max(sequence_cost) - maximum)"
   ]
  },
  {
   "cell_type": "code",
   "execution_count": null,
   "metadata": {},
   "outputs": [],
   "source": [
    "def count_intervals(data, epsilon=0.015):\n",
    "\n",
    "    values = np.array(data)\n",
    "\n",
    "    # Count values equal to 0\n",
    "    count_zero = np.sum(values == 0)\n",
    "\n",
    "    # Count values in intervals: (0, epsilon], (epsilon, 2*epsilon], ...\n",
    "    max_value = np.max(values)\n",
    "    num_intervals = int(np.ceil(max_value / epsilon))\n",
    "    interval_counts = [count_zero]\n",
    "\n",
    "    for i in range(num_intervals):\n",
    "        lower = i * epsilon\n",
    "        upper = (i + 1) * epsilon\n",
    "        count = np.sum((values > lower) & (values <= upper))\n",
    "        interval_counts.append(count)\n",
    "\n",
    "    return interval_counts\n",
    "\n",
    "interval_counts = {}\n",
    "interval_counts[\"annealing\"] = count_intervals(distance[\"annealing\"])\n",
    "interval_counts[\"random\"] = count_intervals(distance[\"random\"])\n",
    "interval_counts[\"quadruplets\"] = count_intervals(distance[\"quadruplets\"])\n",
    "interval_counts[\"quintuplets\"] = count_intervals(distance[\"quintuplets\"])\n",
    "\n",
    "for val in interval_counts[\"annealing\"]:\n",
    "    print(val)\n",
    "for val in interval_counts[\"random\"]:\n",
    "    print(val)\n",
    "for val in interval_counts[\"quadruplets\"]:\n",
    "    print(val)\n",
    "for val in interval_counts[\"quintuplets\"]:\n",
    "    print(val)\n"
   ]
  },
  {
   "cell_type": "code",
   "execution_count": 69,
   "metadata": {},
   "outputs": [
    {
     "name": "stdout",
     "output_type": "stream",
     "text": [
      "Interval counts exported to interval_counts2.csv\n"
     ]
    }
   ],
   "source": [
    "# Save interval_counts to a CSV file\n",
    "import csv\n",
    "csv_file_intervals = \"interval_counts.csv\"\n",
    "\n",
    "# Prepare header and rows\n",
    "methods = list(interval_counts.keys())\n",
    "num_intervals = max(len(interval_counts[m]) for m in methods)\n",
    "header = [\"Interval\"] + methods\n",
    "\n",
    "rows = []\n",
    "for i in range(num_intervals):\n",
    "    row = [f\"Interval {i}\"]\n",
    "    for m in methods:\n",
    "        if i < len(interval_counts[m]):\n",
    "            row.append(interval_counts[m][i])\n",
    "        else:\n",
    "            row.append(\"\")\n",
    "    rows.append(row)\n",
    "\n",
    "with open(csv_file_intervals, mode=\"w\", newline=\"\") as file:\n",
    "    writer = csv.writer(file)\n",
    "    writer.writerow(header)\n",
    "    writer.writerows(rows)\n",
    "print(f\"Interval counts exported to {csv_file_intervals}\")"
   ]
  },
  {
   "cell_type": "code",
   "execution_count": 117,
   "metadata": {},
   "outputs": [],
   "source": [
    "def hamming_distance(a, b):\n",
    "    x = np.array(list(a),dtype=np.int32)\n",
    "    y = np.array(list(b),dtype=np.int32)\n",
    "    return np.sum(x != y)\n",
    "\n",
    "max_value = np.max(sequence_cost)\n",
    "max_indices = np.where(sequence_cost == max_value)[0]\n",
    "max_sequence = [ stringify(sequence_list[i]) for i in max_indices]"
   ]
  },
  {
   "cell_type": "code",
   "execution_count": 118,
   "metadata": {},
   "outputs": [],
   "source": [
    "#Parameters\n",
    "thresh = np.percentile(sequence_cost,90)\n",
    "sample_size = 250\n",
    "\n",
    "distance = {}\n",
    "distance[\"annealing\"] = []\n",
    "distance[\"random\"] = []\n",
    "distance[\"quadruplets\"] = []\n",
    "distance[\"quintuplets\"] = []\n",
    "\n",
    "for _ in range(5000):\n",
    "    \n",
    "    # Annealing\n",
    "    bounds = [(0, len(sequence_cost) - 1)]\n",
    "    res = dual_annealing(my_f, bounds=bounds, maxiter=sample_size,no_local_search=True)\n",
    "    argmax = round(res.x[0])\n",
    "    maximum = -res.fun\n",
    "    bin_argmax = format(argmax, '012b')\n",
    "    ham_dist = [hamming_distance(bin_argmax, b) for b in max_sequence]\n",
    "    distance[\"annealing\"].append(min(ham_dist))\n",
    "\n",
    "    #Random\n",
    "    argmax,maximum = monte_carlo_compressive_learning(Phi_random,sequence_cost,sample_size=sample_size,threshold=thresh)\n",
    "    bin_argmax = format(argmax, '012b')\n",
    "    ham_dist = [hamming_distance(bin_argmax, b) for b in max_sequence]\n",
    "    distance[\"random\"].append(min(ham_dist))\n",
    "\n",
    "    #Quadruplets\n",
    "    argmax,maximum = monte_carlo_compressive_learning(Phi_quad,sequence_cost,sample_size=sample_size,threshold=thresh)\n",
    "    bin_argmax = format(argmax, '012b')\n",
    "    ham_dist = [hamming_distance(bin_argmax, b) for b in max_sequence]\n",
    "    distance[\"quadruplets\"].append(min(ham_dist))\n",
    "\n",
    "    #Quintuplets\n",
    "    argmax,maximum = monte_carlo_compressive_learning(Phi_quint,sequence_cost,sample_size=sample_size,threshold=thresh)\n",
    "    bin_argmax = format(argmax, '012b')\n",
    "    ham_dist = [hamming_distance(bin_argmax, b) for b in max_sequence]\n",
    "    distance[\"quintuplets\"].append(min(ham_dist))"
   ]
  },
  {
   "cell_type": "code",
   "execution_count": 119,
   "metadata": {},
   "outputs": [],
   "source": [
    "from collections import Counter\n",
    "\n",
    "ham_count = {}\n",
    "ham_count[\"annealing\"] = []\n",
    "ham_count[\"random\"] = []\n",
    "ham_count[\"quadruplets\"] = []\n",
    "ham_count[\"quintuplets\"] = []\n",
    "\n",
    "# Partition and count each value in distance[\"annealing\"]\n",
    "counts = Counter(distance[\"annealing\"])\n",
    "for value, count in sorted(counts.items()):\n",
    "    ham_count[\"annealing\"].append(count)\n",
    "\n",
    "counts = Counter(distance[\"random\"])\n",
    "for value, count in sorted(counts.items()):\n",
    "    ham_count[\"random\"].append(count)\n",
    "\n",
    "counts = Counter(distance[\"quadruplets\"])\n",
    "for value, count in sorted(counts.items()):\n",
    "    ham_count[\"quadruplets\"].append(count)\n",
    "\n",
    "counts = Counter(distance[\"quintuplets\"])\n",
    "for value, count in sorted(counts.items()):\n",
    "    ham_count[\"quintuplets\"].append(count)"
   ]
  },
  {
   "cell_type": "code",
   "execution_count": 120,
   "metadata": {},
   "outputs": [
    {
     "name": "stdout",
     "output_type": "stream",
     "text": [
      "ham_count exported to ham_count.csv\n"
     ]
    }
   ],
   "source": [
    "import csv\n",
    "\n",
    "# Export ham_count to CSV: columns are method, hamming distance, count\n",
    "with open('ham_count2.csv', 'w', newline='') as csvfile:\n",
    "    writer = csv.writer(csvfile)\n",
    "    writer.writerow(['Method', 'Hamming Distance', 'Count'])\n",
    "    for method, counts in ham_count.items():\n",
    "        for hamming_distance, count in enumerate(counts):\n",
    "            writer.writerow([method, hamming_distance, count])\n",
    "print('ham_count exported to ham_count.csv')"
   ]
  },
  {
   "cell_type": "markdown",
   "metadata": {},
   "source": [
    "Save stuffs"
   ]
  },
  {
   "cell_type": "code",
   "execution_count": 30,
   "metadata": {},
   "outputs": [],
   "source": [
    "# Save sequence_cost to a file\n",
    "np.save(\"sequence_cost.npy\", sequence_cost)\n",
    "\n",
    "# Function to reload sequence_cost\n",
    "def load_sequence_cost(filename=\"sequence_cost.npy\"):\n",
    "    return np.load(filename)"
   ]
  },
  {
   "cell_type": "code",
   "execution_count": 25,
   "metadata": {},
   "outputs": [],
   "source": [
    "# Save plot_res to a file\n",
    "with open(\"corrected_curve.json\", \"w\") as file:\n",
    "    json.dump(plot_res, file)"
   ]
  },
  {
   "cell_type": "code",
   "execution_count": 27,
   "metadata": {},
   "outputs": [],
   "source": [
    "# Load plot_res from the file\n",
    "with open(\"corrected_curve.json\", \"r\") as file:\n",
    "    plot_res = json.load(file)"
   ]
  },
  {
   "cell_type": "code",
   "execution_count": 26,
   "metadata": {},
   "outputs": [
    {
     "name": "stdout",
     "output_type": "stream",
     "text": [
      "Data exported to plot_res.csv\n"
     ]
    }
   ],
   "source": [
    "import csv\n",
    "\n",
    "# Define the CSV file name\n",
    "csv_file = \"plot_res.csv\"\n",
    "\n",
    "# Get the keys (methods) and values (results) from plot_res\n",
    "methods = list(plot_res.keys())\n",
    "data = list(zip(*[plot_res[method] for method in methods]))\n",
    "\n",
    "# Write the data to a CSV file\n",
    "with open(csv_file, mode=\"w\", newline=\"\") as file:\n",
    "    writer = csv.writer(file)\n",
    "    \n",
    "    # Write the header\n",
    "    writer.writerow([\"Sample Size\"] + methods)\n",
    "    \n",
    "    # Write the rows\n",
    "    for i, row in enumerate(data):\n",
    "        writer.writerow([rg[i]] + list(row))\n",
    "\n",
    "print(f\"Data exported to {csv_file}\")"
   ]
  }
 ],
 "metadata": {
  "kernelspec": {
   "display_name": ".venv",
   "language": "python",
   "name": "python3"
  },
  "language_info": {
   "codemirror_mode": {
    "name": "ipython",
    "version": 3
   },
   "file_extension": ".py",
   "mimetype": "text/x-python",
   "name": "python",
   "nbconvert_exporter": "python",
   "pygments_lexer": "ipython3",
   "version": "3.11.9"
  }
 },
 "nbformat": 4,
 "nbformat_minor": 2
}
