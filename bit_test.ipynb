{
 "cells": [
  {
   "cell_type": "code",
   "execution_count": null,
   "id": "790db23f",
   "metadata": {},
   "outputs": [
    {
     "name": "stdout",
     "output_type": "stream",
     "text": [
      "1.0\n",
      "0.875\n",
      "0.7777777777777777\n",
      "0.7138888888888888\n",
      "0.667156862745098\n",
      "0.6329861111111111\n",
      "0.6070201276386844\n",
      "0.58699069416499\n",
      "0.5712117871840093\n",
      "0.5585946621856165\n",
      "0.5483514843194888\n",
      "0.5399262840809603\n",
      "0.5329101315827721\n",
      "0.5270012440869382\n",
      "0.5219724986179767\n",
      "0.5176513755077242\n",
      "0.5139051426112402\n",
      "0.5106306676632099\n",
      "0.5077469796103095\n",
      "0.5051899049637304\n",
      "0.5029081088585545\n",
      "0.5008601638503049\n",
      "0.49901235261325483\n"
     ]
    }
   ],
   "source": [
    "import numpy as np\n",
    "\n",
    "def string_check_001(string):\n",
    "    k = 3\n",
    "    is_valid = False\n",
    "    for i in range(len(string) - k + 1):\n",
    "        substring = string[i:i+k]\n",
    "        if substring == '001':\n",
    "            if not is_valid:\n",
    "                is_valid = True\n",
    "            else:\n",
    "                return False\n",
    "    return is_valid\n",
    "\n",
    "def count_00(string):\n",
    "    count = 0\n",
    "    k = 2\n",
    "    for i in range(len(string) - k + 1):\n",
    "        substring = string[i:i+k]\n",
    "        if substring == '00':\n",
    "            count += 1\n",
    "    return count\n",
    "\n",
    "for N in range(3,26):\n",
    "    valid_strings = []\n",
    "    for n in range(2**N):\n",
    "        bin_n = format(n, f'0{N}b')\n",
    "        if string_check_001(bin_n):\n",
    "            valid_strings.append(bin_n)\n",
    "    \n",
    "    prob_each_string = []\n",
    "    for string in valid_strings:\n",
    "        prob_each_string.append(1/count_00(string))\n",
    "\n",
    "    print(np.mean(prob_each_string))"
   ]
  },
  {
   "cell_type": "code",
   "execution_count": 43,
   "id": "b04ff96e",
   "metadata": {},
   "outputs": [
    {
     "name": "stdout",
     "output_type": "stream",
     "text": [
      "N = 3, length: 1\n",
      "N = 4, length: 4\n",
      "N = 5, length: 12\n",
      "N = 6, length: 30\n",
      "N = 7, length: 68\n",
      "N = 8, length: 144\n",
      "N = 9, length: 291\n",
      "N = 10, length: 568\n",
      "N = 11, length: 1080\n"
     ]
    }
   ],
   "source": [
    "import numpy as np\n",
    "\n",
    "def string_check_001(string):\n",
    "    k = 3\n",
    "    is_valid = False\n",
    "    for i in range(len(string) - k + 1):\n",
    "        substring = string[i:i+k]\n",
    "        if substring == '001':\n",
    "            if not is_valid:\n",
    "                is_valid = True\n",
    "            else:\n",
    "                return False\n",
    "    return is_valid\n",
    "\n",
    "def count_00(string):\n",
    "    count = 0\n",
    "    k = 2\n",
    "    for i in range(len(string) - k + 1):\n",
    "        substring = string[i:i+k]\n",
    "        if substring == '00':\n",
    "            count += 1\n",
    "    return count\n",
    "\n",
    "for N in range(3,12):\n",
    "    valid_strings = []\n",
    "    for n in range(2**N):\n",
    "        bin_n = format(n, f'0{N}b')\n",
    "        if string_check_001(bin_n):\n",
    "            valid_strings.append(bin_n)\n",
    "    \n",
    "    # prob_each_string = []\n",
    "    print(f\"N = {N}, length: {len(valid_strings)}\")\n",
    "    # for string in valid_strings:\n",
    "    #     print(string)\n",
    "    # print()"
   ]
  },
  {
   "cell_type": "code",
   "execution_count": 67,
   "id": "eaf22b6f",
   "metadata": {},
   "outputs": [
    {
     "name": "stdout",
     "output_type": "stream",
     "text": [
      "30.0\n"
     ]
    }
   ],
   "source": [
    "from scipy.special import binom\n",
    "\n",
    "N = 6\n",
    "sup = int(N/3)\n",
    "s = 0\n",
    "for t in range(1,sup+1):\n",
    "    s += (-1)**(t-1) * t * binom(N-2*t, t) * 2**(N-3*t)\n",
    "print(s) "
   ]
  },
  {
   "cell_type": "code",
   "execution_count": 68,
   "id": "249c1afa",
   "metadata": {},
   "outputs": [
    {
     "name": "stdout",
     "output_type": "stream",
     "text": [
      "31.0\n"
     ]
    }
   ],
   "source": [
    "from scipy.special import binom\n",
    "\n",
    "N = 6\n",
    "sup = int(N/3)\n",
    "s = 0\n",
    "for t in range(1,sup+1):\n",
    "    s += (-1)**(t+1) * binom(N-2*t, t) * 2**(N-3*t)\n",
    "print(s) "
   ]
  }
 ],
 "metadata": {
  "kernelspec": {
   "display_name": "venv (3.12.3)",
   "language": "python",
   "name": "python3"
  },
  "language_info": {
   "codemirror_mode": {
    "name": "ipython",
    "version": 3
   },
   "file_extension": ".py",
   "mimetype": "text/x-python",
   "name": "python",
   "nbconvert_exporter": "python",
   "pygments_lexer": "ipython3",
   "version": "3.12.3"
  }
 },
 "nbformat": 4,
 "nbformat_minor": 5
}
