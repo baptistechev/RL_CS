{
 "cells": [
  {
   "cell_type": "code",
   "execution_count": 141,
   "metadata": {},
   "outputs": [],
   "source": [
    "import numpy as np\n",
    "import matplotlib.pyplot as plt\n",
    "import random"
   ]
  },
  {
   "cell_type": "markdown",
   "metadata": {},
   "source": [
    "<h2>Game modeling</h2>"
   ]
  },
  {
   "cell_type": "code",
   "execution_count": 114,
   "metadata": {},
   "outputs": [],
   "source": [
    "possible_states = np.matrix([[0,0,0,0,1,1],\n",
    "                            [1,0,1,0,1,0],\n",
    "                            [1,1,1,1,1,0],\n",
    "                            [0,0,0,0,1,0],\n",
    "                            [0,0,0,0,1,0]])\n",
    "def is_valid(a,pos,ori):\n",
    "    x,y = pos\n",
    "    if ori==0:\n",
    "        return (x-1 >= 0) and possible_states[(x-1,y)]\n",
    "    elif ori==1:\n",
    "        return (y+1 <= 5) and possible_states[(x,y+1)]\n",
    "    elif ori==2:\n",
    "        return (x+1 <= 4) and possible_states[(x+1,y)]\n",
    "    else:\n",
    "        return (y-1 >= 0) and possible_states[(x,y-1)]\n",
    "\n",
    "def take_action(a,pos,ori):\n",
    "    x,y = pos\n",
    "    if a==0: #turn\n",
    "        position = pos\n",
    "        orientation = (ori + 1) %4\n",
    "    else: #go forward\n",
    "        orientation = ori\n",
    "        if ori==0:\n",
    "            position = (x-1,y)\n",
    "        elif ori==1:\n",
    "            position = (x,y+1)\n",
    "        elif ori==2:\n",
    "            position = (x+1,y)\n",
    "        else:\n",
    "            position = (x,y-1)\n",
    "    return position,orientation\n",
    "\n",
    "bad_states_list = [(1,0),(1,2),(4,4)]\n",
    "def evaluate_cost(pos):\n",
    "    if pos in bad_states_list:\n",
    "        return -50\n",
    "    if pos==(0,5):\n",
    "        return 1000\n",
    "    return 0"
   ]
  },
  {
   "cell_type": "code",
   "execution_count": 111,
   "metadata": {},
   "outputs": [],
   "source": [
    "def follow_sequence_actions(sequence,position,orientation):\n",
    "    cost = 500\n",
    "    for action in sequence:\n",
    "        if action==0 or is_valid(action,position,orientation):\n",
    "            position,orientation = take_action(action,position,orientation)\n",
    "            cost += evaluate_cost(position)\n",
    "        else: #invalid action\n",
    "            return\n",
    "    return cost"
   ]
  },
  {
   "cell_type": "code",
   "execution_count": 78,
   "metadata": {},
   "outputs": [],
   "source": [
    "sequence_list = []\n",
    "for b1 in range(2):\n",
    "    for b2 in range(2):\n",
    "        for b3 in range(2):\n",
    "            for b4 in range(2):\n",
    "                for b5 in range(2):\n",
    "                    for b6 in range(2):\n",
    "                        for b7 in range(2):\n",
    "                            for b8 in range(2):\n",
    "                                for b9 in range(2):\n",
    "                                    for b10 in range(2):\n",
    "                                        sequence_list.append((b1,b2,b3,b4,b5,b6,b7,b8,b9,b10))"
   ]
  },
  {
   "cell_type": "code",
   "execution_count": 99,
   "metadata": {},
   "outputs": [],
   "source": [
    "def stringify(seq):\n",
    "    string = ''\n",
    "    for n in seq:\n",
    "        string+=str(n)\n",
    "    return string"
   ]
  },
  {
   "cell_type": "code",
   "execution_count": 130,
   "metadata": {},
   "outputs": [],
   "source": [
    "position = (2,2)\n",
    "orientation = 0 #0 North, 1 East, 2 south, 3 West\n",
    "\n",
    "possible_sequence = []\n",
    "possible_sequence_cost = dict()\n",
    "for sequence in sequence_list:\n",
    "    cost = follow_sequence_actions(sequence,position,orientation)\n",
    "    if cost!=None:\n",
    "        possible_sequence_cost[stringify(sequence)]=cost\n",
    "        possible_sequence.append(sequence)"
   ]
  },
  {
   "cell_type": "code",
   "execution_count": 131,
   "metadata": {},
   "outputs": [
    {
     "data": {
      "image/png": "[encoded data removed]",
      "text/plain": [
       "<Figure size 640x480 with 1 Axes>"
      ]
     },
     "metadata": {},
     "output_type": "display_data"
    }
   ],
   "source": [
    "plt.bar(possible_sequence_cost.keys(),possible_sequence_cost.values(),width=0.5)\n",
    "plt.show()"
   ]
  },
  {
   "cell_type": "markdown",
   "metadata": {},
   "source": [
    "<h2>Compressive Sensing</h2>"
   ]
  },
  {
   "cell_type": "code",
   "execution_count": 166,
   "metadata": {},
   "outputs": [],
   "source": [
    "#Sample from possible sequences (be careful not to take the solution already)\n",
    "seq_sample = []\n",
    "seq_sample_cost = []\n",
    "for _ in range(30):\n",
    "    seq = random.choice(possible_sequence)\n",
    "    seq_sample.append(seq)\n",
    "    seq_sample_cost.append(possible_sequence_cost[stringify(seq)])"
   ]
  },
  {
   "cell_type": "code",
   "execution_count": 213,
   "metadata": {},
   "outputs": [],
   "source": [
    "def estimate_measurement(bit1,bit2,v1,v2):\n",
    "    costs = []\n",
    "    for seq,cost in zip(seq_sample,seq_sample_cost):\n",
    "        if seq[bit1]==v1 and seq[bit2]==v2:\n",
    "            costs.append(cost)\n",
    "    if costs == []:\n",
    "        return\n",
    "    else:\n",
    "        return np.sum(costs)"
   ]
  },
  {
   "cell_type": "code",
   "execution_count": 216,
   "metadata": {},
   "outputs": [
    {
     "data": {
      "text/plain": [
       "[5550,\n",
       " 4200,\n",
       " 2150,\n",
       " 7700,\n",
       " 1500,\n",
       " 2700,\n",
       " 4200,\n",
       " 5000,\n",
       " 2700,\n",
       " 4550,\n",
       " 2350,\n",
       " 3000,\n",
       " 2000,\n",
       " 3000,\n",
       " 4550,\n",
       " 3500,\n",
       " 850,\n",
       " 4500,\n",
       " 2000,\n",
       " 3550,\n",
       " 1850,\n",
       " 5700,\n",
       " 2350,\n",
       " 2850,\n",
       " 1000,\n",
       " 4850,\n",
       " 3700,\n",
       " 1350,\n",
       " 2000,\n",
       " 3550,\n",
       " 2650,\n",
       " 4850,\n",
       " 850]"
      ]
     },
     "execution_count": 216,
     "metadata": {},
     "output_type": "execute_result"
    }
   ],
   "source": [
    "#All nearest neighbor cost approximated by average\n",
    "\n",
    "y = []\n",
    "\n",
    "for bit in range(9):\n",
    "    # print(bit,bit+1)\n",
    "    for v1 in range(2):\n",
    "        for v2 in range(2):\n",
    "            # print(v1,v2)\n",
    "            res = estimate_measurement(bit,bit+1,v1,v2)\n",
    "            if res!=None:\n",
    "                y.append(res)\n",
    "\n",
    "y\n"
   ]
  }
 ],
 "metadata": {
  "kernelspec": {
   "display_name": ".venv",
   "language": "python",
   "name": "python3"
  },
  "language_info": {
   "codemirror_mode": {
    "name": "ipython",
    "version": 3
   },
   "file_extension": ".py",
   "mimetype": "text/x-python",
   "name": "python",
   "nbconvert_exporter": "python",
   "pygments_lexer": "ipython3",
   "version": "3.12.3"
  }
 },
 "nbformat": 4,
 "nbformat_minor": 2
}
