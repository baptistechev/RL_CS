{
 "cells": [
  {
   "cell_type": "code",
   "execution_count": 44,
   "id": "b20ec18d",
   "metadata": {},
   "outputs": [],
   "source": [
    "import numpy as np\n",
    "import matplotlib.pyplot as plt\n",
    "from sklearn.linear_model import OrthogonalMatchingPursuit\n",
    "import copy\n",
    "from collections import Counter"
   ]
  },
  {
   "cell_type": "code",
   "execution_count": 58,
   "id": "5b79b31c",
   "metadata": {},
   "outputs": [],
   "source": [
    "def bin_to_pattern(x):\n",
    "    return [ [1-int(i), int(i)] for i in x ]\n",
    "def create_specific_patterns(mode1,mode2,size):\n",
    "    pats =[]\n",
    "    for i in range(2):\n",
    "        for j in range(2):\n",
    "            pats.append( [[1,1]]*mode1 + bin_to_pattern(str(i)) + [[1,1]]*(mode2-mode1-1) + bin_to_pattern(str(j)) + [[1,1]]*(size-mode1-(mode2-mode1-1)-2) )\n",
    "    return pats\n",
    "def create_specific_patterns3(mode1,mode2,mode3,size):\n",
    "    pats =[]\n",
    "    for i in range(2):\n",
    "        for j in range(2):\n",
    "            for k in range(2):\n",
    "                pats.append( [[1,1]]*mode1 + bin_to_pattern(str(i)) + [[1,1]]*(mode2-mode1-1) + bin_to_pattern(str(j)) + [[1,1]]*(mode3-(mode2-mode1-1)-mode1-2) + bin_to_pattern(str(k)) + [[1,1]]*(size -mode1-(mode2-mode1-1)-(mode3-(mode2-mode1-1)-mode1-2)-3) )\n",
    "    return pats\n",
    "def create_specific_patterns4(mode1,mode2,mode3,mode4,size):\n",
    "    pats = []\n",
    "    temp_pats = create_specific_patterns3(mode1,mode2,mode3,size)\n",
    "    for p in temp_pats:\n",
    "        for k in range(2):\n",
    "            p_prime = copy.deepcopy(p)\n",
    "            p_prime[mode4] = bin_to_pattern(str(k))[0]\n",
    "            pats.append(p_prime)\n",
    "    return pats\n",
    "def create_specific_patterns5(mode1, mode2, mode3, mode4, mode5, size):\n",
    "    \"\"\"\n",
    "    Generate specific patterns for 5 modes.\n",
    "    \"\"\"\n",
    "    pats = []\n",
    "    temp_pats = create_specific_patterns4(mode1, mode2, mode3, mode4, size)\n",
    "    for p in temp_pats:\n",
    "        for k in range(2):\n",
    "            p_prime = copy.deepcopy(p)\n",
    "            p_prime[mode5] = bin_to_pattern(str(k))[0]\n",
    "            pats.append(p_prime)\n",
    "    return pats\n",
    "def create_specific_patterns8(mode1, mode2, mode3, mode4, mode5, mode6, mode7, mode8, size):\n",
    "    \"\"\"\n",
    "    Generate specific patterns for 8 modes.\n",
    "    \"\"\"\n",
    "    pats = []\n",
    "    temp_pats = create_specific_patterns5(mode1, mode2, mode3, mode4, mode5, size)\n",
    "    for p in temp_pats:\n",
    "        for k in range(2):\n",
    "            p_prime = copy.deepcopy(p)\n",
    "            p_prime[mode6] = bin_to_pattern(str(k))[0]\n",
    "            for l in range(2):\n",
    "                p_prime2 = copy.deepcopy(p_prime)\n",
    "                p_prime2[mode7] = bin_to_pattern(str(l))[0]\n",
    "                for m in range(2):\n",
    "                    p_prime3 = copy.deepcopy(p_prime2)\n",
    "                    p_prime3[mode8] = bin_to_pattern(str(m))[0]\n",
    "                    pats.append(p_prime3)\n",
    "    return pats\n",
    "def dev_pattern(pat):\n",
    "    f = np.array([1])\n",
    "    for i in pat:\n",
    "        f = np.kron(f,i)\n",
    "    return f"
   ]
  },
  {
   "cell_type": "code",
   "execution_count": 45,
   "id": "be45d0a6",
   "metadata": {},
   "outputs": [],
   "source": [
    "def stringify(seq):\n",
    "    string = ''\n",
    "    for n in seq:\n",
    "        string+=str(n)\n",
    "    return string"
   ]
  },
  {
   "cell_type": "code",
   "execution_count": 217,
   "id": "330aded1",
   "metadata": {},
   "outputs": [
    {
     "data": {
      "text/plain": [
       "16384"
      ]
     },
     "execution_count": 217,
     "metadata": {},
     "output_type": "execute_result"
    }
   ],
   "source": [
    "n = 14\n",
    "sequence_list = np.array([np.array(list(bin(i)[3:]),dtype=np.int32) for i in range(2**n, 2**(n+1))])\n",
    "len(sequence_list)"
   ]
  },
  {
   "cell_type": "code",
   "execution_count": 47,
   "id": "50cd75ff",
   "metadata": {},
   "outputs": [],
   "source": [
    "def generate_rules_and_rewards(num_rules=5, rule_length=4, reward_range=(1, 20), sequence_length=12):\n",
    "    \"\"\"\n",
    "    Generate rules, rewards, and starting positions for the rules.\n",
    "    \"\"\"\n",
    "    rules = set()\n",
    "    rewards = []\n",
    "    starting_positions = []\n",
    "\n",
    "    while len(rules) < num_rules:\n",
    "        rule = tuple(np.random.randint(0, 2, size=rule_length))  # Generate a random rule\n",
    "        if rule not in rules:\n",
    "            rules.add(rule)\n",
    "            reward = np.random.randint(reward_range[0], reward_range[1])  # Generate a random reward\n",
    "            rewards.append(reward)\n",
    "            # Generate one or more starting positions for the rule\n",
    "            positions = np.random.choice(range(sequence_length - rule_length + 1), size=np.random.randint(1, 12-rule_length), replace=False)\n",
    "            starting_positions.append(list(positions))\n",
    "\n",
    "    return list(rules), rewards, starting_positions\n",
    "\n",
    "\n",
    "def estimate_cost(sequence, rules, rewards, starting_positions=None):\n",
    "    \"\"\"\n",
    "    Estimate the cost of a sequence based on the rules, rewards, and starting positions.\n",
    "    \"\"\"\n",
    "    if rules== [] or rewards == []:\n",
    "        return 0\n",
    "\n",
    "    if starting_positions is None:\n",
    "        starting_positions = [list(range(len(sequence) - len(rules[0]) + 1))] * len(rules)\n",
    "\n",
    "    reward = 0\n",
    "    rule_length = len(rules[0])\n",
    "\n",
    "    for rule, rule_reward, positions in zip(rules, rewards, starting_positions):\n",
    "        for k in positions:  # Only check the specified starting positions\n",
    "            if k + rule_length <= len(sequence) and np.all(sequence[k:k + rule_length] == rule):\n",
    "                reward += rule_reward\n",
    "                # break  # Stop checking further positions for this rule if it matches\n",
    "\n",
    "    return np.abs(reward)"
   ]
  },
  {
   "cell_type": "code",
   "execution_count": 48,
   "id": "0f57af9e",
   "metadata": {},
   "outputs": [],
   "source": [
    "def random_repartition(nb_rules,into=5):\n",
    "    \"\"\"\n",
    "    Generate a random repartition of 5 values whose sum equals nb_rules.\n",
    "    \"\"\"\n",
    "    values = np.random.multinomial(nb_rules, [1/into]*into)\n",
    "    return values\n"
   ]
  },
  {
   "cell_type": "code",
   "execution_count": 326,
   "id": "8e216da0",
   "metadata": {},
   "outputs": [
    {
     "name": "stdout",
     "output_type": "stream",
     "text": [
      "[(0, 0, 0), (0, 1, 1)]\n"
     ]
    }
   ],
   "source": [
    "rules1, rewards1,pos = generate_rules_and_rewards(num_rules=2,rule_length=3)\n",
    "print(rules1)\n",
    "\n",
    "sequence_cost = []\n",
    "for sequence in sequence_list:\n",
    "    rew = 0\n",
    "    rew += estimate_cost(sequence,rules1, rewards1)\n",
    "    # rew += estimate_cost(sequence,rules2, rewards2)\n",
    "    # rew += estimate_cost(sequence,rules3, rewards3)\n",
    "    sequence_cost.append(rew)\n",
    "sequence_cost = np.array(sequence_cost)\n",
    "sequence_cost = sequence_cost /np.linalg.norm(sequence_cost)\n",
    "\n",
    "# plt.bar([i for i in np.arange(len(sequence_list))],sequence_cost,width=1.5)\n",
    "# plt.show()"
   ]
  },
  {
   "cell_type": "code",
   "execution_count": 327,
   "id": "3bd4954e",
   "metadata": {},
   "outputs": [
    {
     "name": "stdout",
     "output_type": "stream",
     "text": [
      "Rules 2: (array([1, 0, 0]), array([1, 1, 1]))\n",
      "Rules 3: (array([0, 1, 0]), array([0, 0, 1]))\n",
      "Rules 4: (array([0, 0, 1]), array([0, 1, 0]))\n"
     ]
    },
    {
     "data": {
      "image/png": "[encoded data removed]",
      "text/plain": [
       "<Figure size 640x480 with 1 Axes>"
      ]
     },
     "metadata": {},
     "output_type": "display_data"
    }
   ],
   "source": [
    "# Given a set of rules (rules1), create 3 new sets where each set has one rule differing by one bit\n",
    "\n",
    "def generate_one_bit_variants(rules1):\n",
    "    \"\"\"\n",
    "    For each rule in rules1, generate 3 new sets of rules, each with one rule differing by one bit.\n",
    "    Returns a list of 3 new sets.\n",
    "    \"\"\"\n",
    "    rules1 = np.array(rules1)\n",
    "    n_rules, rule_length = rules1.shape\n",
    "    new_rule_sets = []\n",
    "\n",
    "    for i in range(3):\n",
    "        # Copy the original rules\n",
    "        new_rules = rules1.copy()\n",
    "        # Pick a rule to modify (cycle through the first 3 rules)\n",
    "        rule_idx = i % n_rules\n",
    "        # Pick a bit to flip (cycle through the first 3 bits)\n",
    "        bit_idx = i % rule_length\n",
    "        # Flip the bit\n",
    "        new_rules[rule_idx, bit_idx] = 1 - new_rules[rule_idx, bit_idx]\n",
    "        new_rule_sets.append(tuple(new_rules))\n",
    "    return new_rule_sets\n",
    "\n",
    "def generate_all_one_bit_variants(rules1):\n",
    "    \"\"\"\n",
    "    For a set of rules (rules1), generate 3 new sets of rules.\n",
    "    In each set, every rule differs from the original by flipping one bit (the bit index is different for each set).\n",
    "    Returns a list of 3 new sets.\n",
    "    \"\"\"\n",
    "    rules1 = np.array(rules1)\n",
    "    n_rules, rule_length = rules1.shape\n",
    "    new_rule_sets = []\n",
    "\n",
    "    for bit_idx in range(3):\n",
    "        new_rules = rules1.copy()\n",
    "        for rule_idx in range(n_rules):\n",
    "            flip_idx = bit_idx % rule_length\n",
    "            new_rules[rule_idx, flip_idx] = 1 - new_rules[rule_idx, flip_idx]\n",
    "        new_rule_sets.append(tuple(new_rules))\n",
    "    return new_rule_sets\n",
    "\n",
    "# Example usage:\n",
    "rules2,rules3,rules4 = generate_all_one_bit_variants(rules1)\n",
    "\n",
    "print(\"Rules 2:\", rules2)\n",
    "sequence_cost2 = []\n",
    "for sequence in sequence_list:\n",
    "    rew = 0\n",
    "    rew += estimate_cost(sequence, rules2, rewards1)  # Use the same rewards for both rules\n",
    "    sequence_cost2.append(rew)\n",
    "sequence_cost2 = np.array(sequence_cost2)\n",
    "sequence_cost2 = sequence_cost2 / np.linalg.norm(sequence_cost2)\n",
    "\n",
    "# plt.bar([i for i in np.arange(len(sequence_list))], sequence_cost2, width=1.5)\n",
    "# plt.show()\n",
    "\n",
    "print(\"Rules 3:\", rules3)\n",
    "sequence_cost3 = []\n",
    "for sequence in sequence_list:\n",
    "    rew = 0\n",
    "    rew += estimate_cost(sequence, rules3, rewards1)  # Use the same rewards for both rules\n",
    "    sequence_cost3.append(rew)\n",
    "sequence_cost3 = np.array(sequence_cost3)\n",
    "sequence_cost3 = sequence_cost3 / np.linalg.norm(sequence_cost3)\n",
    "\n",
    "# plt.bar([i for i in np.arange(len(sequence_list))], sequence_cost3, width=1.5)\n",
    "# plt.show()\n",
    "\n",
    "print(\"Rules 4:\", rules4)\n",
    "sequence_cost4 = []\n",
    "for sequence in sequence_list:\n",
    "    rew = 0\n",
    "    rew += estimate_cost(sequence, rules4, rewards1)  # Use the same rewards for both rules\n",
    "    sequence_cost4.append(rew)\n",
    "sequence_cost4 = np.array(sequence_cost4)\n",
    "sequence_cost4 = sequence_cost4 / np.linalg.norm(sequence_cost4)\n",
    "\n",
    "plt.bar([i for i in np.arange(len(sequence_list))], sequence_cost4, width=1.5)\n",
    "plt.show()"
   ]
  },
  {
   "cell_type": "code",
   "execution_count": 328,
   "id": "a7fa114f",
   "metadata": {},
   "outputs": [
    {
     "name": "stdout",
     "output_type": "stream",
     "text": [
      "0.7196755727160339 0.6444689673448031 0.726124388642435\n"
     ]
    }
   ],
   "source": [
    "#pairs\n",
    "# all_pat = []\n",
    "# for i in range(n-1):\n",
    "#     all_pat += create_specific_patterns(i,i+1,n)\n",
    "# Phi = np.array([dev_pattern(p) for p in all_pat])\n",
    "\n",
    "#quadruplets\n",
    "# all_pat = []\n",
    "# for i in range(n-3):\n",
    "#     all_pat += create_specific_patterns4(i,i+1,i+2,i+3,n)\n",
    "# Phi = np.array([dev_pattern(p) for p in all_pat])\n",
    "\n",
    "#quintuplets\n",
    "# all_pat = []\n",
    "# for i in range(n-4):\n",
    "#     all_pat += create_specific_patterns5(i,i+1,i+2,i+3,i+4,n)\n",
    "# Phi = np.array([dev_pattern(p) for p in all_pat])\n",
    "\n",
    "#random\n",
    "Phi = np.random.randn(300,2**n)\n",
    "\n",
    "y1 = Phi @ sequence_cost\n",
    "y1 = y1 / np.linalg.norm(y1)\n",
    "\n",
    "y2 = Phi @ sequence_cost2\n",
    "y2 = y2 / np.linalg.norm(y2)\n",
    "\n",
    "y3 = Phi @ sequence_cost3\n",
    "y3 = y3 / np.linalg.norm(y3)\n",
    "y4 = Phi @ sequence_cost4\n",
    "y4 = y4 / np.linalg.norm(y4)\n",
    "\n",
    "d1 = np.linalg.norm(y1-y2)\n",
    "d2 = np.linalg.norm(y1-y3)\n",
    "d3 = np.linalg.norm(y1-y4)\n",
    "print(d1, d2, d3)"
   ]
  },
  {
   "cell_type": "code",
   "execution_count": 329,
   "id": "36987e55",
   "metadata": {},
   "outputs": [
    {
     "name": "stdout",
     "output_type": "stream",
     "text": [
      "1.340968094428509 1.3739914235180561 1.3960933759118437\n"
     ]
    }
   ],
   "source": [
    "threshold_level = 80\n",
    "thresh =  np.percentile(sequence_cost, threshold_level)\n",
    "sequence_cost_thresh = sequence_cost.copy()\n",
    "sequence_cost_thresh[sequence_cost_thresh < thresh] = 0\n",
    "\n",
    "y1_thresh = Phi @ sequence_cost_thresh\n",
    "y1_thresh = y1_thresh / np.linalg.norm(y1_thresh)\n",
    "\n",
    "thresh =  np.percentile(sequence_cost2, threshold_level)\n",
    "sequence_cost2_thresh = sequence_cost2.copy()\n",
    "sequence_cost2_thresh[sequence_cost2_thresh < thresh] = 0\n",
    "y2_thresh = Phi @ sequence_cost2_thresh\n",
    "y2_thresh = y2_thresh / np.linalg.norm(y2_thresh)\n",
    "\n",
    "thresh =  np.percentile(sequence_cost3, threshold_level)\n",
    "sequence_cost3_thresh = sequence_cost3.copy()\n",
    "sequence_cost3_thresh[sequence_cost3_thresh < thresh] = 0\n",
    "y3_thresh = Phi @ sequence_cost3_thresh\n",
    "y3_thresh = y3_thresh / np.linalg.norm(y3_thresh)\n",
    "\n",
    "thresh =  np.percentile(sequence_cost4, threshold_level)\n",
    "sequence_cost4_thresh = sequence_cost4.copy()\n",
    "sequence_cost4_thresh[sequence_cost4_thresh < thresh] = 0\n",
    "y4_thresh = Phi @ sequence_cost4_thresh\n",
    "y4_thresh = y4_thresh / np.linalg.norm(y4_thresh)\n",
    "\n",
    "d1_thresh = np.linalg.norm(y1_thresh - y2_thresh)\n",
    "d2_thresh = np.linalg.norm(y1_thresh - y3_thresh)\n",
    "d3_thresh = np.linalg.norm(y1_thresh - y4_thresh)\n",
    "print(d1_thresh, d2_thresh, d3_thresh)"
   ]
  },
  {
   "cell_type": "code",
   "execution_count": 330,
   "id": "f67ed490",
   "metadata": {},
   "outputs": [
    {
     "data": {
      "image/png": "[encoded data removed]",
      "text/plain": [
       "<Figure size 640x480 with 1 Axes>"
      ]
     },
     "metadata": {},
     "output_type": "display_data"
    },
    {
     "data": {
      "image/png": "[encoded data removed]",
      "text/plain": [
       "<Figure size 640x480 with 1 Axes>"
      ]
     },
     "metadata": {},
     "output_type": "display_data"
    }
   ],
   "source": [
    "avgdistances = []\n",
    "avgdistances_thresh = []\n",
    "sp_size_range = [200,300,500, 1000, 2000, 3000, 4000,6000,10000] \n",
    "for sample_size in sp_size_range:\n",
    "\n",
    "    moments = []\n",
    "    moments_thresh = []\n",
    "    for _ in range(300):\n",
    "        sample_index = np.random.randint(0,len(sequence_list),sample_size)\n",
    "        sequence_cost_spectrum = np.zeros_like(sequence_cost)\n",
    "        sequence_cost_spectrum[sample_index] = sequence_cost[sample_index]\n",
    "\n",
    "        m = Phi @ sequence_cost_spectrum\n",
    "        m = m / np.linalg.norm(m)\n",
    "        moments.append(m)\n",
    "\n",
    "        thresh =  np.percentile(sequence_cost, threshold_level)\n",
    "        sequence_cost_spectrum[sequence_cost_spectrum<=thresh]=0\n",
    "\n",
    "        m = Phi @ sequence_cost_spectrum\n",
    "        m = m / np.linalg.norm(m)\n",
    "        moments_thresh.append(m)\n",
    "\n",
    "    distances = []\n",
    "    for i in range(1,len(moments)):\n",
    "        distances.append(np.linalg.norm(moments[i] - y1))\n",
    "    avgdistances.append(np.average(distances))\n",
    "\n",
    "    distances = []\n",
    "    for i in range(1,len(moments)):\n",
    "        distances.append(np.linalg.norm(moments_thresh[i] - y1))\n",
    "    avgdistances_thresh.append(np.average(distances))\n",
    "\n",
    "plt.plot(sp_size_range, avgdistances, marker='o')\n",
    "plt.hlines([d1, d2, d3], xmin=sp_size_range[0], xmax=sp_size_range[-1], colors='r', linestyles='--', label='Distances without threshold')\n",
    "plt.show()\n",
    "plt.plot(sp_size_range, avgdistances_thresh, marker='o')\n",
    "plt.hlines([d1_thresh, d2_thresh, d3_thresh], xmin=sp_size_range[0], xmax=sp_size_range[-1], colors='g', linestyles='--', label='Distances with threshold')\n",
    "plt.show()"
   ]
  }
 ],
 "metadata": {
  "kernelspec": {
   "display_name": ".venv",
   "language": "python",
   "name": "python3"
  },
  "language_info": {
   "codemirror_mode": {
    "name": "ipython",
    "version": 3
   },
   "file_extension": ".py",
   "mimetype": "text/x-python",
   "name": "python",
   "nbconvert_exporter": "python",
   "pygments_lexer": "ipython3",
   "version": "3.11.9"
  }
 },
 "nbformat": 4,
 "nbformat_minor": 5
}
