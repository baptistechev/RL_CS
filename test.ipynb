{
 "cells": [
  {
   "cell_type": "code",
   "execution_count": 35,
   "id": "0185f72a",
   "metadata": {},
   "outputs": [
    {
     "name": "stdout",
     "output_type": "stream",
     "text": [
      "1\n",
      "4\n",
      "12\n",
      "30\n",
      "68\n"
     ]
    }
   ],
   "source": [
    "import numpy as np\n",
    "\n",
    "def string_check_001(string):\n",
    "    k = 3\n",
    "    is_valid = False\n",
    "    for i in range(len(string) - k + 1):\n",
    "        substring = string[i:i+k]\n",
    "        if substring == '001':\n",
    "            if not is_valid:\n",
    "                is_valid = True\n",
    "            else:\n",
    "                return False\n",
    "    return is_valid\n",
    "\n",
    "def count_00(string):\n",
    "    count = 0\n",
    "    k = 2\n",
    "    for i in range(len(string) - k + 1):\n",
    "        substring = string[i:i+k]\n",
    "        if substring == '00':\n",
    "            count += 1\n",
    "    return count\n",
    "\n",
    "for N in range(3,8):\n",
    "    valid_strings = []\n",
    "    for n in range(2**N):\n",
    "        bin_n = format(n, f'0{N}b')\n",
    "        if string_check_001(bin_n):\n",
    "            valid_strings.append(bin_n)\n",
    "    print(len(valid_strings))\n",
    "    # prob_each_string = []\n",
    "    # for string in valid_strings:\n",
    "    #     prob_each_string.append(1/count_00(string))\n",
    "    #     print(string)\n",
    "\n",
    "    # print(np.mean(prob_each_string))"
   ]
  },
  {
   "cell_type": "code",
   "execution_count": 44,
   "id": "c28a1fa4",
   "metadata": {},
   "outputs": [
    {
     "name": "stdout",
     "output_type": "stream",
     "text": [
      "0\n"
     ]
    }
   ],
   "source": [
    "import numpy as np\n",
    "\n",
    "def string_check_001(string):\n",
    "    k = 3\n",
    "    is_valid = False\n",
    "    for i in range(len(string) - k + 1):\n",
    "        substring = string[i:i+k]\n",
    "        if substring == '001':\n",
    "            if not is_valid:\n",
    "                is_valid = True\n",
    "            else:\n",
    "                return False\n",
    "    return is_valid\n",
    "\n",
    "def string_check_L_00(string,L):\n",
    "    k = 2\n",
    "    cpt=0\n",
    "    for i in range(len(string) - k + 1):\n",
    "        substring = string[i:i+k]\n",
    "        if substring == '00':\n",
    "            if cpt<L:\n",
    "                cpt+=1\n",
    "            else:\n",
    "                return False\n",
    "    return cpt==L\n",
    "\n",
    "N=5\n",
    "L=4\n",
    "valid_strings = []\n",
    "for n in range(2**N):\n",
    "    bin_n = format(n, f'0{N}b')\n",
    "    if string_check_001(bin_n):\n",
    "        if string_check_L_00(bin_n,L):\n",
    "            valid_strings.append(bin_n)\n",
    "            # print(bin_n)\n",
    "print(len(valid_strings))"
   ]
  },
  {
   "cell_type": "code",
   "execution_count": null,
   "id": "8ff2afa5",
   "metadata": {},
   "outputs": [],
   "source": []
  }
 ],
 "metadata": {
  "kernelspec": {
   "display_name": ".venv",
   "language": "python",
   "name": "python3"
  },
  "language_info": {
   "codemirror_mode": {
    "name": "ipython",
    "version": 3
   },
   "file_extension": ".py",
   "mimetype": "text/x-python",
   "name": "python",
   "nbconvert_exporter": "python",
   "pygments_lexer": "ipython3",
   "version": "3.11.9"
  }
 },
 "nbformat": 4,
 "nbformat_minor": 5
}
