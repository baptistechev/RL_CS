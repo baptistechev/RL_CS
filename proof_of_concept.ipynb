{
 "cells": [
  {
   "cell_type": "code",
   "execution_count": 198,
   "metadata": {},
   "outputs": [],
   "source": [
    "import numpy as np\n",
    "import matplotlib.pyplot as plt\n",
    "from sklearn.linear_model import OrthogonalMatchingPursuit\n",
    "import copy\n",
    "from collections import Counter"
   ]
  },
  {
   "cell_type": "markdown",
   "metadata": {},
   "source": [
    "<h2>Game modeling</h2>"
   ]
  },
  {
   "cell_type": "code",
   "execution_count": 48,
   "metadata": {},
   "outputs": [],
   "source": [
    "possible_states = np.matrix([[0,0,0,0,1,1],\n",
    "                            [1,0,1,0,1,0],\n",
    "                            [1,1,1,1,1,0],\n",
    "                            [0,0,0,0,1,0],\n",
    "                            [0,0,0,0,1,0]])\n",
    "def is_valid(a,pos,ori):\n",
    "    x,y = pos\n",
    "    if ori==0:\n",
    "        return (x-1 >= 0) and possible_states[(x-1,y)]\n",
    "    elif ori==1:\n",
    "        return (y+1 <= 5) and possible_states[(x,y+1)]\n",
    "    elif ori==2:\n",
    "        return (x+1 <= 4) and possible_states[(x+1,y)]\n",
    "    else:\n",
    "        return (y-1 >= 0) and possible_states[(x,y-1)]\n",
    "\n",
    "def take_action(a,pos,ori):\n",
    "    x,y = pos\n",
    "    if a==0: #turn\n",
    "        position = pos\n",
    "        orientation = (ori + 1) %4\n",
    "    else: #go forward\n",
    "        orientation = ori\n",
    "        if ori==0:\n",
    "            position = (x-1,y)\n",
    "        elif ori==1:\n",
    "            position = (x,y+1)\n",
    "        elif ori==2:\n",
    "            position = (x+1,y)\n",
    "        else:\n",
    "            position = (x,y-1)\n",
    "    return position,orientation\n",
    "\n",
    "bad_states_list = [(1,0),(1,2),(4,4)]\n",
    "def evaluate_cost(pos):\n",
    "    if pos in bad_states_list:\n",
    "        return -50\n",
    "    if pos==(0,5):\n",
    "        return 1000\n",
    "    return 0"
   ]
  },
  {
   "cell_type": "code",
   "execution_count": 49,
   "metadata": {},
   "outputs": [
    {
     "data": {
      "text/plain": [
       "<matplotlib.image.AxesImage at 0x21104519410>"
      ]
     },
     "execution_count": 49,
     "metadata": {},
     "output_type": "execute_result"
    },
    {
     "data": {
      "image/png": "[encoded data removed]",
      "text/plain": [
       "<Figure size 576x480 with 1 Axes>"
      ]
     },
     "metadata": {},
     "output_type": "display_data"
    }
   ],
   "source": [
    "plt.matshow(possible_states, cmap=plt.cm.Blues)"
   ]
  },
  {
   "cell_type": "code",
   "execution_count": 60,
   "metadata": {},
   "outputs": [],
   "source": [
    "def follow_sequence_actions(sequence,position,orientation):\n",
    "    cost = 700\n",
    "    for action in sequence:\n",
    "        if action==0 or is_valid(action,position,orientation):\n",
    "            position,orientation = take_action(action,position,orientation)\n",
    "            cost += evaluate_cost(position)\n",
    "        else: #invalid action\n",
    "            return 0\n",
    "    return cost"
   ]
  },
  {
   "cell_type": "code",
   "execution_count": 61,
   "metadata": {},
   "outputs": [],
   "source": [
    "sequence_list = []\n",
    "for b1 in range(2):\n",
    "    for b2 in range(2):\n",
    "        for b3 in range(2):\n",
    "            for b4 in range(2):\n",
    "                for b5 in range(2):\n",
    "                    for b6 in range(2):\n",
    "                        for b7 in range(2):\n",
    "                            for b8 in range(2):\n",
    "                                for b9 in range(2):\n",
    "                                    for b10 in range(2):\n",
    "                                        sequence_list.append((b1,b2,b3,b4,b5,b6,b7,b8,b9,b10))"
   ]
  },
  {
   "cell_type": "code",
   "execution_count": 62,
   "metadata": {},
   "outputs": [],
   "source": [
    "def stringify(seq):\n",
    "    string = ''\n",
    "    for n in seq:\n",
    "        string+=str(n)\n",
    "    return string"
   ]
  },
  {
   "cell_type": "code",
   "execution_count": 98,
   "metadata": {},
   "outputs": [],
   "source": [
    "position = (2,2)\n",
    "orientation = 0 #0 North, 1 East, 2 south, 3 West\n",
    "\n",
    "possible_sequence = []\n",
    "possible_sequence_cost = []\n",
    "for sequence in sequence_list:\n",
    "    cost = follow_sequence_actions(sequence,position,orientation)\n",
    "    if cost!=None:\n",
    "        possible_sequence_cost.append(cost)\n",
    "        possible_sequence.append(sequence)"
   ]
  },
  {
   "cell_type": "code",
   "execution_count": 100,
   "metadata": {},
   "outputs": [
    {
     "data": {
      "image/png": "[encoded data removed]",
      "text/plain": [
       "<Figure size 640x480 with 1 Axes>"
      ]
     },
     "metadata": {},
     "output_type": "display_data"
    }
   ],
   "source": [
    "plt.bar([i for i in np.arange(len(possible_sequence))],possible_sequence_cost,width=0.5)\n",
    "plt.show()"
   ]
  },
  {
   "cell_type": "code",
   "execution_count": 192,
   "metadata": {},
   "outputs": [
    {
     "name": "stdout",
     "output_type": "stream",
     "text": [
      "397\n"
     ]
    },
    {
     "data": {
      "text/plain": [
       "(0, 1, 1, 0, 0, 0, 1, 1, 0, 1)"
      ]
     },
     "execution_count": 192,
     "metadata": {},
     "output_type": "execute_result"
    }
   ],
   "source": [
    "print(np.argmax(possible_sequence_cost))\n",
    "possible_sequence[np.argmax(possible_sequence_cost)]"
   ]
  },
  {
   "cell_type": "markdown",
   "metadata": {},
   "source": [
    "<h2>Compressive Sensing</h2>\n",
    "<h3>Ideal compressive sensing</h3>"
   ]
  },
  {
   "cell_type": "code",
   "execution_count": 20,
   "metadata": {},
   "outputs": [],
   "source": [
    "def bin_to_pattern(x):\n",
    "    return [ [1-int(i), int(i)] for i in x ]"
   ]
  },
  {
   "cell_type": "code",
   "execution_count": 21,
   "metadata": {},
   "outputs": [],
   "source": [
    "def create_specific_patterns(mode1,mode2,size):\n",
    "    pats =[]\n",
    "    for i in range(2):\n",
    "        for j in range(2):\n",
    "            pats.append( [[1,1]]*mode1 + bin_to_pattern(str(i)) + [[1,1]]*(mode2-mode1-1) + bin_to_pattern(str(j)) + [[1,1]]*(size-mode1-(mode2-mode1-1)-2) )\n",
    "    return pats"
   ]
  },
  {
   "cell_type": "code",
   "execution_count": 42,
   "metadata": {},
   "outputs": [],
   "source": [
    "def dev_pattern(pat):\n",
    "    f = np.array([1])\n",
    "    for i in pat:\n",
    "        f = np.kron(i,f)\n",
    "    return f"
   ]
  },
  {
   "cell_type": "code",
   "execution_count": 321,
   "metadata": {},
   "outputs": [],
   "source": [
    "#Nearest neighbor measurements\n",
    "all_pat = []\n",
    "y = []\n",
    "\n",
    "for bit in range(9):\n",
    "    all_pat +=  create_specific_patterns(bit,bit+1,10)\n",
    "\n",
    "Phi = np.array([dev_pattern(p) for p in all_pat])\n",
    "y = np.array(Phi * np.matrix(possible_sequence_cost).T).T[0]"
   ]
  },
  {
   "cell_type": "code",
   "execution_count": 322,
   "metadata": {},
   "outputs": [
    {
     "name": "stderr",
     "output_type": "stream",
     "text": [
      "c:\\Users\\Baptiste\\Documents\\PhD\\.venv\\Lib\\site-packages\\sklearn\\linear_model\\_omp.py:445: RuntimeWarning: Orthogonal matching pursuit ended prematurely due to linear dependence in the dictionary. The requested precision might not have been met.\n",
      "  out = _cholesky_omp(\n"
     ]
    },
    {
     "name": "stdout",
     "output_type": "stream",
     "text": [
      "0\n"
     ]
    },
    {
     "data": {
      "image/png": "[encoded data removed]",
      "text/plain": [
       "<Figure size 640x480 with 1 Axes>"
      ]
     },
     "metadata": {},
     "output_type": "display_data"
    },
    {
     "data": {
      "image/png": "[encoded data removed]",
      "text/plain": [
       "<Figure size 640x480 with 1 Axes>"
      ]
     },
     "metadata": {},
     "output_type": "display_data"
    }
   ],
   "source": [
    "omp = OrthogonalMatchingPursuit(n_nonzero_coefs=20)\n",
    "omp.fit(Phi, y)\n",
    "coefficients = [ i if i>0 else 0 for i in omp.coef_]\n",
    "\n",
    "print(coefficients[397])\n",
    "\n",
    "plt.bar([i for i in np.arange(len(possible_sequence))],possible_sequence_cost,width=0.5)\n",
    "plt.show()\n",
    "plt.bar([i for i in np.arange(len(coefficients))],coefficients,width=5)\n",
    "plt.show()"
   ]
  },
  {
   "cell_type": "code",
   "execution_count": 323,
   "metadata": {},
   "outputs": [
    {
     "name": "stdout",
     "output_type": "stream",
     "text": [
      "1906.1389837005943\n"
     ]
    },
    {
     "data": {
      "image/png": "[encoded data removed]",
      "text/plain": [
       "<Figure size 640x480 with 1 Axes>"
      ]
     },
     "metadata": {},
     "output_type": "display_data"
    },
    {
     "data": {
      "image/png": "[encoded data removed]",
      "text/plain": [
       "<Figure size 640x480 with 1 Axes>"
      ]
     },
     "metadata": {},
     "output_type": "display_data"
    }
   ],
   "source": [
    "#Random measurements\n",
    "cheat_Phi = np.random.rand(200,1024)\n",
    "cheat_y = np.array(cheat_Phi * np.matrix(possible_sequence_cost).T).T[0]\n",
    "\n",
    "omp = OrthogonalMatchingPursuit(n_nonzero_coefs=10)\n",
    "omp.fit(cheat_Phi, cheat_y)\n",
    "coefficients = [ i if i>0 else 0 for i in omp.coef_]\n",
    "\n",
    "print(coefficients[397])\n",
    "\n",
    "plt.bar([i for i in np.arange(len(possible_sequence))],possible_sequence_cost,width=0.5)\n",
    "plt.show()\n",
    "plt.bar([i for i in np.arange(len(coefficients))],coefficients,width=5)\n",
    "plt.show()"
   ]
  },
  {
   "cell_type": "markdown",
   "metadata": {},
   "source": [
    "<h3>Estimated measurement monte carlo</h3>"
   ]
  },
  {
   "cell_type": "code",
   "execution_count": null,
   "metadata": {},
   "outputs": [],
   "source": [
    "#Sample from possible sequences (be careful not to take the solution already)\n",
    "seq_sample = []\n",
    "seq_sample_cost = []\n",
    "for _ in range(200):\n",
    "    i = np.random.randint(0,len(possible_sequence))\n",
    "    seq_sample.append(possible_sequence[i])\n",
    "    seq_sample_cost.append(possible_sequence_cost[i])"
   ]
  },
  {
   "cell_type": "code",
   "execution_count": null,
   "metadata": {},
   "outputs": [],
   "source": [
    "def estimate_measurement(bit1,bit2,v1,v2):\n",
    "    costs = []\n",
    "    for seq,cost in zip(seq_sample,seq_sample_cost):\n",
    "        if seq[bit1]==v1 and seq[bit2]==v2:\n",
    "            costs.append(cost)\n",
    "    if costs == []:\n",
    "        return\n",
    "    else:\n",
    "        return np.sum(costs)"
   ]
  },
  {
   "cell_type": "code",
   "execution_count": null,
   "metadata": {},
   "outputs": [],
   "source": [
    "all_pat = []\n",
    "y = []\n",
    "\n",
    "for bit in range(9):\n",
    "    all_pat +=  create_specific_patterns(bit,bit+1,10)\n",
    "    for v1 in range(2):\n",
    "        for v2 in range(2):\n",
    "            # print(v1,v2)\n",
    "            res = estimate_measurement(bit,bit+1,v1,v2)\n",
    "            if res!=None:\n",
    "                y.append(res)\n",
    "\n",
    "Phi = np.array([dev_pattern(p) for p in all_pat])\n",
    "\n",
    "y = np.array(y)"
   ]
  }
 ],
 "metadata": {
  "kernelspec": {
   "display_name": ".venv",
   "language": "python",
   "name": "python3"
  },
  "language_info": {
   "codemirror_mode": {
    "name": "ipython",
    "version": 3
   },
   "file_extension": ".py",
   "mimetype": "text/x-python",
   "name": "python",
   "nbconvert_exporter": "python",
   "pygments_lexer": "ipython3",
   "version": "3.11.9"
  }
 },
 "nbformat": 4,
 "nbformat_minor": 2
}
