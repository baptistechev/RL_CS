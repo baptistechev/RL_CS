{
 "cells": [
  {
   "cell_type": "code",
   "execution_count": 1,
   "metadata": {},
   "outputs": [],
   "source": [
    "import numpy as np\n",
    "import matplotlib.pyplot as plt\n",
    "from sklearn.linear_model import OrthogonalMatchingPursuit\n",
    "import copy\n",
    "from collections import Counter"
   ]
  },
  {
   "cell_type": "code",
   "execution_count": 260,
   "metadata": {},
   "outputs": [],
   "source": [
    "def bin_to_pattern(x):\n",
    "    return [ [1-int(i), int(i)] for i in x ]\n",
    "def create_specific_patterns(mode1,mode2,size):\n",
    "    pats =[]\n",
    "    for i in range(2):\n",
    "        for j in range(2):\n",
    "            pats.append( [[1,1]]*mode1 + bin_to_pattern(str(i)) + [[1,1]]*(mode2-mode1-1) + bin_to_pattern(str(j)) + [[1,1]]*(size-mode1-(mode2-mode1-1)-2) )\n",
    "    return pats\n",
    "def create_specific_patterns3(mode1,mode2,mode3,size):\n",
    "    pats =[]\n",
    "    for i in range(2):\n",
    "        for j in range(2):\n",
    "            for k in range(2):\n",
    "                pats.append( [[1,1]]*mode1 + bin_to_pattern(str(i)) + [[1,1]]*(mode2-mode1-1) + bin_to_pattern(str(j)) + [[1,1]]*(mode3-(mode2-mode1-1)-mode1-2) + bin_to_pattern(str(k)) + [[1,1]]*(size -mode1-(mode2-mode1-1)-(mode3-(mode2-mode1-1)-mode1-2)-3) )\n",
    "    return pats\n",
    "def create_specific_patterns4(mode1,mode2,mode3,mode4,size):\n",
    "    pats = []\n",
    "    temp_pats = create_specific_patterns3(mode1,mode2,mode3,size)\n",
    "    for p in temp_pats:\n",
    "        for k in range(2):\n",
    "            p_prime = copy.deepcopy(p)\n",
    "            p_prime[mode4] = bin_to_pattern(str(k))[0]\n",
    "            pats.append(p_prime)\n",
    "    return pats\n",
    "def create_specific_patterns5(mode1, mode2, mode3, mode4, mode5, size):\n",
    "    \"\"\"\n",
    "    Generate specific patterns for 5 modes.\n",
    "    \"\"\"\n",
    "    pats = []\n",
    "    temp_pats = create_specific_patterns4(mode1, mode2, mode3, mode4, size)\n",
    "    for p in temp_pats:\n",
    "        for k in range(2):\n",
    "            p_prime = copy.deepcopy(p)\n",
    "            p_prime[mode5] = bin_to_pattern(str(k))[0]\n",
    "            pats.append(p_prime)\n",
    "    return pats\n",
    "def create_specific_patterns8(mode1, mode2, mode3, mode4, mode5, mode6, mode7, mode8, size):\n",
    "    \"\"\"\n",
    "    Generate specific patterns for 8 modes.\n",
    "    \"\"\"\n",
    "    pats = []\n",
    "    temp_pats = create_specific_patterns5(mode1, mode2, mode3, mode4, mode5, size)\n",
    "    for p in temp_pats:\n",
    "        for k in range(2):\n",
    "            p_prime = copy.deepcopy(p)\n",
    "            p_prime[mode6] = bin_to_pattern(str(k))[0]\n",
    "            for l in range(2):\n",
    "                p_prime2 = copy.deepcopy(p_prime)\n",
    "                p_prime2[mode7] = bin_to_pattern(str(l))[0]\n",
    "                for m in range(2):\n",
    "                    p_prime3 = copy.deepcopy(p_prime2)\n",
    "                    p_prime3[mode8] = bin_to_pattern(str(m))[0]\n",
    "                    pats.append(p_prime3)\n",
    "    return pats\n",
    "def dev_pattern(pat):\n",
    "    f = np.array([1])\n",
    "    for i in pat:\n",
    "        f = np.kron(f,i)\n",
    "    return f"
   ]
  },
  {
   "cell_type": "markdown",
   "metadata": {},
   "source": [
    "<h2>Game modeling</h2>"
   ]
  },
  {
   "cell_type": "code",
   "execution_count": 3,
   "metadata": {},
   "outputs": [],
   "source": [
    "def stringify(seq):\n",
    "    string = ''\n",
    "    for n in seq:\n",
    "        string+=str(n)\n",
    "    return string"
   ]
  },
  {
   "cell_type": "code",
   "execution_count": 80,
   "metadata": {},
   "outputs": [
    {
     "data": {
      "image/png": "[encoded data removed]",
      "text/plain": [
       "<Figure size 800x800 with 1 Axes>"
      ]
     },
     "metadata": {},
     "output_type": "display_data"
    },
    {
     "name": "stdout",
     "output_type": "stream",
     "text": [
      "Distance Matrix:\n",
      "[[  0.          42.61844655  36.30865556 113.51036721 104.10303705\n",
      "   48.66801271 115.24366005  71.93175414]\n",
      " [ 42.61844655   0.          35.75457423  72.17973046  65.5752389\n",
      "   27.38313599  73.96146235  29.6649654 ]\n",
      " [ 36.30865556  35.75457423   0.          89.8446506   76.46753621\n",
      "   18.60677986  91.37537687  55.01446605]\n",
      " [113.51036721  72.17973046  89.8446506    0.          18.67050808\n",
      "   71.24129816   1.81028846  42.81688755]\n",
      " [104.10303705  65.5752389   76.46753621  18.67050808   0.\n",
      "   58.23254012  19.29274382  39.30493438]\n",
      " [ 48.66801271  27.38313599  18.60677986  71.24129816  58.23254012\n",
      "    0.          72.77759715  37.97411744]\n",
      " [115.24366005  73.96146235  91.37537687   1.81028846  19.29274382\n",
      "   72.77759715   0.          44.61777639]\n",
      " [ 71.93175414  29.6649654   55.01446605  42.81688755  39.30493438\n",
      "   37.97411744  44.61777639   0.        ]]\n"
     ]
    }
   ],
   "source": [
    "def generate_tsp_instance(num_cities, seed=None):\n",
    "    \"\"\"\n",
    "    Generate an instance of the Traveling Salesman Problem (TSP) with random city coordinates.\n",
    "    \n",
    "    Args:\n",
    "        num_cities (int): Number of cities.\n",
    "        seed (int, optional): Random seed for reproducibility.\n",
    "    \n",
    "    Returns:\n",
    "        tuple: A tuple containing:\n",
    "            - coordinates (ndarray): Array of shape (num_cities, 2) with city coordinates.\n",
    "            - distance_matrix (ndarray): Array of shape (num_cities, num_cities) with pairwise distances.\n",
    "    \"\"\"\n",
    "    if seed is not None:\n",
    "        np.random.seed(seed)\n",
    "    \n",
    "    # Generate random coordinates for cities\n",
    "    coordinates = np.random.rand(num_cities, 2) * 100  # Scale to a 100x100 grid\n",
    "    \n",
    "    # Compute the distance matrix\n",
    "    distance_matrix = np.zeros((num_cities, num_cities))\n",
    "    for i in range(num_cities):\n",
    "        for j in range(num_cities):\n",
    "            distance_matrix[i, j] = np.linalg.norm(coordinates[i] - coordinates[j])\n",
    "    \n",
    "    return coordinates, distance_matrix\n",
    "\n",
    "# Generate TSP instance\n",
    "coordinates, distance_matrix = generate_tsp_instance(num_cities=8, seed=398)\n",
    "\n",
    "# Plot the cities\n",
    "plt.figure(figsize=(8, 8))\n",
    "plt.scatter(coordinates[:, 0], coordinates[:, 1], c='red', label='Cities')\n",
    "for i, (x, y) in enumerate(coordinates):\n",
    "    plt.text(x + 1, y + 1, str(i), fontsize=12)\n",
    "plt.title(\"TSP Instance: 12 Cities\")\n",
    "plt.xlabel(\"X Coordinate\")\n",
    "plt.ylabel(\"Y Coordinate\")\n",
    "plt.legend()\n",
    "plt.grid()\n",
    "plt.show()\n",
    "\n",
    "# Print the distance matrix\n",
    "print(\"Distance Matrix:\")\n",
    "print(distance_matrix)"
   ]
  },
  {
   "cell_type": "code",
   "execution_count": 241,
   "metadata": {},
   "outputs": [
    {
     "data": {
      "text/plain": [
       "5040"
      ]
     },
     "execution_count": 241,
     "metadata": {},
     "output_type": "execute_result"
    }
   ],
   "source": [
    "n = 13\n",
    "# sequence_list = np.array([np.array(list(bin(i)[3:]),dtype=np.int32) for i in range(2**n, 2**(n+1))])\n",
    "# len(sequence_list)\n",
    "from itertools import permutations\n",
    "\n",
    "def enumerate_permutations(size):\n",
    "    \"\"\"\n",
    "    Enumerate all permutations of the values 0 to 7.\n",
    "    \n",
    "    Returns:\n",
    "        list: A list of tuples, where each tuple is a permutation of the values 0 to 7.\n",
    "    \"\"\"\n",
    "    values = range(size)  # Values from 0 to 7\n",
    "    all_permutations = list(permutations(values))\n",
    "    all_permutations = [perm for perm in all_permutations if perm[0] == 0]\n",
    "    return all_permutations\n",
    "\n",
    "# Example usage\n",
    "route_list = enumerate_permutations(8)\n",
    "len(route_list)"
   ]
  },
  {
   "cell_type": "code",
   "execution_count": 83,
   "metadata": {},
   "outputs": [],
   "source": [
    "def estimate_cost(route, distance_matrix):\n",
    "    \"\"\"\n",
    "    Compute the total distance of a given route in the Traveling Salesman Problem (TSP).\n",
    "    \n",
    "    Args:\n",
    "        route (list): A list of city indices representing the order of the route.\n",
    "        distance_matrix (ndarray): A 2D array where distance_matrix[i][j] represents the distance between city i and city j.\n",
    "    \n",
    "    Returns:\n",
    "        float: The total distance of the route.\n",
    "    \"\"\"\n",
    "    total_distance = 0\n",
    "    for i in range(len(route) - 1):\n",
    "        total_distance += distance_matrix[route[i]][route[i + 1]]\n",
    "    # Add the distance to return to the starting city\n",
    "    return total_distance"
   ]
  },
  {
   "cell_type": "code",
   "execution_count": 466,
   "metadata": {},
   "outputs": [],
   "source": [
    "def monte_carlo_compressive_learning(Phi,sequence_cost,sample_size=200,threshold=20):\n",
    "\n",
    "    #Sample\n",
    "    sample_index = np.random.randint(0,len(sequence_cost),sample_size)\n",
    "    sequence_cost_spectrum = np.zeros_like(sequence_cost)\n",
    "    sequence_cost_spectrum[sample_index] = sequence_cost[sample_index]\n",
    "\n",
    "    #Threshold\n",
    "    sequence_cost_spectrum[sequence_cost_spectrum<threshold]=0\n",
    "    non_zero_elements = sequence_cost_spectrum[sequence_cost_spectrum != 0]\n",
    "    print(len(non_zero_elements))\n",
    "\n",
    "    #Measurements\n",
    "    y = []\n",
    "    y = np.array(Phi * np.matrix(sequence_cost_spectrum).T).T[0]\n",
    "    y = np.array(y)\n",
    "\n",
    "    #Matching pursuit\n",
    "    try:\n",
    "        omp = OrthogonalMatchingPursuit(n_nonzero_coefs=10)\n",
    "        omp.fit(Phi, y)\n",
    "        coefficients = [ i if i>0 else 0 for i in omp.coef_]\n",
    "    except:\n",
    "        pass\n",
    "\n",
    "    return coefficients"
   ]
  },
  {
   "cell_type": "markdown",
   "metadata": {},
   "source": [
    "<h2>Naive Test</h2>"
   ]
  },
  {
   "cell_type": "code",
   "execution_count": 221,
   "metadata": {},
   "outputs": [
    {
     "data": {
      "image/png": "[encoded data removed]",
      "text/plain": [
       "<Figure size 640x480 with 1 Axes>"
      ]
     },
     "metadata": {},
     "output_type": "display_data"
    },
    {
     "name": "stdout",
     "output_type": "stream",
     "text": [
      "1100\n",
      "378.25073226857376\n",
      "(0, 2, 5, 1, 7, 4, 3, 6)\n"
     ]
    }
   ],
   "source": [
    "n=13\n",
    "sequence_cost = []\n",
    "for route in route_list:\n",
    "    sequence_cost.append(estimate_cost(route,distance_matrix))\n",
    "sequence_cost = 550 - np.array(sequence_cost)\n",
    "sequence_cost = np.pad(sequence_cost, (0, 2**n - len(sequence_cost)), mode='constant', constant_values=0)\n",
    "\n",
    "plt.bar([i for i in np.arange(len(sequence_cost))],sequence_cost,width=1.5)\n",
    "plt.show()\n",
    "ma = np.argmax(sequence_cost)\n",
    "print(ma)\n",
    "print(sequence_cost[ma])\n",
    "print(route_list[ma])"
   ]
  },
  {
   "cell_type": "code",
   "execution_count": 235,
   "metadata": {},
   "outputs": [
    {
     "data": {
      "text/plain": [
       "0.99"
      ]
     },
     "execution_count": 235,
     "metadata": {},
     "output_type": "execute_result"
    }
   ],
   "source": [
    "from scipy.optimize import dual_annealing\n",
    "\n",
    "# Define the objective function\n",
    "def my_f(x):\n",
    "    \"\"\"\n",
    "    Objective function to minimize.\n",
    "    Converts x to an integer index and returns the negative sequence cost.\n",
    "    \"\"\"\n",
    "    x = int(round(x[0]))  # Ensure x is a single integer index\n",
    "    if 0 <= x < len(sequence_cost):  # Check bounds\n",
    "        return -sequence_cost[x]\n",
    "    else:\n",
    "        return float('inf')  # Return a large value if out of bounds\n",
    "\n",
    "# Define bounds for the single-dimensional problem\n",
    "bounds = [(0, len(sequence_cost) - 1)]  # Single-dimensional bounds\n",
    "\n",
    "# Perform dual annealing optimization\n",
    "results = []\n",
    "for _ in range(200):\n",
    "    res = dual_annealing(my_f, bounds=bounds, maxiter=400,no_local_search=True)\n",
    "    # print(\"Optimization result:\", res)\n",
    "    results.append(int(round(res.x[0])) in np.argpartition(sequence_cost, -20)[-20:])\n",
    "np.average(results)"
   ]
  },
  {
   "cell_type": "code",
   "execution_count": 224,
   "metadata": {},
   "outputs": [
    {
     "data": {
      "text/plain": [
       "0.7566666666666667"
      ]
     },
     "execution_count": 224,
     "metadata": {},
     "output_type": "execute_result"
    }
   ],
   "source": [
    "#Random\n",
    "Phi = np.random.rand(250,2**n)\n",
    "thresh = 295 \n",
    "\n",
    "res = []\n",
    "for _ in range(300):\n",
    "    coefficients = monte_carlo_compressive_learning(Phi,sequence_cost,threshold=thresh,sample_size=400)\n",
    "    good_opt = np.intersect1d(np.argpartition(sequence_cost, -20)[-20:],np.nonzero(coefficients)[0])\n",
    "    res.append(1 if len(good_opt) > 0 else 0)\n",
    "np.average(res)"
   ]
  },
  {
   "cell_type": "code",
   "execution_count": 225,
   "metadata": {},
   "outputs": [
    {
     "data": {
      "text/plain": [
       "0.325"
      ]
     },
     "execution_count": 225,
     "metadata": {},
     "output_type": "execute_result"
    }
   ],
   "source": [
    "#Nearest neighbor quadruplets\n",
    "all_pat = []\n",
    "for i in range(n-3):\n",
    "    all_pat += create_specific_patterns4(i,i+1,i+2,i+3,n)\n",
    "Phi = np.array([dev_pattern(p) for p in all_pat])\n",
    "thresh = 295 \n",
    "\n",
    "res = []\n",
    "for _ in range(200):\n",
    "    coefficients = monte_carlo_compressive_learning(Phi,sequence_cost,threshold=thresh,sample_size=400)\n",
    "    good_opt = np.intersect1d(np.argpartition(sequence_cost, -20)[-20:],np.nonzero(coefficients)[0])\n",
    "    res.append(1 if len(good_opt) > 0 else 0)\n",
    "np.average(res)"
   ]
  },
  {
   "cell_type": "code",
   "execution_count": 226,
   "metadata": {},
   "outputs": [
    {
     "data": {
      "text/plain": [
       "0.495"
      ]
     },
     "execution_count": 226,
     "metadata": {},
     "output_type": "execute_result"
    }
   ],
   "source": [
    "#Nearest neighbor quintuplets\n",
    "all_pat = []\n",
    "for i in range(n-4):\n",
    "    all_pat += create_specific_patterns5(i,i+1,i+2,i+3,i+4,n)\n",
    "Phi = np.array([dev_pattern(p) for p in all_pat])\n",
    "thresh = 295 \n",
    "\n",
    "res = []\n",
    "for _ in range(200):\n",
    "    coefficients = monte_carlo_compressive_learning(Phi,sequence_cost,threshold=thresh,sample_size=400)\n",
    "    good_opt = np.intersect1d(np.argpartition(sequence_cost, -20)[-20:],np.nonzero(coefficients)[0])\n",
    "    res.append(1 if len(good_opt) > 0 else 0)\n",
    "np.average(res)"
   ]
  },
  {
   "cell_type": "code",
   "execution_count": 227,
   "metadata": {},
   "outputs": [
    {
     "data": {
      "text/plain": [
       "0.105"
      ]
     },
     "execution_count": 227,
     "metadata": {},
     "output_type": "execute_result"
    }
   ],
   "source": [
    "#Nearest neighbor pairs\n",
    "all_pat = []\n",
    "for i in range(n-1):\n",
    "    all_pat += create_specific_patterns(i,i+1,n)\n",
    "Phi = np.array([dev_pattern(p) for p in all_pat])\n",
    "thresh = 295 \n",
    "\n",
    "res = []\n",
    "for _ in range(200):\n",
    "    coefficients = monte_carlo_compressive_learning(Phi,sequence_cost,threshold=thresh,sample_size=400)\n",
    "    good_opt = np.intersect1d(np.argpartition(sequence_cost, -20)[-20:],np.nonzero(coefficients)[0])\n",
    "    res.append(1 if len(good_opt) > 0 else 0)\n",
    "np.average(res)"
   ]
  },
  {
   "cell_type": "code",
   "execution_count": 228,
   "metadata": {},
   "outputs": [
    {
     "data": {
      "text/plain": [
       "0.205"
      ]
     },
     "execution_count": 228,
     "metadata": {},
     "output_type": "execute_result"
    }
   ],
   "source": [
    "#All pairs\n",
    "all_pat = []\n",
    "all_pat = []\n",
    "for i in range(n):\n",
    "    for j in range(i+1,n):\n",
    "        all_pat += create_specific_patterns(i,j,n)\n",
    "Phi = np.array([dev_pattern(p) for p in all_pat])\n",
    "thresh = 295 \n",
    "\n",
    "res = []\n",
    "for _ in range(200):\n",
    "    coefficients = monte_carlo_compressive_learning(Phi,sequence_cost,threshold=thresh,sample_size=400)\n",
    "    good_opt = np.intersect1d(np.argpartition(sequence_cost, -20)[-20:],np.nonzero(coefficients)[0])\n",
    "    res.append(1 if len(good_opt) > 0 else 0)\n",
    "np.average(res)"
   ]
  },
  {
   "cell_type": "code",
   "execution_count": 229,
   "metadata": {},
   "outputs": [
    {
     "data": {
      "text/plain": [
       "0.225"
      ]
     },
     "execution_count": 229,
     "metadata": {},
     "output_type": "execute_result"
    }
   ],
   "source": [
    "#Nearest neighbor triplets\n",
    "all_pat = []\n",
    "for i in range(n-2):\n",
    "    all_pat += create_specific_patterns3(i,i+1,i+2,n)\n",
    "Phi = np.array([dev_pattern(p) for p in all_pat])\n",
    "thresh = 295 \n",
    "\n",
    "res = []\n",
    "for _ in range(200):\n",
    "    coefficients = monte_carlo_compressive_learning(Phi,sequence_cost,threshold=thresh,sample_size=400)\n",
    "    good_opt = np.intersect1d(np.argpartition(sequence_cost, -20)[-20:],np.nonzero(coefficients)[0])\n",
    "    res.append(1 if len(good_opt) > 0 else 0)\n",
    "np.average(res)"
   ]
  },
  {
   "cell_type": "code",
   "execution_count": 231,
   "metadata": {},
   "outputs": [
    {
     "data": {
      "text/plain": [
       "0.3"
      ]
     },
     "execution_count": 231,
     "metadata": {},
     "output_type": "execute_result"
    }
   ],
   "source": [
    "#All quadruplets\n",
    "all_pat = []\n",
    "for i in range(n):\n",
    "    for j in range(i+1,n):\n",
    "        for k in range(j+1,n):\n",
    "            for l in range(k+1,n):\n",
    "                all_pat += create_specific_patterns4(i,j,k,l,n)\n",
    "Phi = np.array([dev_pattern(p) for p in all_pat])\n",
    "thresh = 295 \n",
    "\n",
    "res = []\n",
    "for _ in range(10):\n",
    "    coefficients = monte_carlo_compressive_learning(Phi,sequence_cost,threshold=thresh,sample_size=400)\n",
    "    good_opt = np.intersect1d(np.argpartition(sequence_cost, -20)[-20:],np.nonzero(coefficients)[0])\n",
    "    res.append(1 if len(good_opt) > 0 else 0)\n",
    "np.average(res)"
   ]
  },
  {
   "cell_type": "code",
   "execution_count": 233,
   "metadata": {},
   "outputs": [
    {
     "data": {
      "text/plain": [
       "0.76"
      ]
     },
     "execution_count": 233,
     "metadata": {},
     "output_type": "execute_result"
    }
   ],
   "source": [
    "#Nearest neighbor octuplets\n",
    "all_pat = []\n",
    "for i in range(n-7):\n",
    "    all_pat += create_specific_patterns8(i,i+1,i+2,i+3,i+4,i+5,i+6,i+7,n)\n",
    "Phi = np.array([dev_pattern(p) for p in all_pat])\n",
    "thresh = 295 \n",
    "\n",
    "res = []\n",
    "for _ in range(100):\n",
    "    coefficients = monte_carlo_compressive_learning(Phi,sequence_cost,threshold=thresh,sample_size=400)\n",
    "    good_opt = np.intersect1d(np.argpartition(sequence_cost, -20)[-20:],np.nonzero(coefficients)[0])\n",
    "    res.append(1 if len(good_opt) > 0 else 0)\n",
    "np.average(res)"
   ]
  },
  {
   "cell_type": "markdown",
   "metadata": {},
   "source": [
    "<h2>Structure optimized Test</h2>"
   ]
  },
  {
   "cell_type": "code",
   "execution_count": 687,
   "metadata": {},
   "outputs": [],
   "source": [
    "def create_specific_patterns_dit_version(mode1,mode2,size):\n",
    "    pats =[]\n",
    "    for i in range(6):\n",
    "        for j in range(6):\n",
    "            pats.append( [[1,1,1,1,1,1]]*mode1 + [[1 if i==0 else 0,1 if i==1 else 0,1 if i==2 else 0,1 if i==3 else 0,1 if i==4 else 0,1 if i==5 else 0]] + [[1,1,1,1,1,1]]*(mode2-mode1-1) + [[1 if j==0 else 0,1 if j==1 else 0,1 if j==2 else 0,1 if j==3 else 0,1 if j==4 else 0,1 if j==5 else 0]] + [[1,1,1,1,1,1]]*(size-mode1-(mode2-mode1-1)-2) )\n",
    "    return pats"
   ]
  },
  {
   "cell_type": "code",
   "execution_count": 712,
   "metadata": {},
   "outputs": [],
   "source": [
    "def create_specific_patterns6_dit_version(mode1, mode2, mode3, mode4, mode5, mode6, size):\n",
    "    \"\"\"\n",
    "    Generate specific patterns for 6 modes in the same way create_specific_patterns3 generalizes create_specific_patterns.\n",
    "\n",
    "    Args:\n",
    "        mode1, mode2, mode3, mode4, mode5, mode6 (int): Indices of the modes to modify.\n",
    "        size (int): Total size of the pattern.\n",
    "\n",
    "    Returns:\n",
    "        list: A list of patterns with 6 modes modified.\n",
    "    \"\"\"\n",
    "    pats = []\n",
    "    for i in range(6):\n",
    "        for j in range(6):\n",
    "            for k in range(6):\n",
    "                for l in range(6):\n",
    "                    for m in range(6):\n",
    "                        for n in range(6):\n",
    "                            pats.append(\n",
    "                                [[1, 1, 1, 1, 1, 1]] * mode1 +\n",
    "                                [[1 if i == x else 0 for x in range(6)]] +\n",
    "                                [[1, 1, 1, 1, 1, 1]] * (mode2 - mode1 - 1) +\n",
    "                                [[1 if j == x else 0 for x in range(6)]] +\n",
    "                                [[1, 1, 1, 1, 1, 1]] * (mode3 - mode2 - 1) +\n",
    "                                [[1 if k == x else 0 for x in range(6)]] +\n",
    "                                [[1, 1, 1, 1, 1, 1]] * (mode4 - mode3 - 1) +\n",
    "                                [[1 if l == x else 0 for x in range(6)]] +\n",
    "                                [[1, 1, 1, 1, 1, 1]] * (mode5 - mode4 - 1) +\n",
    "                                [[1 if m == x else 0 for x in range(6)]] +\n",
    "                                [[1, 1, 1, 1, 1, 1]] * (mode6 - mode5 - 1) +\n",
    "                                [[1 if n == x else 0 for x in range(6)]] +\n",
    "                                [[1, 1, 1, 1, 1, 1]] * (size - mode6 - 1)\n",
    "                            )\n",
    "    return pats"
   ]
  },
  {
   "cell_type": "code",
   "execution_count": 689,
   "metadata": {},
   "outputs": [
    {
     "name": "stdout",
     "output_type": "stream",
     "text": [
      "46656\n",
      "16\n"
     ]
    },
    {
     "data": {
      "text/plain": [
       "120"
      ]
     },
     "execution_count": 689,
     "metadata": {},
     "output_type": "execute_result"
    }
   ],
   "source": [
    "num_cities = 6\n",
    "N = int(num_cities**(num_cities))\n",
    "n= round(np.log2(N))\n",
    "\n",
    "coordinates, distance_matrix = generate_tsp_instance(num_cities=num_cities, seed=38)\n",
    "route_list = np.array(enumerate_permutations(size=num_cities))\n",
    "print(N)\n",
    "print(n)\n",
    "len(route_list)"
   ]
  },
  {
   "cell_type": "code",
   "execution_count": 690,
   "metadata": {},
   "outputs": [
    {
     "data": {
      "image/png": "[encoded data removed]",
      "text/plain": [
       "<Figure size 640x480 with 1 Axes>"
      ]
     },
     "metadata": {},
     "output_type": "display_data"
    },
    {
     "name": "stdout",
     "output_type": "stream",
     "text": [
      "1930\n",
      "228.93581105145498\n"
     ]
    },
    {
     "data": {
      "image/png": "[encoded data removed]",
      "text/plain": [
       "<Figure size 640x480 with 1 Axes>"
      ]
     },
     "metadata": {},
     "output_type": "display_data"
    }
   ],
   "source": [
    "def compute_pos_of_one(route,num_cities):\n",
    "    ind = route[1]\n",
    "    for city in route[2:]:\n",
    "        ind = ind * num_cities + city\n",
    "    return ind\n",
    "\n",
    "relevant_route_index = []\n",
    "sequence_cost = []\n",
    "for route in route_list:\n",
    "    relevant_route_index.append(compute_pos_of_one(route,num_cities))\n",
    "    sequence_cost.append(estimate_cost(route,distance_matrix))\n",
    "relevant_route_index = np.array(relevant_route_index)\n",
    "sequence_cost = 400 - np.array(sequence_cost)\n",
    "\n",
    "structured_cost_spectrum = np.zeros(N)\n",
    "structured_cost_spectrum[relevant_route_index] = sequence_cost\n",
    "# structured_cost_spectrum = np.pad(structured_cost_spectrum, (0, 2**n - len(structured_cost_spectrum)), mode='constant', constant_values=0)\n",
    "\n",
    "plt.bar(np.arange(N),structured_cost_spectrum,width=5)\n",
    "plt.show()\n",
    "ma = np.argmax(structured_cost_spectrum)\n",
    "print(ma)\n",
    "print(structured_cost_spectrum[ma])\n",
    "\n",
    "plt.bar(np.arange(len(route_list)),sequence_cost,width=1)\n",
    "plt.show()"
   ]
  },
  {
   "cell_type": "code",
   "execution_count": 691,
   "metadata": {},
   "outputs": [],
   "source": [
    "def monte_carlo_compressive_learning_structured(Phi,sequence_cost,structured_cost_spectrum,sample_size=200,threshold=20):\n",
    "\n",
    "    #Sample\n",
    "    sample_index = np.random.randint(0,len(route_list),sample_size).astype(int)\n",
    "    structure_sample_index = [compute_pos_of_one(route,num_cities) for route in route_list[sample_index]]\n",
    "\n",
    "    sequence_cost_spectrum = np.zeros_like(structured_cost_spectrum)\n",
    "    sequence_cost_spectrum[structure_sample_index] = structured_cost_spectrum[structure_sample_index]\n",
    "\n",
    "    #Threshold\n",
    "    sequence_cost_spectrum[sequence_cost_spectrum<threshold]=0\n",
    "    # non_zero_elements = sequence_cost_spectrum[sequence_cost_spectrum != 0]\n",
    "    # print(len(non_zero_elements))\n",
    "\n",
    "    #Measurements\n",
    "    y = []\n",
    "    y = np.array(Phi * np.matrix(sequence_cost_spectrum).T).T[0]\n",
    "    y = np.array(y)\n",
    "\n",
    "    #Matching pursuit\n",
    "    try:\n",
    "        omp = OrthogonalMatchingPursuit(n_nonzero_coefs=10)\n",
    "        omp.fit(Phi, y)\n",
    "        coefficients = [ i if i>0 else 0 for i in omp.coef_]\n",
    "    except:\n",
    "        pass\n",
    "\n",
    "    return coefficients"
   ]
  },
  {
   "cell_type": "code",
   "execution_count": 707,
   "metadata": {},
   "outputs": [
    {
     "data": {
      "text/plain": [
       "0.68"
      ]
     },
     "execution_count": 707,
     "metadata": {},
     "output_type": "execute_result"
    }
   ],
   "source": [
    "#Random\n",
    "Phi = np.random.rand(250,N)\n",
    "thresh = 170\n",
    "\n",
    "res = []\n",
    "for _ in range(100):\n",
    "    coefficients = monte_carlo_compressive_learning_structured(Phi,sequence_cost,structured_cost_spectrum,threshold=thresh,sample_size=20)\n",
    "    good_opt = np.intersect1d(np.argpartition(structured_cost_spectrum, -5)[-5:],np.nonzero(coefficients)[0])\n",
    "    # print(good_opt)\n",
    "    res.append(1 if len(good_opt) > 0 else 0)\n",
    "np.average(res)"
   ]
  },
  {
   "cell_type": "code",
   "execution_count": 645,
   "metadata": {},
   "outputs": [
    {
     "data": {
      "text/plain": [
       "0.82"
      ]
     },
     "execution_count": 645,
     "metadata": {},
     "output_type": "execute_result"
    }
   ],
   "source": [
    "from scipy.optimize import dual_annealing\n",
    "\n",
    "# Define the objective function\n",
    "def my_f(x):\n",
    "    \"\"\"\n",
    "    Objective function to minimize.\n",
    "    Converts x to an integer index and returns the negative sequence cost.\n",
    "    \"\"\"\n",
    "    x = int(round(x[0]))  # Ensure x is a single integer index\n",
    "    if 0 <= x < len(sequence_cost):  # Check bounds\n",
    "        return -sequence_cost[x]\n",
    "    else:\n",
    "        return float('inf')  # Return a large value if out of bounds\n",
    "\n",
    "# Define bounds for the single-dimensional problem\n",
    "bounds = [(0, len(sequence_cost) - 1)]  # Single-dimensional bounds\n",
    "\n",
    "# Perform dual annealing optimization\n",
    "results = []\n",
    "for _ in range(100):\n",
    "    res = dual_annealing(my_f, bounds=bounds, maxiter=20,no_local_search=True)\n",
    "    # print(\"Optimization result:\", res)\n",
    "    results.append(int(round(res.x[0])) in np.argpartition(sequence_cost, -5)[-5:])\n",
    "np.average(results)"
   ]
  },
  {
   "cell_type": "code",
   "execution_count": 709,
   "metadata": {},
   "outputs": [
    {
     "data": {
      "text/plain": [
       "0.39"
      ]
     },
     "execution_count": 709,
     "metadata": {},
     "output_type": "execute_result"
    }
   ],
   "source": [
    "#Nearest neighbor 6-dits\n",
    "all_pat = []\n",
    "for i in range(num_cities-1):\n",
    "    all_pat += create_specific_patterns_dit_version(i,i+1,num_cities)\n",
    "Phi = np.array([dev_pattern(p) for p in all_pat])\n",
    "thresh = 170\n",
    "\n",
    "res = []\n",
    "for _ in range(100):\n",
    "    coefficients = monte_carlo_compressive_learning_structured(Phi,sequence_cost,structured_cost_spectrum,threshold=thresh,sample_size=20)\n",
    "    good_opt = np.intersect1d(np.argpartition(structured_cost_spectrum, -5)[-5:],np.nonzero(coefficients)[0])\n",
    "    # print(good_opt)\n",
    "    res.append(1 if len(good_opt) > 0 else 0)\n",
    "np.average(res)"
   ]
  },
  {
   "cell_type": "code",
   "execution_count": null,
   "metadata": {},
   "outputs": [],
   "source": [
    "#Nearest neighbor 6-dits\n",
    "all_pat = create_specific_patterns6_dit_version(0,1,2,3,4,5,num_cities)\n",
    "Phi = np.array([dev_pattern(p) for p in all_pat])\n",
    "thresh = 170\n",
    "\n",
    "res = []\n",
    "for _ in range(1):\n",
    "    coefficients = monte_carlo_compressive_learning_structured(Phi,sequence_cost,structured_cost_spectrum,threshold=thresh,sample_size=20)\n",
    "    good_opt = np.intersect1d(np.argpartition(structured_cost_spectrum, -5)[-5:],np.nonzero(coefficients)[0])\n",
    "    print(good_opt)\n",
    "#     res.append(1 if len(good_opt) > 0 else 0)\n",
    "# np.average(res)"
   ]
  },
  {
   "cell_type": "code",
   "execution_count": 659,
   "metadata": {},
   "outputs": [
    {
     "data": {
      "text/plain": [
       "0.1"
      ]
     },
     "execution_count": 659,
     "metadata": {},
     "output_type": "execute_result"
    }
   ],
   "source": [
    "#Nearest neighbor pairs\n",
    "all_pat = []\n",
    "for i in range(n-1):\n",
    "    all_pat += create_specific_patterns(i,i+1,n)\n",
    "Phi = np.array([dev_pattern(p) for p in all_pat])\n",
    "thresh = 170\n",
    "\n",
    "res = []\n",
    "for _ in range(100):\n",
    "    coefficients = monte_carlo_compressive_learning_structured(Phi,sequence_cost,structured_cost_spectrum,threshold=thresh,sample_size=20)\n",
    "    good_opt = np.intersect1d(np.argpartition(structured_cost_spectrum, -5)[-5:],np.nonzero(coefficients)[0])\n",
    "    # print(good_opt)\n",
    "    res.append(1 if len(good_opt) > 0 else 0)\n",
    "np.average(res)"
   ]
  },
  {
   "cell_type": "code",
   "execution_count": 660,
   "metadata": {},
   "outputs": [
    {
     "data": {
      "text/plain": [
       "0.43"
      ]
     },
     "execution_count": 660,
     "metadata": {},
     "output_type": "execute_result"
    }
   ],
   "source": [
    "#Nearest neighbor quadruplets\n",
    "all_pat = []\n",
    "for i in range(n-3):\n",
    "    all_pat += create_specific_patterns4(i,i+1,i+2,i+3,n)\n",
    "Phi = np.array([dev_pattern(p) for p in all_pat])\n",
    "thresh = 170\n",
    "\n",
    "res = []\n",
    "for _ in range(100):\n",
    "    coefficients = monte_carlo_compressive_learning_structured(Phi,sequence_cost,structured_cost_spectrum,threshold=thresh,sample_size=20)\n",
    "    good_opt = np.intersect1d(np.argpartition(structured_cost_spectrum, -5)[-5:],np.nonzero(coefficients)[0])\n",
    "    # print(good_opt)\n",
    "    res.append(1 if len(good_opt) > 0 else 0)\n",
    "np.average(res)"
   ]
  },
  {
   "cell_type": "code",
   "execution_count": 665,
   "metadata": {},
   "outputs": [
    {
     "data": {
      "text/plain": [
       "0.5"
      ]
     },
     "execution_count": 665,
     "metadata": {},
     "output_type": "execute_result"
    }
   ],
   "source": [
    "#Nearest neighbor quintuplets\n",
    "all_pat = []\n",
    "for i in range(n-4):\n",
    "    all_pat += create_specific_patterns5(i,i+1,i+2,i+3,i+4,n)\n",
    "Phi = np.array([dev_pattern(p) for p in all_pat])\n",
    "thresh = 170\n",
    "\n",
    "res = []\n",
    "for _ in range(100):\n",
    "    coefficients = monte_carlo_compressive_learning_structured(Phi,sequence_cost,structured_cost_spectrum,threshold=thresh,sample_size=20)\n",
    "    good_opt = np.intersect1d(np.argpartition(structured_cost_spectrum, -5)[-5:],np.nonzero(coefficients)[0])\n",
    "    # print(good_opt)\n",
    "    res.append(1 if len(good_opt) > 0 else 0)\n",
    "np.average(res)"
   ]
  }
 ],
 "metadata": {
  "kernelspec": {
   "display_name": ".venv",
   "language": "python",
   "name": "python3"
  },
  "language_info": {
   "codemirror_mode": {
    "name": "ipython",
    "version": 3
   },
   "file_extension": ".py",
   "mimetype": "text/x-python",
   "name": "python",
   "nbconvert_exporter": "python",
   "pygments_lexer": "ipython3",
   "version": "3.11.9"
  }
 },
 "nbformat": 4,
 "nbformat_minor": 2
}
