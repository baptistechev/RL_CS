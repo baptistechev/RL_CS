{
 "cells": [
  {
   "cell_type": "code",
   "execution_count": 1,
   "metadata": {},
   "outputs": [],
   "source": [
    "import numpy as np\n",
    "import matplotlib.pyplot as plt\n",
    "from sklearn.linear_model import OrthogonalMatchingPursuit\n",
    "import copy\n",
    "from collections import Counter"
   ]
  },
  {
   "cell_type": "markdown",
   "metadata": {},
   "source": [
    "<h2>Game modeling</h2>"
   ]
  },
  {
   "cell_type": "code",
   "execution_count": 95,
   "metadata": {},
   "outputs": [
    {
     "data": {
      "text/plain": [
       "<matplotlib.image.AxesImage at 0x16ad4cb6590>"
      ]
     },
     "execution_count": 95,
     "metadata": {},
     "output_type": "execute_result"
    },
    {
     "data": {
      "image/png": "[encoded data removed]",
      "text/plain": [
       "<Figure size 480x480 with 1 Axes>"
      ]
     },
     "metadata": {},
     "output_type": "display_data"
    }
   ],
   "source": [
    "global possible_states\n",
    "possible_states = np.matrix([[0,0,1,3,2],\n",
    "                            [0,0,1,2,0],\n",
    "                            [0,0,1,0,0],\n",
    "                            [0,2,1,0,1],\n",
    "                            [0,0,0,0,0]])\n",
    "plt.matshow(possible_states, cmap=plt.cm.Blues)"
   ]
  },
  {
   "cell_type": "code",
   "execution_count": 96,
   "metadata": {},
   "outputs": [],
   "source": [
    "def is_valid(a,pos,ori):\n",
    "    x,y = pos\n",
    "    if ori==0:\n",
    "        return (x-1 >= 0)\n",
    "    elif ori==1:\n",
    "        return (y+1 <= 4)\n",
    "    elif ori==2:\n",
    "        return (x+1 <= 4)\n",
    "    else:\n",
    "        return (y-1 >= 0)\n",
    "def take_action(a,pos,ori):\n",
    "    x,y = pos\n",
    "    if a==0: #turn\n",
    "        position = pos\n",
    "        orientation = (ori + 1) %4\n",
    "    else: #go forward\n",
    "        orientation = ori\n",
    "        if ori==0:\n",
    "            position = (x-1,y)\n",
    "        elif ori==1:\n",
    "            position = (x,y+1)\n",
    "        elif ori==2:\n",
    "            position = (x+1,y)\n",
    "        else:\n",
    "            position = (x,y-1)\n",
    "    return position,orientation\n",
    "\n",
    "#Cost of position as distance to the goal\n",
    "def evaluate_cost(pos):\n",
    "\n",
    "    if possible_states[pos] == 2:\n",
    "        possible_states[pos] = 0\n",
    "        return 200\n",
    "    if possible_states[pos] == 3:\n",
    "        possible_states[pos] = 0\n",
    "        return 20000000\n",
    "    if possible_states[pos] == 1: #holes\n",
    "        return\n",
    "    return 0"
   ]
  },
  {
   "cell_type": "code",
   "execution_count": 35,
   "metadata": {},
   "outputs": [],
   "source": [
    "def follow_sequence_actions(sequence,position,orientation):\n",
    "    cost = 0\n",
    "    for action in sequence:\n",
    "        if action==0 or is_valid(action,position,orientation):\n",
    "            position,orientation = take_action(action,position,orientation)\n",
    "            c = evaluate_cost(position)\n",
    "            if c!=None:\n",
    "                cost += c\n",
    "            else: #hole\n",
    "                return 0\n",
    "        else: #invalid action\n",
    "            return 0\n",
    "    return cost"
   ]
  },
  {
   "cell_type": "code",
   "execution_count": 81,
   "metadata": {},
   "outputs": [
    {
     "data": {
      "text/plain": [
       "4096"
      ]
     },
     "execution_count": 81,
     "metadata": {},
     "output_type": "execute_result"
    }
   ],
   "source": [
    "n = 12\n",
    "sequence_list = np.array([np.array(list(bin(i)[3:]),dtype=np.int32) for i in range(2**n, 2**(n+1))])\n",
    "len(sequence_list)"
   ]
  },
  {
   "cell_type": "code",
   "execution_count": 24,
   "metadata": {},
   "outputs": [],
   "source": [
    "def stringify(seq):\n",
    "    string = ''\n",
    "    for n in seq:\n",
    "        string+=str(n)\n",
    "    return string"
   ]
  },
  {
   "cell_type": "code",
   "execution_count": 97,
   "metadata": {},
   "outputs": [
    {
     "data": {
      "image/png": "[encoded data removed]",
      "text/plain": [
       "<Figure size 640x480 with 1 Axes>"
      ]
     },
     "metadata": {},
     "output_type": "display_data"
    },
    {
     "name": "stdout",
     "output_type": "stream",
     "text": [
      "1822\n",
      "[0 1 1 1 0 0 0 1 1 1 1 0]\n",
      "20000200\n"
     ]
    }
   ],
   "source": [
    "position = (4,0)\n",
    "orientation = 0 #0 North, 1 East, 2 south, 3 West\n",
    "\n",
    "possible_sequence = []\n",
    "possible_sequence_cost = []\n",
    "for sequence in sequence_list:\n",
    "    global possible_states\n",
    "    possible_states = np.matrix([[0,0,1,3,2],\n",
    "                                [0,0,1,2,0],\n",
    "                                [0,0,1,0,0],\n",
    "                                [0,2,1,0,1],\n",
    "                                [0,0,0,0,0]])\n",
    "    cost = follow_sequence_actions(sequence,position,orientation)\n",
    "    if cost!=None:\n",
    "        possible_sequence_cost.append(cost)\n",
    "        possible_sequence.append(sequence)\n",
    "\n",
    "plt.bar([i for i in np.arange(len(possible_sequence))],possible_sequence_cost,width=10)\n",
    "plt.show()\n",
    "ma = np.argmax(possible_sequence_cost)\n",
    "print(ma)\n",
    "print(possible_sequence[ma])\n",
    "print(possible_sequence_cost[ma])"
   ]
  },
  {
   "cell_type": "markdown",
   "metadata": {},
   "source": [
    "<h2>Compressive Sensing</h2>\n",
    "<h3>Ideal compressive sensing</h3>"
   ]
  },
  {
   "cell_type": "code",
   "execution_count": 56,
   "metadata": {},
   "outputs": [],
   "source": [
    "def bin_to_pattern(x):\n",
    "    return [ [1-int(i), int(i)] for i in x ]"
   ]
  },
  {
   "cell_type": "code",
   "execution_count": 57,
   "metadata": {},
   "outputs": [],
   "source": [
    "def create_specific_patterns(mode1,mode2,size):\n",
    "    pats =[]\n",
    "    for i in range(2):\n",
    "        for j in range(2):\n",
    "            pats.append( [[1,1]]*mode1 + bin_to_pattern(str(i)) + [[1,1]]*(mode2-mode1-1) + bin_to_pattern(str(j)) + [[1,1]]*(size-mode1-(mode2-mode1-1)-2) )\n",
    "    return pats"
   ]
  },
  {
   "cell_type": "code",
   "execution_count": 58,
   "metadata": {},
   "outputs": [],
   "source": [
    "def create_specific_patterns3(mode1,mode2,mode3,size):\n",
    "    pats =[]\n",
    "    for i in range(2):\n",
    "        for j in range(2):\n",
    "            for k in range(2):\n",
    "                pats.append( [[1,1]]*mode1 + bin_to_pattern(str(i)) + [[1,1]]*(mode2-mode1-1) + bin_to_pattern(str(j)) + [[1,1]]*(mode3-(mode2-mode1-1)-mode1-2) + bin_to_pattern(str(k)) + [[1,1]]*(size -mode1-(mode2-mode1-1)-(mode3-(mode2-mode1-1)-mode1-2)-3) )\n",
    "    return pats"
   ]
  },
  {
   "cell_type": "code",
   "execution_count": 59,
   "metadata": {},
   "outputs": [],
   "source": [
    "def create_specific_patterns4(mode1,mode2,mode3,mode4,size):\n",
    "    pats = []\n",
    "    temp_pats = create_specific_patterns3(mode1,mode2,mode3,size)\n",
    "    for p in temp_pats:\n",
    "        for k in range(2):\n",
    "            p_prime = copy.deepcopy(p)\n",
    "            p_prime[mode4] = bin_to_pattern(str(k))[0]\n",
    "            pats.append(p_prime)\n",
    "    return pats"
   ]
  },
  {
   "cell_type": "code",
   "execution_count": null,
   "metadata": {},
   "outputs": [],
   "source": [
    "def dev_pattern(pat):\n",
    "    f = np.array([1])\n",
    "    for i in pat:\n",
    "        f = np.kron(f,i)\n",
    "    return f"
   ]
  },
  {
   "cell_type": "code",
   "execution_count": 98,
   "metadata": {},
   "outputs": [
    {
     "name": "stdout",
     "output_type": "stream",
     "text": [
      "19995316.291419383\n",
      "1822\n",
      "[0 1 1 1 0 0 0 1 1 1 1 0]\n",
      "19995316.291419383\n"
     ]
    },
    {
     "data": {
      "image/png": "[encoded data removed]",
      "text/plain": [
       "<Figure size 640x480 with 1 Axes>"
      ]
     },
     "metadata": {},
     "output_type": "display_data"
    },
    {
     "data": {
      "image/png": "[encoded data removed]",
      "text/plain": [
       "<Figure size 640x480 with 1 Axes>"
      ]
     },
     "metadata": {},
     "output_type": "display_data"
    }
   ],
   "source": [
    "#Nearest neighbor measurements\n",
    "all_pat = []\n",
    "y = []\n",
    "\n",
    "for bit in range(n-1):\n",
    "    all_pat +=  create_specific_patterns(bit,bit+1,n)\n",
    "\n",
    "Phi = np.array([dev_pattern(p) for p in all_pat])\n",
    "y = np.array(Phi * np.matrix(possible_sequence_cost).T).T[0]\n",
    "\n",
    "omp = OrthogonalMatchingPursuit(n_nonzero_coefs=20)\n",
    "omp.fit(Phi, y)\n",
    "coefficients = [ i if i>0 else 0 for i in omp.coef_]\n",
    "\n",
    "print(coefficients[1822])\n",
    "ma = np.argmax(coefficients)\n",
    "print(ma)\n",
    "print(possible_sequence[ma])\n",
    "print(coefficients[ma])\n",
    "\n",
    "plt.bar([i for i in np.arange(len(possible_sequence))],possible_sequence_cost,width=10)\n",
    "plt.show()\n",
    "plt.bar([i for i in np.arange(len(coefficients))],coefficients,width=10)\n",
    "plt.show()\n",
    "# y_ideal = y"
   ]
  },
  {
   "cell_type": "code",
   "execution_count": 99,
   "metadata": {},
   "outputs": [
    {
     "name": "stdout",
     "output_type": "stream",
     "text": [
      "20000499.80601399\n",
      "1822\n",
      "[0 1 1 1 0 0 0 1 1 1 1 0]\n",
      "20000499.80601399\n"
     ]
    },
    {
     "data": {
      "image/png": "[encoded data removed]",
      "text/plain": [
       "<Figure size 640x480 with 1 Axes>"
      ]
     },
     "metadata": {},
     "output_type": "display_data"
    },
    {
     "data": {
      "image/png": "[encoded data removed]",
      "text/plain": [
       "<Figure size 640x480 with 1 Axes>"
      ]
     },
     "metadata": {},
     "output_type": "display_data"
    }
   ],
   "source": [
    "#Quadruplets measurements\n",
    "all_pat = []\n",
    "y = []\n",
    "\n",
    "all_pat = []\n",
    "for i in range(n):\n",
    "    for j in range(i+1,n):\n",
    "        # all_pat += create_specific_patterns(i,j,n)\n",
    "        for k in range(j+1,n):\n",
    "            # all_pat += create_specific_patterns3(i,j,k,n)\n",
    "            for l in range(k+1,n):\n",
    "                all_pat += create_specific_patterns4(i,j,k,l,n)\n",
    "\n",
    "# print(len(all_pat))\n",
    "\n",
    "Phi = np.array([dev_pattern(p) for p in all_pat])\n",
    "y = np.array(Phi * np.matrix(possible_sequence_cost).T).T[0]\n",
    "\n",
    "omp = OrthogonalMatchingPursuit(n_nonzero_coefs=30)\n",
    "omp.fit(Phi, y)\n",
    "coefficients = [ i if i>0 else 0 for i in omp.coef_]\n",
    "\n",
    "print(coefficients[1822])\n",
    "ma = np.argmax(coefficients)\n",
    "print(ma)\n",
    "print(possible_sequence[ma])\n",
    "print(coefficients[ma])\n",
    "\n",
    "plt.bar([i for i in np.arange(len(possible_sequence))],possible_sequence_cost,width=10)\n",
    "plt.show()\n",
    "plt.bar([i for i in np.arange(len(coefficients))],coefficients,width=10)\n",
    "plt.show()"
   ]
  },
  {
   "cell_type": "code",
   "execution_count": 100,
   "metadata": {},
   "outputs": [
    {
     "name": "stdout",
     "output_type": "stream",
     "text": [
      "20000280.114827797\n",
      "1822\n",
      "[0 1 1 1 0 0 0 1 1 1 1 0]\n",
      "20000280.114827797\n"
     ]
    },
    {
     "data": {
      "image/png": "[encoded data removed]",
      "text/plain": [
       "<Figure size 640x480 with 1 Axes>"
      ]
     },
     "metadata": {},
     "output_type": "display_data"
    },
    {
     "data": {
      "image/png": "[encoded data removed]",
      "text/plain": [
       "<Figure size 640x480 with 1 Axes>"
      ]
     },
     "metadata": {},
     "output_type": "display_data"
    }
   ],
   "source": [
    "#Random measurements\n",
    "cheat_Phi = np.random.rand(200,2**n)\n",
    "cheat_y = np.array(cheat_Phi * np.matrix(possible_sequence_cost).T).T[0]\n",
    "\n",
    "omp = OrthogonalMatchingPursuit(n_nonzero_coefs=20)\n",
    "omp.fit(cheat_Phi, cheat_y)\n",
    "coefficients = [ i if i>0 else 0 for i in omp.coef_]\n",
    "\n",
    "print(coefficients[1822])\n",
    "ma = np.argmax(coefficients)\n",
    "print(ma)\n",
    "print(possible_sequence[ma])\n",
    "print(coefficients[ma])\n",
    "\n",
    "plt.bar([i for i in np.arange(len(possible_sequence))],possible_sequence_cost,width=10)\n",
    "plt.show()\n",
    "plt.bar([i for i in np.arange(len(coefficients))],coefficients,width=10)\n",
    "plt.show()"
   ]
  },
  {
   "cell_type": "markdown",
   "metadata": {},
   "source": [
    "<h3>Estimated measurement monte carlo</h3>"
   ]
  },
  {
   "cell_type": "code",
   "execution_count": 122,
   "metadata": {},
   "outputs": [],
   "source": [
    "#Sample from possible sequences (be careful not to take the solution already)\n",
    "seq_sample = []\n",
    "seq_sample_cost = []\n",
    "for _ in range(1000):\n",
    "    i = np.random.randint(0,len(possible_sequence))\n",
    "    seq_sample.append(possible_sequence[i])\n",
    "    seq_sample_cost.append(possible_sequence_cost[i])\n",
    "    if i==1822:\n",
    "        print(\"inside\")"
   ]
  },
  {
   "cell_type": "code",
   "execution_count": 103,
   "metadata": {},
   "outputs": [],
   "source": [
    "def estimate_measurement(bit1,bit2,v1,v2):\n",
    "    costs = []\n",
    "    for seq,cost in zip(seq_sample,seq_sample_cost):\n",
    "        if seq[bit1]==v1 and seq[bit2]==v2:\n",
    "            costs.append(cost)\n",
    "    if costs == []:\n",
    "        return\n",
    "    else:\n",
    "        return np.sum(costs)"
   ]
  },
  {
   "cell_type": "code",
   "execution_count": 123,
   "metadata": {},
   "outputs": [
    {
     "data": {
      "text/plain": [
       "array([2400, 6000, 7200, 2800, 4800, 4800, 6400, 2400, 8400, 2800, 5600,\n",
       "       1600, 8000, 6000, 4000,  400, 6800, 5200, 5600,  800, 6000, 6400,\n",
       "       4000, 2000, 4800, 5200, 5200, 3200, 6400, 3600, 5600, 2800, 4800,\n",
       "       7200, 5600,  800, 6000, 4400, 5200, 2800, 4400, 6800, 4800, 2400])"
      ]
     },
     "execution_count": 123,
     "metadata": {},
     "output_type": "execute_result"
    }
   ],
   "source": [
    "all_pat = []\n",
    "y = []\n",
    "\n",
    "for bit in range(n-1):\n",
    "    all_pat +=  create_specific_patterns(bit,bit+1,n)\n",
    "    for v1 in range(2):\n",
    "        for v2 in range(2):\n",
    "            # print(v1,v2)\n",
    "            res = estimate_measurement(bit,bit+1,v1,v2)\n",
    "            if res!=None:\n",
    "                y.append(res)\n",
    "\n",
    "Phi = np.array([dev_pattern(p) for p in all_pat])\n",
    "\n",
    "y = np.array(y)*2\n",
    "y"
   ]
  },
  {
   "cell_type": "code",
   "execution_count": 114,
   "metadata": {},
   "outputs": [],
   "source": [
    "def estimate_measurement_all_pairs(bit1,bit2):\n",
    "    costs = []\n",
    "    all_cost = []\n",
    "    for v1 in range(2):\n",
    "        for v2 in range(2):\n",
    "            for seq,cost in zip(seq_sample,seq_sample_cost):\n",
    "                if seq[bit1]==v1 and seq[bit2]==v2:\n",
    "                    costs.append(cost)\n",
    "            if costs == []:\n",
    "                all_cost.append(0)\n",
    "            else:\n",
    "                all_cost.append(np.sum(costs))\n",
    "    return all_cost"
   ]
  },
  {
   "cell_type": "code",
   "execution_count": 115,
   "metadata": {},
   "outputs": [
    {
     "data": {
      "text/plain": [
       "array([     800, 20002600, 20005800, 20007800,     1600, 20002600,\n",
       "       20005400, 20007800,     2000, 20002600, 20006000, 20007800,\n",
       "       20001800, 20002600, 20006200, 20007800, 20001400, 20002600,\n",
       "       20005800, 20007800, 20001000, 20002600, 20005200, 20007800,\n",
       "           1600, 20002600, 20005400, 20007800,     2200, 20002600,\n",
       "       20005800, 20007800,     1200, 20002600, 20005800, 20007800,\n",
       "           1600, 20002600, 20005200, 20007800, 20001400, 20002600,\n",
       "       20006000, 20007800,     2000,     4000,     6400, 20007800,\n",
       "           3400,     4000,     6000, 20007800,     2400,     4000,\n",
       "       20007000, 20007800,     2800,     4000, 20005800, 20007800,\n",
       "           1600,     4000, 20006000, 20007800,     2400,     4000,\n",
       "           6000, 20007800,     2600,     4000,     6800, 20007800,\n",
       "           2600,     4000,     5800, 20007800,     2200,     4000,\n",
       "           6000, 20007800,     2800,     4000, 20006000, 20007800,\n",
       "           2800,     4400,     7000, 20007800,     3400,     4400,\n",
       "       20006400, 20007800,     2400,     4400, 20006600, 20007800,\n",
       "           1400,     4400, 20006600, 20007800,     3400,     4400,\n",
       "           5400, 20007800,     3200,     4400,     6600, 20007800,\n",
       "           2200,     4400,     6600, 20007800,     3000,     4400,\n",
       "           5600, 20007800,     2600,     4400, 20006600, 20007800,\n",
       "           3200,     5400, 20007600, 20007800,     3200,     5400,\n",
       "       20006800, 20007800,     2800,     5400, 20006200, 20007800,\n",
       "           3000,     5400,     6800, 20007800,     4200,     5400,\n",
       "           6600, 20007800,     3400,     5400,     6400, 20007800,\n",
       "           3400,     5400,     6200, 20007800,     3000,     5400,\n",
       "       20007200, 20007800, 20002200, 20005400, 20007800, 20007800,\n",
       "       20002200, 20005400, 20006800, 20007800,     3200, 20005400,\n",
       "       20006600, 20007800,     4000, 20005400, 20006800, 20007800,\n",
       "           2800, 20005400, 20007000, 20007800,     2600, 20005400,\n",
       "       20007000, 20007800, 20003800, 20005400, 20006400, 20007800,\n",
       "       20002000, 20004600, 20006200, 20007800,     2600, 20004600,\n",
       "       20006400, 20007800,     2600, 20004600, 20007400, 20007800,\n",
       "           2800, 20004600, 20006200, 20007800,     2400, 20004600,\n",
       "       20006400, 20007800, 20002600, 20004600, 20006800, 20007800,\n",
       "            600, 20003600, 20007400, 20007800,     2800, 20003600,\n",
       "       20006200, 20007800,     1800, 20003600, 20006200, 20007800,\n",
       "           1800, 20003600, 20006000, 20007800, 20001800, 20003600,\n",
       "       20006600, 20007800,     2800,     4400,     7000, 20007800,\n",
       "           2600,     4400,     6200, 20007800,     2600,     4400,\n",
       "           6000, 20007800,     2800,     4400, 20006400, 20007800,\n",
       "           2600,     5400,     7200, 20007800,     3000,     5400,\n",
       "           6600, 20007800,     3200,     5400, 20007000, 20007800,\n",
       "           2400,     4400,     6200, 20007800,     3000,     4400,\n",
       "       20006200, 20007800,     2000,     4200, 20007000, 20007800])"
      ]
     },
     "execution_count": 115,
     "metadata": {},
     "output_type": "execute_result"
    }
   ],
   "source": [
    "all_pat = []\n",
    "y = []\n",
    "\n",
    "all_pat = []\n",
    "for i in range(n):\n",
    "    for j in range(i+1,n):\n",
    "        all_pat += create_specific_patterns(i,j,n)\n",
    "        y += estimate_measurement_all_pairs(i,j)\n",
    "\n",
    "# print(len(all_pat))\n",
    "\n",
    "Phi = np.array([dev_pattern(p) for p in all_pat])\n",
    "y = np.array(y)\n",
    "y"
   ]
  },
  {
   "cell_type": "code",
   "execution_count": 118,
   "metadata": {},
   "outputs": [],
   "source": [
    "def estimate_measurement_random_pat(pat):\n",
    "    cost = 0\n",
    "    for p,c in zip(pat,seq_sample_cost):\n",
    "        cost += p*c\n",
    "    return cost"
   ]
  },
  {
   "cell_type": "code",
   "execution_count": 119,
   "metadata": {},
   "outputs": [
    {
     "data": {
      "text/plain": [
       "array([16642764.30784786, 19226101.96897986,  4864180.23529665,\n",
       "        7972683.23044806,  3970134.20960436, 13987928.26167452,\n",
       "         783810.60584985, 15422451.68051311,  5425735.77058875,\n",
       "        5931271.34454918, 17197177.33210816, 13845681.92047455,\n",
       "        9248845.63112075,  5779675.9590369 , 17979597.72268815,\n",
       "        8222807.71408872,  8729136.16113208,  4236624.41814212,\n",
       "       15920975.31716641,  3574178.41842544, 18596371.36891685,\n",
       "        3882294.754584  , 11047245.65620438,  7037123.14672624,\n",
       "       16196698.95694651,  2047984.08180067,  8433916.19794384,\n",
       "        7269692.88579611,  4964783.26608775,  7885053.86412611,\n",
       "       16222858.5895096 ,  3228064.28780258,  4776286.787487  ,\n",
       "       17387770.06006022,  6450940.62572371, 13088040.51486561,\n",
       "       15278479.34885602, 15588010.13624937,  6650222.6257217 ,\n",
       "        4200616.02060831, 17600230.20812931,  3395750.17881062,\n",
       "        9760127.3828442 , 14489879.46277056,  1854307.44929927,\n",
       "         908920.58974883,  9932189.10449173, 16244300.35696445,\n",
       "       12769335.91487937, 12427070.60007594,   347280.87497882,\n",
       "        2168418.61652525, 10417153.83771909, 19422749.76451365,\n",
       "        5377512.65939825, 11500322.97382362, 13298608.56591031,\n",
       "       10637187.20911132,  3420218.81557562, 15233458.79793222,\n",
       "        8476575.64217189,  1513751.05984216,  1909025.81830354,\n",
       "        7455783.88857522, 13896413.98062471,  8716250.15699537,\n",
       "       19588053.51807993, 17823286.32042779,  6138864.06282687,\n",
       "       16816349.19778124, 19973394.49278085,  2234621.12552832,\n",
       "       10515687.62522158, 13098860.30544036, 19398988.7429652 ,\n",
       "       10954013.63827318,  5605863.29734202,  7372288.82960062,\n",
       "       12768337.96154916,  1067873.49001334, 11699217.93267396,\n",
       "       18196906.49211598,   889452.06685999,  4385425.10386012,\n",
       "        1557584.77911133, 10926927.2184645 , 18400726.10821546,\n",
       "       15908093.3405019 ,   752313.94357832, 16050975.5454142 ,\n",
       "       10644164.48611119,  4030332.9850786 ,  1549942.41456258,\n",
       "       18368120.17337832, 17043713.2276523 , 19530132.80660739,\n",
       "       11099138.63394654,  4276165.45368909, 18672475.79712495,\n",
       "        7640268.55386633,  7059902.12324874,  3685184.37993046,\n",
       "        3807183.39462391,   509888.04687693, 13058703.96115663,\n",
       "       12036597.23609733, 13861058.89399468, 13787709.66856785,\n",
       "        5107330.53005558,  4077202.91295582, 17399755.25559736,\n",
       "        2923184.99680325, 10701728.97571589, 13605362.03798996,\n",
       "        5188243.24171255,  3441926.20096928,  9717507.83215783,\n",
       "       18294424.71851064,  6870811.49545259, 10619320.43214478,\n",
       "        2055535.29672984, 19748733.73030347, 10767441.88408552,\n",
       "        2898213.82852395,  8016239.32873305, 18107407.31442868,\n",
       "       12001216.10983088,  4827415.01419892,   910682.44399943,\n",
       "       16518182.54739648,  5026858.02961084,  9723083.87937183,\n",
       "       11307227.02946951, 10254213.48643749, 10004409.31522856,\n",
       "        2553707.97557714,   976261.24039687,  3609206.04214237,\n",
       "       13323514.51674379, 14380563.65487044,   430172.1254389 ,\n",
       "        4322089.54956774, 15764270.28890547,  4416333.79663176,\n",
       "          96644.03160701, 17012921.26379853,  4475273.16692589,\n",
       "        2010535.71953798, 13832894.86925508,  4601172.88708348,\n",
       "       19865698.17540129, 17694760.68344502,  1765913.78092713,\n",
       "       11892991.05507099,  4067116.22008262,  2315266.75912539,\n",
       "       14249594.6330443 , 10452243.9324248 ,   331387.28809126,\n",
       "        8870077.59346687,  7599691.98496441, 16100511.37939986,\n",
       "        7731542.2451544 ,  1336011.10843632,  4323894.07642206,\n",
       "        7366006.41395492, 10685092.41560098, 14649295.92588934,\n",
       "       19882742.07488851,  5738873.94213545,  3028942.89420349,\n",
       "       17239773.55113956, 16223200.07189064,  6441222.15356462,\n",
       "       18846735.80699277, 13507157.77124968, 16379635.16239288,\n",
       "       15811690.60202794,  1767010.2467683 ,  6630177.02075887,\n",
       "         272136.23050084, 18065421.86573973,   688104.19863709,\n",
       "        1667849.21953259, 13616085.53862942,  8784657.75915618,\n",
       "         612234.08969012,  5160248.44212291,  3195826.31170287,\n",
       "        1034606.71599652,  8827979.94877044, 12170165.09703422,\n",
       "       12856865.36137336,  6483177.98707075,  2037473.84230848,\n",
       "        1621741.58632304,  1613901.05372613, 15966168.62771043,\n",
       "       12551276.18021262,  9451430.39761454])"
      ]
     },
     "execution_count": 119,
     "metadata": {},
     "output_type": "execute_result"
    }
   ],
   "source": [
    "Phi = cheat_Phi\n",
    "y = []\n",
    "\n",
    "for phi in Phi:\n",
    "    y.append(estimate_measurement_random_pat(phi))\n",
    "y = np.array(y)\n",
    "y"
   ]
  },
  {
   "cell_type": "code",
   "execution_count": 124,
   "metadata": {},
   "outputs": [
    {
     "name": "stderr",
     "output_type": "stream",
     "text": [
      "c:\\Users\\Baptiste\\Documents\\PhD\\.venv\\Lib\\site-packages\\sklearn\\linear_model\\_omp.py:445: RuntimeWarning: Orthogonal matching pursuit ended prematurely due to linear dependence in the dictionary. The requested precision might not have been met.\n",
      "  out = _cholesky_omp(\n"
     ]
    },
    {
     "name": "stdout",
     "output_type": "stream",
     "text": [
      "0\n",
      "2561\n",
      "[1 0 1 0 0 0 0 0 0 0 0 1]\n",
      "1599.9999999999998\n"
     ]
    },
    {
     "data": {
      "image/png": "[encoded data removed]",
      "text/plain": [
       "<Figure size 640x480 with 1 Axes>"
      ]
     },
     "metadata": {},
     "output_type": "display_data"
    },
    {
     "data": {
      "image/png": "[encoded data removed]",
      "text/plain": [
       "<Figure size 640x480 with 1 Axes>"
      ]
     },
     "metadata": {},
     "output_type": "display_data"
    }
   ],
   "source": [
    "omp = OrthogonalMatchingPursuit(n_nonzero_coefs=20)\n",
    "omp.fit(Phi, y)\n",
    "coefficients = [ i if i>0 else 0 for i in omp.coef_]\n",
    "\n",
    "print(coefficients[1822])\n",
    "ma = np.argmax(coefficients)\n",
    "print(ma)\n",
    "print(possible_sequence[ma])\n",
    "print(coefficients[ma])\n",
    "\n",
    "plt.bar([i for i in np.arange(len(possible_sequence))],possible_sequence_cost,width=10)\n",
    "plt.show()\n",
    "plt.bar([i for i in np.arange(len(coefficients))],coefficients,width=10)\n",
    "plt.show()"
   ]
  }
 ],
 "metadata": {
  "kernelspec": {
   "display_name": ".venv",
   "language": "python",
   "name": "python3"
  },
  "language_info": {
   "codemirror_mode": {
    "name": "ipython",
    "version": 3
   },
   "file_extension": ".py",
   "mimetype": "text/x-python",
   "name": "python",
   "nbconvert_exporter": "python",
   "pygments_lexer": "ipython3",
   "version": "3.11.9"
  }
 },
 "nbformat": 4,
 "nbformat_minor": 2
}
