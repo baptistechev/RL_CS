{
 "cells": [
  {
   "cell_type": "code",
   "execution_count": 1,
   "metadata": {},
   "outputs": [],
   "source": [
    "import numpy as np\n",
    "import matplotlib.pyplot as plt\n",
    "from sklearn.linear_model import OrthogonalMatchingPursuit\n",
    "import copy\n",
    "from collections import Counter"
   ]
  },
  {
   "cell_type": "markdown",
   "metadata": {},
   "source": [
    "<h2>Game modeling</h2>"
   ]
  },
  {
   "cell_type": "code",
   "execution_count": 2,
   "metadata": {},
   "outputs": [],
   "source": [
    "def stringify(seq):\n",
    "    string = ''\n",
    "    for n in seq:\n",
    "        string+=str(n)\n",
    "    return string"
   ]
  },
  {
   "cell_type": "code",
   "execution_count": 3,
   "metadata": {},
   "outputs": [
    {
     "data": {
      "text/plain": [
       "4096"
      ]
     },
     "execution_count": 3,
     "metadata": {},
     "output_type": "execute_result"
    }
   ],
   "source": [
    "n = 12\n",
    "sequence_list = np.array([np.array(list(bin(i)[3:]),dtype=np.int32) for i in range(2**n, 2**(n+1))])\n",
    "len(sequence_list)"
   ]
  },
  {
   "cell_type": "code",
   "execution_count": 4,
   "metadata": {},
   "outputs": [],
   "source": [
    "#Hidden Rules\n",
    "rule1 = [0,0,1,1]\n",
    "rule2 = [1,1,0,1]\n",
    "reward1 = 5\n",
    "reward2 = 10\n",
    "def estimate_cost(sequence):\n",
    "    reward = 0\n",
    "    for k in range(n-3):\n",
    "        if np.all(sequence[k:k+4]==rule1):\n",
    "            reward += reward1\n",
    "        elif np.all(sequence[k:k+4]==rule2):\n",
    "            reward += reward2\n",
    "    return reward"
   ]
  },
  {
   "cell_type": "code",
   "execution_count": 5,
   "metadata": {},
   "outputs": [
    {
     "data": {
      "image/png": "[encoded data removed]",
      "text/plain": [
       "<Figure size 640x480 with 1 Axes>"
      ]
     },
     "metadata": {},
     "output_type": "display_data"
    },
    {
     "name": "stdout",
     "output_type": "stream",
     "text": [
      "877\n",
      "[0 0 1 1 0 1 1 0 1 1 0 1]\n",
      "35\n"
     ]
    }
   ],
   "source": [
    "sequence_cost = []\n",
    "for sequence in sequence_list:\n",
    "    sequence_cost.append(estimate_cost(sequence))\n",
    "sequence_cost = np.array(sequence_cost)\n",
    "\n",
    "plt.bar([i for i in np.arange(len(sequence_list))],sequence_cost,width=0.5)\n",
    "plt.show()\n",
    "ma = np.argmax(sequence_cost)\n",
    "print(ma)\n",
    "print(sequence_list[ma])\n",
    "print(sequence_cost[ma])"
   ]
  },
  {
   "cell_type": "code",
   "execution_count": 7,
   "metadata": {},
   "outputs": [
    {
     "data": {
      "text/plain": [
       "[877,\n",
       " 845,\n",
       " 1754,\n",
       " 1755,\n",
       " 1757,\n",
       " 1773,\n",
       " 1901,\n",
       " 2925,\n",
       " 3437,\n",
       " 3501,\n",
       " 3508,\n",
       " 3509,\n",
       " 3510,\n",
       " 3511,\n",
       " 3514,\n",
       " 3515,\n",
       " 3517,\n",
       " 3546,\n",
       " 3547,\n",
       " 3549]"
      ]
     },
     "execution_count": 7,
     "metadata": {},
     "output_type": "execute_result"
    }
   ],
   "source": [
    "#20 best solutions \n",
    "sorted(range(len(sequence_cost)), key=lambda i: sequence_cost[i], reverse=True)[:20]"
   ]
  },
  {
   "cell_type": "markdown",
   "metadata": {},
   "source": [
    "<h2>Compressive Sensing</h2>\n",
    "<h3>Ideal compressive sensing</h3>"
   ]
  },
  {
   "cell_type": "code",
   "execution_count": 6,
   "metadata": {},
   "outputs": [],
   "source": [
    "def bin_to_pattern(x):\n",
    "    return [ [1-int(i), int(i)] for i in x ]"
   ]
  },
  {
   "cell_type": "code",
   "execution_count": 7,
   "metadata": {},
   "outputs": [],
   "source": [
    "def create_specific_patterns(mode1,mode2,size):\n",
    "    pats =[]\n",
    "    for i in range(2):\n",
    "        for j in range(2):\n",
    "            pats.append( [[1,1]]*mode1 + bin_to_pattern(str(i)) + [[1,1]]*(mode2-mode1-1) + bin_to_pattern(str(j)) + [[1,1]]*(size-mode1-(mode2-mode1-1)-2) )\n",
    "    return pats"
   ]
  },
  {
   "cell_type": "code",
   "execution_count": 8,
   "metadata": {},
   "outputs": [],
   "source": [
    "def create_specific_patterns3(mode1,mode2,mode3,size):\n",
    "    pats =[]\n",
    "    for i in range(2):\n",
    "        for j in range(2):\n",
    "            for k in range(2):\n",
    "                pats.append( [[1,1]]*mode1 + bin_to_pattern(str(i)) + [[1,1]]*(mode2-mode1-1) + bin_to_pattern(str(j)) + [[1,1]]*(mode3-(mode2-mode1-1)-mode1-2) + bin_to_pattern(str(k)) + [[1,1]]*(size -mode1-(mode2-mode1-1)-(mode3-(mode2-mode1-1)-mode1-2)-3) )\n",
    "    return pats"
   ]
  },
  {
   "cell_type": "code",
   "execution_count": 9,
   "metadata": {},
   "outputs": [],
   "source": [
    "def create_specific_patterns4(mode1,mode2,mode3,mode4,size):\n",
    "    pats = []\n",
    "    temp_pats = create_specific_patterns3(mode1,mode2,mode3,size)\n",
    "    for p in temp_pats:\n",
    "        for k in range(2):\n",
    "            p_prime = copy.deepcopy(p)\n",
    "            p_prime[mode4] = bin_to_pattern(str(k))[0]\n",
    "            pats.append(p_prime)\n",
    "    return pats"
   ]
  },
  {
   "cell_type": "code",
   "execution_count": 10,
   "metadata": {},
   "outputs": [],
   "source": [
    "def create_specific_patterns5(mode1, mode2, mode3, mode4, mode5, size):\n",
    "    \"\"\"\n",
    "    Generate specific patterns for 5 modes.\n",
    "    \"\"\"\n",
    "    pats = []\n",
    "    temp_pats = create_specific_patterns4(mode1, mode2, mode3, mode4, size)\n",
    "    for p in temp_pats:\n",
    "        for k in range(2):\n",
    "            p_prime = copy.deepcopy(p)\n",
    "            p_prime[mode5] = bin_to_pattern(str(k))[0]\n",
    "            pats.append(p_prime)\n",
    "    return pats"
   ]
  },
  {
   "cell_type": "code",
   "execution_count": 11,
   "metadata": {},
   "outputs": [],
   "source": [
    "def create_specific_patterns8(mode1, mode2, mode3, mode4, mode5, mode6, mode7, mode8, size):\n",
    "    \"\"\"\n",
    "    Generate specific patterns for 8 modes.\n",
    "    \"\"\"\n",
    "    pats = []\n",
    "    temp_pats = create_specific_patterns5(mode1, mode2, mode3, mode4, mode5, size)\n",
    "    for p in temp_pats:\n",
    "        for k in range(2):\n",
    "            p_prime = copy.deepcopy(p)\n",
    "            p_prime[mode6] = bin_to_pattern(str(k))[0]\n",
    "            for l in range(2):\n",
    "                p_prime2 = copy.deepcopy(p_prime)\n",
    "                p_prime2[mode7] = bin_to_pattern(str(l))[0]\n",
    "                for m in range(2):\n",
    "                    p_prime3 = copy.deepcopy(p_prime2)\n",
    "                    p_prime3[mode8] = bin_to_pattern(str(m))[0]\n",
    "                    pats.append(p_prime3)\n",
    "    return pats"
   ]
  },
  {
   "cell_type": "code",
   "execution_count": 12,
   "metadata": {},
   "outputs": [],
   "source": [
    "def dev_pattern(pat):\n",
    "    f = np.array([1])\n",
    "    for i in pat:\n",
    "        f = np.kron(i,f)\n",
    "    return f"
   ]
  },
  {
   "cell_type": "code",
   "execution_count": 26,
   "metadata": {},
   "outputs": [
    {
     "name": "stdout",
     "output_type": "stream",
     "text": [
      "472.14549819560654\n",
      "877\n",
      "[0 0 1 1 0 1 1 0 1 1 0 1]\n",
      "472.14549819560654\n"
     ]
    },
    {
     "data": {
      "image/png": "[encoded data removed]",
      "text/plain": [
       "<Figure size 640x480 with 1 Axes>"
      ]
     },
     "metadata": {},
     "output_type": "display_data"
    },
    {
     "data": {
      "image/png": "[encoded data removed]",
      "text/plain": [
       "<Figure size 640x480 with 1 Axes>"
      ]
     },
     "metadata": {},
     "output_type": "display_data"
    }
   ],
   "source": [
    "#Quadruplets measurements\n",
    "all_pat = []\n",
    "y = []\n",
    "\n",
    "all_pat = []\n",
    "for i in range(n):\n",
    "    for j in range(i+1,n):\n",
    "        for k in range(j+1,n):\n",
    "            for l in range(k+1,n):\n",
    "                all_pat += create_specific_patterns4(i,j,k,l,n)\n",
    "# for i in range(n-3):\n",
    "#     all_pat += create_specific_patterns4(i,i+1,i+2,i+3,n)\n",
    "\n",
    "# print(len(all_pat))\n",
    "\n",
    "Phi = np.array([dev_pattern(p) for p in all_pat])\n",
    "y = np.array(Phi * np.matrix(sequence_cost).T).T[0]\n",
    "\n",
    "omp = OrthogonalMatchingPursuit(n_nonzero_coefs=20)\n",
    "omp.fit(Phi, y)\n",
    "coefficients = [ i if i>0 else 0 for i in omp.coef_]\n",
    "\n",
    "print(coefficients[877])\n",
    "ma = np.argmax(coefficients)\n",
    "print(ma)\n",
    "print(sequence_list[ma])\n",
    "print(coefficients[ma])\n",
    "\n",
    "plt.bar([i for i in np.arange(len(sequence_list))],sequence_cost,width=0.5)\n",
    "plt.show()\n",
    "plt.bar([i for i in np.arange(len(coefficients))],coefficients,width=5)\n",
    "plt.show()\n",
    "y_ideal = y"
   ]
  },
  {
   "cell_type": "markdown",
   "metadata": {},
   "source": [
    "<h3>Estimated measurement monte carlo</h3>"
   ]
  },
  {
   "cell_type": "code",
   "execution_count": 18,
   "metadata": {},
   "outputs": [
    {
     "name": "stderr",
     "output_type": "stream",
     "text": [
      "/tmp/ipykernel_140055/3945579368.py:3: UserWarning: Using Panel interactively in VSCode notebooks requires the jupyter_bokeh package to be installed. You can install it with:\n",
      "\n",
      "   pip install jupyter_bokeh\n",
      "\n",
      "or:\n",
      "    conda install jupyter_bokeh\n",
      "\n",
      "and try again.\n",
      "  pn.extension('ipywidgets',sizing_mode='stretch_width')\n"
     ]
    },
    {
     "data": {
      "text/html": [
       "<script type=\"esms-options\">{\"shimMode\": true}</script><style>*[data-root-id],\n",
       "*[data-root-id] > * {\n",
       "  box-sizing: border-box;\n",
       "  font-family: var(--jp-ui-font-family);\n",
       "  font-size: var(--jp-ui-font-size1);\n",
       "  color: var(--vscode-editor-foreground, var(--jp-ui-font-color1));\n",
       "}\n",
       "\n",
       "/* Override VSCode background color */\n",
       ".cell-output-ipywidget-background:has(\n",
       "    > .cell-output-ipywidget-background > .lm-Widget > *[data-root-id]\n",
       "  ),\n",
       ".cell-output-ipywidget-background:has(> .lm-Widget > *[data-root-id]) {\n",
       "  background-color: transparent !important;\n",
       "}\n",
       "</style>"
      ]
     },
     "metadata": {},
     "output_type": "display_data"
    },
    {
     "data": {
      "application/javascript": "(function(root) {\n  function now() {\n    return new Date();\n  }\n\n  const force = true;\n  const py_version = '3.7.2'.replace('rc', '-rc.').replace('.dev', '-dev.');\n  const reloading = false;\n  const Bokeh = root.Bokeh;\n\n  // Set a timeout for this load but only if we are not already initializing\n  if (typeof (root._bokeh_timeout) === \"undefined\" || (force || !root._bokeh_is_initializing)) {\n    root._bokeh_timeout = Date.now() + 5000;\n    root._bokeh_failed_load = false;\n  }\n\n  function run_callbacks() {\n    try {\n      root._bokeh_onload_callbacks.forEach(function(callback) {\n        if (callback != null)\n          callback();\n      });\n    } finally {\n      delete root._bokeh_onload_callbacks;\n    }\n    console.debug(\"Bokeh: all callbacks have finished\");\n  }\n\n  function load_libs(css_urls, js_urls, js_modules, js_exports, callback) {\n    if (css_urls == null) css_urls = [];\n    if (js_urls == null) js_urls = [];\n    if (js_modules == null) js_modules = [];\n    if (js_exports == null) js_exports = {};\n\n    root._bokeh_onload_callbacks.push(callback);\n\n    if (root._bokeh_is_loading > 0) {\n      // Don't load bokeh if it is still initializing\n      console.debug(\"Bokeh: BokehJS is being loaded, scheduling callback at\", now());\n      return null;\n    } else if (js_urls.length === 0 && js_modules.length === 0 && Object.keys(js_exports).length === 0) {\n      // There is nothing to load\n      run_callbacks();\n      return null;\n    }\n\n    function on_load() {\n      root._bokeh_is_loading--;\n      if (root._bokeh_is_loading === 0) {\n        console.debug(\"Bokeh: all BokehJS libraries/stylesheets loaded\");\n        run_callbacks()\n      }\n    }\n    window._bokeh_on_load = on_load\n\n    function on_error(e) {\n      const src_el = e.srcElement\n      console.error(\"failed to load \" + (src_el.href || src_el.src));\n    }\n\n    const skip = [];\n    if (window.requirejs) {\n      window.requirejs.config({'packages': {}, 'paths': {}, 'shim': {}});\n      root._bokeh_is_loading = css_urls.length + 0;\n    } else {\n      root._bokeh_is_loading = css_urls.length + js_urls.length + js_modules.length + Object.keys(js_exports).length;\n    }\n\n    const existing_stylesheets = []\n    const links = document.getElementsByTagName('link')\n    for (let i = 0; i < links.length; i++) {\n      const link = links[i]\n      if (link.href != null) {\n        existing_stylesheets.push(link.href)\n      }\n    }\n    for (let i = 0; i < css_urls.length; i++) {\n      const url = css_urls[i];\n      const escaped = encodeURI(url)\n      if (existing_stylesheets.indexOf(escaped) !== -1) {\n        on_load()\n        continue;\n      }\n      const element = document.createElement(\"link\");\n      element.onload = on_load;\n      element.onerror = on_error;\n      element.rel = \"stylesheet\";\n      element.type = \"text/css\";\n      element.href = url;\n      console.debug(\"Bokeh: injecting link tag for BokehJS stylesheet: \", url);\n      document.body.appendChild(element);\n    }    var existing_scripts = []\n    const scripts = document.getElementsByTagName('script')\n    for (let i = 0; i < scripts.length; i++) {\n      var script = scripts[i]\n      if (script.src != null) {\n        existing_scripts.push(script.src)\n      }\n    }\n    for (let i = 0; i < js_urls.length; i++) {\n      const url = js_urls[i];\n      const escaped = encodeURI(url)\n      if (skip.indexOf(escaped) !== -1 || existing_scripts.indexOf(escaped) !== -1) {\n        if (!window.requirejs) {\n          on_load();\n        }\n        continue;\n      }\n      const element = document.createElement('script');\n      element.onload = on_load;\n      element.onerror = on_error;\n      element.async = false;\n      element.src = url;\n      console.debug(\"Bokeh: injecting script tag for BokehJS library: \", url);\n      document.head.appendChild(element);\n    }\n    for (let i = 0; i < js_modules.length; i++) {\n      const url = js_modules[i];\n      const escaped = encodeURI(url)\n      if (skip.indexOf(escaped) !== -1 || existing_scripts.indexOf(escaped) !== -1) {\n        if (!window.requirejs) {\n          on_load();\n        }\n        continue;\n      }\n      var element = document.createElement('script');\n      element.onload = on_load;\n      element.onerror = on_error;\n      element.async = false;\n      element.src = url;\n      element.type = \"module\";\n      console.debug(\"Bokeh: injecting script tag for BokehJS library: \", url);\n      document.head.appendChild(element);\n    }\n    for (const name in js_exports) {\n      const url = js_exports[name];\n      const escaped = encodeURI(url)\n      if (skip.indexOf(escaped) >= 0 || root[name] != null) {\n        if (!window.requirejs) {\n          on_load();\n        }\n        continue;\n      }\n      var element = document.createElement('script');\n      element.onerror = on_error;\n      element.async = false;\n      element.type = \"module\";\n      console.debug(\"Bokeh: injecting script tag for BokehJS library: \", url);\n      element.textContent = `\n      import ${name} from \"${url}\"\n      window.${name} = ${name}\n      window._bokeh_on_load()\n      `\n      document.head.appendChild(element);\n    }\n    if (!js_urls.length && !js_modules.length) {\n      on_load()\n    }\n  };\n\n  function inject_raw_css(css) {\n    const element = document.createElement(\"style\");\n    element.appendChild(document.createTextNode(css));\n    document.body.appendChild(element);\n  }\n\n  const js_urls = [\"https://cdn.holoviz.org/panel/1.6.2/dist/bundled/reactiveesm/es-module-shims@^1.10.0/dist/es-module-shims.min.js\", \"https://cdn.bokeh.org/bokeh/release/bokeh-3.7.2.min.js\", \"https://cdn.bokeh.org/bokeh/release/bokeh-gl-3.7.2.min.js\", \"https://cdn.bokeh.org/bokeh/release/bokeh-widgets-3.7.2.min.js\", \"https://cdn.bokeh.org/bokeh/release/bokeh-tables-3.7.2.min.js\", \"https://cdn.holoviz.org/panel/1.6.2/dist/panel.min.js\"];\n  const js_modules = [];\n  const js_exports = {};\n  const css_urls = [\"https://cdn.holoviz.org/panel/1.6.2/dist/bundled/font-awesome/css/all.min.css\"];\n  const inline_js = [    function(Bokeh) {\n      Bokeh.set_log_level(\"info\");\n    },\nfunction(Bokeh) {} // ensure no trailing comma for IE\n  ];\n\n  function run_inline_js() {\n    if ((root.Bokeh !== undefined) || (force === true)) {\n      for (let i = 0; i < inline_js.length; i++) {\n        try {\n          inline_js[i].call(root, root.Bokeh);\n        } catch(e) {\n          if (!reloading) {\n            throw e;\n          }\n        }\n      }\n      // Cache old bokeh versions\n      if (Bokeh != undefined && !reloading) {\n        var NewBokeh = root.Bokeh;\n        if (Bokeh.versions === undefined) {\n          Bokeh.versions = new Map();\n        }\n        if (NewBokeh.version !== Bokeh.version) {\n          Bokeh.versions.set(NewBokeh.version, NewBokeh)\n        }\n        root.Bokeh = Bokeh;\n      }\n    } else if (Date.now() < root._bokeh_timeout) {\n      setTimeout(run_inline_js, 100);\n    } else if (!root._bokeh_failed_load) {\n      console.log(\"Bokeh: BokehJS failed to load within specified timeout.\");\n      root._bokeh_failed_load = true;\n    }\n    root._bokeh_is_initializing = false\n  }\n\n  function load_or_wait() {\n    // Implement a backoff loop that tries to ensure we do not load multiple\n    // versions of Bokeh and its dependencies at the same time.\n    // In recent versions we use the root._bokeh_is_initializing flag\n    // to determine whether there is an ongoing attempt to initialize\n    // bokeh, however for backward compatibility we also try to ensure\n    // that we do not start loading a newer (Panel>=1.0 and Bokeh>3) version\n    // before older versions are fully initialized.\n    if (root._bokeh_is_initializing && Date.now() > root._bokeh_timeout) {\n      // If the timeout and bokeh was not successfully loaded we reset\n      // everything and try loading again\n      root._bokeh_timeout = Date.now() + 5000;\n      root._bokeh_is_initializing = false;\n      root._bokeh_onload_callbacks = undefined;\n      root._bokeh_is_loading = 0\n      console.log(\"Bokeh: BokehJS was loaded multiple times but one version failed to initialize.\");\n      load_or_wait();\n    } else if (root._bokeh_is_initializing || (typeof root._bokeh_is_initializing === \"undefined\" && root._bokeh_onload_callbacks !== undefined)) {\n      setTimeout(load_or_wait, 100);\n    } else {\n      root._bokeh_is_initializing = true\n      root._bokeh_onload_callbacks = []\n      const bokeh_loaded = root.Bokeh != null && (root.Bokeh.version === py_version || (root.Bokeh.versions !== undefined && root.Bokeh.versions.has(py_version)));\n      if (!reloading && !bokeh_loaded) {\n        if (root.Bokeh) {\n          root.Bokeh = undefined;\n        }\n        console.debug(\"Bokeh: BokehJS not loaded, scheduling load and callback at\", now());\n      }\n      load_libs(css_urls, js_urls, js_modules, js_exports, function() {\n        console.debug(\"Bokeh: BokehJS plotting callback run at\", now());\n        run_inline_js();\n      });\n    }\n  }\n  // Give older versions of the autoload script a head-start to ensure\n  // they initialize before we start loading newer version.\n  setTimeout(load_or_wait, 100)\n}(window));",
      "application/vnd.holoviews_load.v0+json": ""
     },
     "metadata": {},
     "output_type": "display_data"
    },
    {
     "data": {
      "application/javascript": "\nif ((window.PyViz === undefined) || (window.PyViz instanceof HTMLElement)) {\n  window.PyViz = {comms: {}, comm_status:{}, kernels:{}, receivers: {}, plot_index: []}\n}\n\n\n    function JupyterCommManager() {\n    }\n\n    JupyterCommManager.prototype.register_target = function(plot_id, comm_id, msg_handler) {\n      if (window.comm_manager || ((window.Jupyter !== undefined) && (Jupyter.notebook.kernel != null))) {\n        var comm_manager = window.comm_manager || Jupyter.notebook.kernel.comm_manager;\n        comm_manager.register_target(comm_id, function(comm) {\n          comm.on_msg(msg_handler);\n        });\n      } else if ((plot_id in window.PyViz.kernels) && (window.PyViz.kernels[plot_id])) {\n        window.PyViz.kernels[plot_id].registerCommTarget(comm_id, function(comm) {\n          comm.onMsg = msg_handler;\n        });\n      } else if (typeof google != 'undefined' && google.colab.kernel != null) {\n        google.colab.kernel.comms.registerTarget(comm_id, (comm) => {\n          var messages = comm.messages[Symbol.asyncIterator]();\n          function processIteratorResult(result) {\n            var message = result.value;\n            console.log(message)\n            var content = {data: message.data, comm_id};\n            var buffers = []\n            for (var buffer of message.buffers || []) {\n              buffers.push(new DataView(buffer))\n            }\n            var metadata = message.metadata || {};\n            var msg = {content, buffers, metadata}\n            msg_handler(msg);\n            return messages.next().then(processIteratorResult);\n          }\n          return messages.next().then(processIteratorResult);\n        })\n      }\n    }\n\n    JupyterCommManager.prototype.get_client_comm = function(plot_id, comm_id, msg_handler) {\n      if (comm_id in window.PyViz.comms) {\n        return window.PyViz.comms[comm_id];\n      } else if (window.comm_manager || ((window.Jupyter !== undefined) && (Jupyter.notebook.kernel != null))) {\n        var comm_manager = window.comm_manager || Jupyter.notebook.kernel.comm_manager;\n        var comm = comm_manager.new_comm(comm_id, {}, {}, {}, comm_id);\n        if (msg_handler) {\n          comm.on_msg(msg_handler);\n        }\n      } else if ((plot_id in window.PyViz.kernels) && (window.PyViz.kernels[plot_id])) {\n        var comm = window.PyViz.kernels[plot_id].connectToComm(comm_id);\n        comm.open();\n        if (msg_handler) {\n          comm.onMsg = msg_handler;\n        }\n      } else if (typeof google != 'undefined' && google.colab.kernel != null) {\n        var comm_promise = google.colab.kernel.comms.open(comm_id)\n        comm_promise.then((comm) => {\n          window.PyViz.comms[comm_id] = comm;\n          if (msg_handler) {\n            var messages = comm.messages[Symbol.asyncIterator]();\n            function processIteratorResult(result) {\n              var message = result.value;\n              var content = {data: message.data};\n              var metadata = message.metadata || {comm_id};\n              var msg = {content, metadata}\n              msg_handler(msg);\n              return messages.next().then(processIteratorResult);\n            }\n            return messages.next().then(processIteratorResult);\n          }\n        })\n        var sendClosure = (data, metadata, buffers, disposeOnDone) => {\n          return comm_promise.then((comm) => {\n            comm.send(data, metadata, buffers, disposeOnDone);\n          });\n        };\n        var comm = {\n          send: sendClosure\n        };\n      }\n      window.PyViz.comms[comm_id] = comm;\n      return comm;\n    }\n    window.PyViz.comm_manager = new JupyterCommManager();\n    \n\n\nvar JS_MIME_TYPE = 'application/javascript';\nvar HTML_MIME_TYPE = 'text/html';\nvar EXEC_MIME_TYPE = 'application/vnd.holoviews_exec.v0+json';\nvar CLASS_NAME = 'output';\n\n/**\n * Render data to the DOM node\n */\nfunction render(props, node) {\n  var div = document.createElement(\"div\");\n  var script = document.createElement(\"script\");\n  node.appendChild(div);\n  node.appendChild(script);\n}\n\n/**\n * Handle when a new output is added\n */\nfunction handle_add_output(event, handle) {\n  var output_area = handle.output_area;\n  var output = handle.output;\n  if ((output.data == undefined) || (!output.data.hasOwnProperty(EXEC_MIME_TYPE))) {\n    return\n  }\n  var id = output.metadata[EXEC_MIME_TYPE][\"id\"];\n  var toinsert = output_area.element.find(\".\" + CLASS_NAME.split(' ')[0]);\n  if (id !== undefined) {\n    var nchildren = toinsert.length;\n    var html_node = toinsert[nchildren-1].children[0];\n    html_node.innerHTML = output.data[HTML_MIME_TYPE];\n    var scripts = [];\n    var nodelist = html_node.querySelectorAll(\"script\");\n    for (var i in nodelist) {\n      if (nodelist.hasOwnProperty(i)) {\n        scripts.push(nodelist[i])\n      }\n    }\n\n    scripts.forEach( function (oldScript) {\n      var newScript = document.createElement(\"script\");\n      var attrs = [];\n      var nodemap = oldScript.attributes;\n      for (var j in nodemap) {\n        if (nodemap.hasOwnProperty(j)) {\n          attrs.push(nodemap[j])\n        }\n      }\n      attrs.forEach(function(attr) { newScript.setAttribute(attr.name, attr.value) });\n      newScript.appendChild(document.createTextNode(oldScript.innerHTML));\n      oldScript.parentNode.replaceChild(newScript, oldScript);\n    });\n    if (JS_MIME_TYPE in output.data) {\n      toinsert[nchildren-1].children[1].textContent = output.data[JS_MIME_TYPE];\n    }\n    output_area._hv_plot_id = id;\n    if ((window.Bokeh !== undefined) && (id in Bokeh.index)) {\n      window.PyViz.plot_index[id] = Bokeh.index[id];\n    } else {\n      window.PyViz.plot_index[id] = null;\n    }\n  } else if (output.metadata[EXEC_MIME_TYPE][\"server_id\"] !== undefined) {\n    var bk_div = document.createElement(\"div\");\n    bk_div.innerHTML = output.data[HTML_MIME_TYPE];\n    var script_attrs = bk_div.children[0].attributes;\n    for (var i = 0; i < script_attrs.length; i++) {\n      toinsert[toinsert.length - 1].childNodes[1].setAttribute(script_attrs[i].name, script_attrs[i].value);\n    }\n    // store reference to server id on output_area\n    output_area._bokeh_server_id = output.metadata[EXEC_MIME_TYPE][\"server_id\"];\n  }\n}\n\n/**\n * Handle when an output is cleared or removed\n */\nfunction handle_clear_output(event, handle) {\n  var id = handle.cell.output_area._hv_plot_id;\n  var server_id = handle.cell.output_area._bokeh_server_id;\n  if (((id === undefined) || !(id in PyViz.plot_index)) && (server_id !== undefined)) { return; }\n  var comm = window.PyViz.comm_manager.get_client_comm(\"hv-extension-comm\", \"hv-extension-comm\", function () {});\n  if (server_id !== null) {\n    comm.send({event_type: 'server_delete', 'id': server_id});\n    return;\n  } else if (comm !== null) {\n    comm.send({event_type: 'delete', 'id': id});\n  }\n  delete PyViz.plot_index[id];\n  if ((window.Bokeh !== undefined) & (id in window.Bokeh.index)) {\n    var doc = window.Bokeh.index[id].model.document\n    doc.clear();\n    const i = window.Bokeh.documents.indexOf(doc);\n    if (i > -1) {\n      window.Bokeh.documents.splice(i, 1);\n    }\n  }\n}\n\n/**\n * Handle kernel restart event\n */\nfunction handle_kernel_cleanup(event, handle) {\n  delete PyViz.comms[\"hv-extension-comm\"];\n  window.PyViz.plot_index = {}\n}\n\n/**\n * Handle update_display_data messages\n */\nfunction handle_update_output(event, handle) {\n  handle_clear_output(event, {cell: {output_area: handle.output_area}})\n  handle_add_output(event, handle)\n}\n\nfunction register_renderer(events, OutputArea) {\n  function append_mime(data, metadata, element) {\n    // create a DOM node to render to\n    var toinsert = this.create_output_subarea(\n    metadata,\n    CLASS_NAME,\n    EXEC_MIME_TYPE\n    );\n    this.keyboard_manager.register_events(toinsert);\n    // Render to node\n    var props = {data: data, metadata: metadata[EXEC_MIME_TYPE]};\n    render(props, toinsert[0]);\n    element.append(toinsert);\n    return toinsert\n  }\n\n  events.on('output_added.OutputArea', handle_add_output);\n  events.on('output_updated.OutputArea', handle_update_output);\n  events.on('clear_output.CodeCell', handle_clear_output);\n  events.on('delete.Cell', handle_clear_output);\n  events.on('kernel_ready.Kernel', handle_kernel_cleanup);\n\n  OutputArea.prototype.register_mime_type(EXEC_MIME_TYPE, append_mime, {\n    safe: true,\n    index: 0\n  });\n}\n\nif (window.Jupyter !== undefined) {\n  try {\n    var events = require('base/js/events');\n    var OutputArea = require('notebook/js/outputarea').OutputArea;\n    if (OutputArea.prototype.mime_types().indexOf(EXEC_MIME_TYPE) == -1) {\n      register_renderer(events, OutputArea);\n    }\n  } catch(err) {\n  }\n}\n",
      "application/vnd.holoviews_load.v0+json": ""
     },
     "metadata": {},
     "output_type": "display_data"
    },
    {
     "data": {
      "application/vnd.holoviews_exec.v0+json": "",
      "text/html": [
       "<div id='7773fbe8-24bc-4943-9ac5-02570ca26f96'>\n",
       "  <div id=\"e2eec23f-04ec-49ae-8e33-e1a80080ae72\" data-root-id=\"7773fbe8-24bc-4943-9ac5-02570ca26f96\" style=\"display: contents;\"></div>\n",
       "</div>\n",
       "<script type=\"application/javascript\">(function(root) {\n",
       "  var docs_json = {\"059afa2e-e608-4483-b32c-a38d043b55dc\":{\"version\":\"3.7.2\",\"title\":\"Bokeh Application\",\"roots\":[{\"type\":\"object\",\"name\":\"panel.models.browser.BrowserInfo\",\"id\":\"7773fbe8-24bc-4943-9ac5-02570ca26f96\"},{\"type\":\"object\",\"name\":\"panel.models.comm_manager.CommManager\",\"id\":\"8799f362-a7bb-4460-901f-a72def6679ff\",\"attributes\":{\"plot_id\":\"7773fbe8-24bc-4943-9ac5-02570ca26f96\",\"comm_id\":\"d89c1abcd2b54cca8ab58d6b326b40ac\",\"client_comm_id\":\"6e7db869f8aa465d8097de7e15746c50\"}}],\"defs\":[{\"type\":\"model\",\"name\":\"ReactiveHTML1\"},{\"type\":\"model\",\"name\":\"FlexBox1\",\"properties\":[{\"name\":\"align_content\",\"kind\":\"Any\",\"default\":\"flex-start\"},{\"name\":\"align_items\",\"kind\":\"Any\",\"default\":\"flex-start\"},{\"name\":\"flex_direction\",\"kind\":\"Any\",\"default\":\"row\"},{\"name\":\"flex_wrap\",\"kind\":\"Any\",\"default\":\"wrap\"},{\"name\":\"gap\",\"kind\":\"Any\",\"default\":\"\"},{\"name\":\"justify_content\",\"kind\":\"Any\",\"default\":\"flex-start\"}]},{\"type\":\"model\",\"name\":\"FloatPanel1\",\"properties\":[{\"name\":\"config\",\"kind\":\"Any\",\"default\":{\"type\":\"map\"}},{\"name\":\"contained\",\"kind\":\"Any\",\"default\":true},{\"name\":\"position\",\"kind\":\"Any\",\"default\":\"right-top\"},{\"name\":\"offsetx\",\"kind\":\"Any\",\"default\":null},{\"name\":\"offsety\",\"kind\":\"Any\",\"default\":null},{\"name\":\"theme\",\"kind\":\"Any\",\"default\":\"primary\"},{\"name\":\"status\",\"kind\":\"Any\",\"default\":\"normalized\"}]},{\"type\":\"model\",\"name\":\"GridStack1\",\"properties\":[{\"name\":\"ncols\",\"kind\":\"Any\",\"default\":null},{\"name\":\"nrows\",\"kind\":\"Any\",\"default\":null},{\"name\":\"allow_resize\",\"kind\":\"Any\",\"default\":true},{\"name\":\"allow_drag\",\"kind\":\"Any\",\"default\":true},{\"name\":\"state\",\"kind\":\"Any\",\"default\":[]}]},{\"type\":\"model\",\"name\":\"drag1\",\"properties\":[{\"name\":\"slider_width\",\"kind\":\"Any\",\"default\":5},{\"name\":\"slider_color\",\"kind\":\"Any\",\"default\":\"black\"},{\"name\":\"value\",\"kind\":\"Any\",\"default\":50}]},{\"type\":\"model\",\"name\":\"click1\",\"properties\":[{\"name\":\"terminal_output\",\"kind\":\"Any\",\"default\":\"\"},{\"name\":\"debug_name\",\"kind\":\"Any\",\"default\":\"\"},{\"name\":\"clears\",\"kind\":\"Any\",\"default\":0}]},{\"type\":\"model\",\"name\":\"FastWrapper1\",\"properties\":[{\"name\":\"object\",\"kind\":\"Any\",\"default\":null},{\"name\":\"style\",\"kind\":\"Any\",\"default\":null}]},{\"type\":\"model\",\"name\":\"NotificationArea1\",\"properties\":[{\"name\":\"js_events\",\"kind\":\"Any\",\"default\":{\"type\":\"map\"}},{\"name\":\"max_notifications\",\"kind\":\"Any\",\"default\":5},{\"name\":\"notifications\",\"kind\":\"Any\",\"default\":[]},{\"name\":\"position\",\"kind\":\"Any\",\"default\":\"bottom-right\"},{\"name\":\"_clear\",\"kind\":\"Any\",\"default\":0},{\"name\":\"types\",\"kind\":\"Any\",\"default\":[{\"type\":\"map\",\"entries\":[[\"type\",\"warning\"],[\"background\",\"#ffc107\"],[\"icon\",{\"type\":\"map\",\"entries\":[[\"className\",\"fas fa-exclamation-triangle\"],[\"tagName\",\"i\"],[\"color\",\"white\"]]}]]},{\"type\":\"map\",\"entries\":[[\"type\",\"info\"],[\"background\",\"#007bff\"],[\"icon\",{\"type\":\"map\",\"entries\":[[\"className\",\"fas fa-info-circle\"],[\"tagName\",\"i\"],[\"color\",\"white\"]]}]]}]}]},{\"type\":\"model\",\"name\":\"Notification\",\"properties\":[{\"name\":\"background\",\"kind\":\"Any\",\"default\":null},{\"name\":\"duration\",\"kind\":\"Any\",\"default\":3000},{\"name\":\"icon\",\"kind\":\"Any\",\"default\":null},{\"name\":\"message\",\"kind\":\"Any\",\"default\":\"\"},{\"name\":\"notification_type\",\"kind\":\"Any\",\"default\":null},{\"name\":\"_rendered\",\"kind\":\"Any\",\"default\":false},{\"name\":\"_destroyed\",\"kind\":\"Any\",\"default\":false}]},{\"type\":\"model\",\"name\":\"TemplateActions1\",\"properties\":[{\"name\":\"open_modal\",\"kind\":\"Any\",\"default\":0},{\"name\":\"close_modal\",\"kind\":\"Any\",\"default\":0}]},{\"type\":\"model\",\"name\":\"BootstrapTemplateActions1\",\"properties\":[{\"name\":\"open_modal\",\"kind\":\"Any\",\"default\":0},{\"name\":\"close_modal\",\"kind\":\"Any\",\"default\":0}]},{\"type\":\"model\",\"name\":\"TemplateEditor1\",\"properties\":[{\"name\":\"layout\",\"kind\":\"Any\",\"default\":[]}]},{\"type\":\"model\",\"name\":\"MaterialTemplateActions1\",\"properties\":[{\"name\":\"open_modal\",\"kind\":\"Any\",\"default\":0},{\"name\":\"close_modal\",\"kind\":\"Any\",\"default\":0}]},{\"type\":\"model\",\"name\":\"ReactiveESM1\",\"properties\":[{\"name\":\"esm_constants\",\"kind\":\"Any\",\"default\":{\"type\":\"map\"}}]},{\"type\":\"model\",\"name\":\"JSComponent1\",\"properties\":[{\"name\":\"esm_constants\",\"kind\":\"Any\",\"default\":{\"type\":\"map\"}}]},{\"type\":\"model\",\"name\":\"ReactComponent1\",\"properties\":[{\"name\":\"esm_constants\",\"kind\":\"Any\",\"default\":{\"type\":\"map\"}}]},{\"type\":\"model\",\"name\":\"AnyWidgetComponent1\",\"properties\":[{\"name\":\"esm_constants\",\"kind\":\"Any\",\"default\":{\"type\":\"map\"}}]},{\"type\":\"model\",\"name\":\"request_value1\",\"properties\":[{\"name\":\"fill\",\"kind\":\"Any\",\"default\":\"none\"},{\"name\":\"_synced\",\"kind\":\"Any\",\"default\":null},{\"name\":\"_request_sync\",\"kind\":\"Any\",\"default\":0}]}]}};\n",
       "  var render_items = [{\"docid\":\"059afa2e-e608-4483-b32c-a38d043b55dc\",\"roots\":{\"7773fbe8-24bc-4943-9ac5-02570ca26f96\":\"e2eec23f-04ec-49ae-8e33-e1a80080ae72\"},\"root_ids\":[\"7773fbe8-24bc-4943-9ac5-02570ca26f96\"]}];\n",
       "  var docs = Object.values(docs_json)\n",
       "  if (!docs) {\n",
       "    return\n",
       "  }\n",
       "  const py_version = docs[0].version.replace('rc', '-rc.').replace('.dev', '-dev.')\n",
       "  async function embed_document(root) {\n",
       "    var Bokeh = get_bokeh(root)\n",
       "    await Bokeh.embed.embed_items_notebook(docs_json, render_items);\n",
       "    for (const render_item of render_items) {\n",
       "      for (const root_id of render_item.root_ids) {\n",
       "\tconst id_el = document.getElementById(root_id)\n",
       "\tif (id_el.children.length && id_el.children[0].hasAttribute('data-root-id')) {\n",
       "\t  const root_el = id_el.children[0]\n",
       "\t  root_el.id = root_el.id + '-rendered'\n",
       "\t  for (const child of root_el.children) {\n",
       "            // Ensure JupyterLab does not capture keyboard shortcuts\n",
       "            // see: https://jupyterlab.readthedocs.io/en/4.1.x/extension/notebook.html#keyboard-interaction-model\n",
       "\t    child.setAttribute('data-lm-suppress-shortcuts', 'true')\n",
       "\t  }\n",
       "\t}\n",
       "      }\n",
       "    }\n",
       "  }\n",
       "  function get_bokeh(root) {\n",
       "    if (root.Bokeh === undefined) {\n",
       "      return null\n",
       "    } else if (root.Bokeh.version !== py_version) {\n",
       "      if (root.Bokeh.versions === undefined || !root.Bokeh.versions.has(py_version)) {\n",
       "\treturn null\n",
       "      }\n",
       "      return root.Bokeh.versions.get(py_version);\n",
       "    } else if (root.Bokeh.version === py_version) {\n",
       "      return root.Bokeh\n",
       "    }\n",
       "    return null\n",
       "  }\n",
       "  function is_loaded(root) {\n",
       "    var Bokeh = get_bokeh(root)\n",
       "    return (Bokeh != null && Bokeh.Panel !== undefined)\n",
       "  }\n",
       "  if (is_loaded(root)) {\n",
       "    embed_document(root);\n",
       "  } else {\n",
       "    var attempts = 0;\n",
       "    var timer = setInterval(function(root) {\n",
       "      if (is_loaded(root)) {\n",
       "        clearInterval(timer);\n",
       "        embed_document(root);\n",
       "      } else if (document.readyState == \"complete\") {\n",
       "        attempts++;\n",
       "        if (attempts > 200) {\n",
       "          clearInterval(timer);\n",
       "\t  var Bokeh = get_bokeh(root)\n",
       "\t  if (Bokeh == null || Bokeh.Panel == null) {\n",
       "            console.warn(\"Panel: ERROR: Unable to run Panel code because Bokeh or Panel library is missing\");\n",
       "\t  } else {\n",
       "\t    console.warn(\"Panel: WARNING: Attempting to render but not all required libraries could be resolved.\")\n",
       "\t    embed_document(root)\n",
       "\t  }\n",
       "        }\n",
       "      }\n",
       "    }, 25, root)\n",
       "  }\n",
       "})(window);</script>"
      ]
     },
     "metadata": {
      "application/vnd.holoviews_exec.v0+json": {
       "id": "7773fbe8-24bc-4943-9ac5-02570ca26f96"
      }
     },
     "output_type": "display_data"
    },
    {
     "name": "stdout",
     "output_type": "stream",
     "text": [
      "Launching server at http://localhost:42059\n"
     ]
    },
    {
     "data": {
      "text/plain": [
       "<panel.io.server.Server at 0x7bacb77abaa0>"
      ]
     },
     "execution_count": 18,
     "metadata": {},
     "output_type": "execute_result"
    }
   ],
   "source": [
    "import panel as pn\n",
    "\n",
    "pn.extension('ipywidgets',sizing_mode='stretch_width')  \n",
    "tabs = pn.layout.Tabs()\n",
    "tabs.show()"
   ]
  },
  {
   "cell_type": "code",
   "execution_count": 216,
   "metadata": {},
   "outputs": [],
   "source": [
    "#Sample from possible sequences (be careful not to take the solution already)\n",
    "sample_index = np.random.randint(0,len(sequence_list),300)\n",
    "\n",
    "for i in sorted(range(len(sequence_cost)), key=lambda i: sequence_cost[i], reverse=True)[:20]:\n",
    "    if i in sample_index:\n",
    "        print(i)\n",
    "\n",
    "seq_sample = sequence_list[sample_index]\n",
    "seq_sample_cost = sequence_cost[sample_index]\n",
    "\n",
    "sequence_cost_spectrum = np.zeros_like(sequence_cost)\n",
    "sequence_cost_spectrum[sample_index] = sequence_cost[sample_index]\n",
    "# plt.bar(range(len(sequence_cost)), sequence_cost_spectrum)\n",
    "# plt.show()"
   ]
  },
  {
   "cell_type": "code",
   "execution_count": 217,
   "metadata": {},
   "outputs": [
    {
     "data": {
      "text/plain": [
       "32"
      ]
     },
     "execution_count": 217,
     "metadata": {},
     "output_type": "execute_result"
    }
   ],
   "source": [
    "# thresh = sequence_cost_spectrum.max()\n",
    "thresh = 20\n",
    "sequence_cost_spectrum[sequence_cost_spectrum<thresh]=0\n",
    "# plt.bar(range(len(sequence_cost)), sequence_cost_spectrum,width=20)\n",
    "# plt.show()\n",
    "non_zero_elements = sequence_cost_spectrum[sequence_cost_spectrum != 0]\n",
    "len(non_zero_elements)"
   ]
  },
  {
   "cell_type": "code",
   "execution_count": 218,
   "metadata": {},
   "outputs": [],
   "source": [
    "tabs.clear()"
   ]
  },
  {
   "cell_type": "code",
   "execution_count": 219,
   "metadata": {},
   "outputs": [
    {
     "name": "stdout",
     "output_type": "stream",
     "text": [
      "0\n",
      "False\n",
      "3\n",
      "True\n",
      "0\n",
      "False\n",
      "3\n",
      "True\n"
     ]
    }
   ],
   "source": [
    "#Random\n",
    "y = []\n",
    "\n",
    "Phi = np.random.rand(250,4096)\n",
    "y = np.array(Phi * np.matrix(sequence_cost_spectrum).T).T[0]\n",
    "\n",
    "y = np.array(y)\n",
    "\n",
    "omp = OrthogonalMatchingPursuit(n_nonzero_coefs=10)\n",
    "omp.fit(Phi, y)\n",
    "coefficients = [ i if i>0 else 0 for i in omp.coef_]\n",
    "\n",
    "fig = plt.Figure(figsize=(5, 5))\n",
    "ax = fig.subplots()\n",
    "ax.bar([i for i in np.arange(len(coefficients))],coefficients,width=20)\n",
    "ax.set_xlabel(\"Good optimums \" + str(np.intersect1d(np.argpartition(sequence_cost, -20)[-20:],np.nonzero(coefficients)[0])))\n",
    "tabs.append(pn.panel(fig,name=\"Random\"))\n",
    "\n",
    "good_opt = np.intersect1d(np.argpartition(sequence_cost, -20)[-20:],np.nonzero(coefficients)[0])\n",
    "print(len(good_opt))\n",
    "print(877 in good_opt)\n",
    "\n",
    "#Nearest neighbor quadruplets\n",
    "all_pat = []\n",
    "y = []\n",
    "\n",
    "for i in range(n-3):\n",
    "    all_pat += create_specific_patterns4(i,i+1,i+2,i+3,n)\n",
    "\n",
    "Phi = np.array([dev_pattern(p) for p in all_pat])\n",
    "y = np.array(Phi * np.matrix(sequence_cost_spectrum).T).T[0]\n",
    "\n",
    "y = np.array(y)\n",
    "\n",
    "omp = OrthogonalMatchingPursuit(n_nonzero_coefs=10)\n",
    "omp.fit(Phi, y)\n",
    "coefficients = [ i if i>0 else 0 for i in omp.coef_]\n",
    "\n",
    "fig = plt.Figure(figsize=(5, 5))\n",
    "ax = fig.subplots()\n",
    "ax.bar([i for i in np.arange(len(coefficients))],coefficients,width=20)\n",
    "ax.set_xlabel(\"Good optimums \" + str(np.intersect1d(np.argpartition(sequence_cost, -20)[-20:],np.nonzero(coefficients)[0])))\n",
    "tabs.append(pn.panel(fig,name=\"NN quadruplets\"))\n",
    "good_opt = np.intersect1d(np.argpartition(sequence_cost, -20)[-20:],np.nonzero(coefficients)[0])\n",
    "print(len(good_opt))\n",
    "print(877 in good_opt)\n",
    "\n",
    "#All quadruplets\n",
    "all_pat = []\n",
    "y = []\n",
    "\n",
    "all_pat = []\n",
    "for i in range(n):\n",
    "    for j in range(i+1,n):\n",
    "        for k in range(j+1,n):\n",
    "            for l in range(k+1,n):\n",
    "                all_pat += create_specific_patterns4(i,j,k,l,n)\n",
    "\n",
    "Phi = np.array([dev_pattern(p) for p in all_pat])\n",
    "y = np.array(Phi * np.matrix(sequence_cost_spectrum).T).T[0]\n",
    "\n",
    "y = np.array(y)\n",
    "\n",
    "omp = OrthogonalMatchingPursuit(n_nonzero_coefs=10)\n",
    "omp.fit(Phi, y)\n",
    "coefficients = [ i if i>0 else 0 for i in omp.coef_]\n",
    "\n",
    "fig = plt.Figure(figsize=(5, 5))\n",
    "ax = fig.subplots()\n",
    "ax.bar([i for i in np.arange(len(coefficients))],coefficients,width=20)\n",
    "ax.set_xlabel(\"Good optimums \" + str(np.intersect1d(np.argpartition(sequence_cost, -20)[-20:],np.nonzero(coefficients)[0])))\n",
    "tabs.append(pn.panel(fig,name=\"All quadruplets\"))\n",
    "good_opt = np.intersect1d(np.argpartition(sequence_cost, -20)[-20:],np.nonzero(coefficients)[0])\n",
    "print(len(good_opt))\n",
    "print(877 in good_opt)\n",
    "\n",
    "#Nearest neighbor quintuplets\n",
    "all_pat = []\n",
    "y = []\n",
    "\n",
    "for i in range(n-4):\n",
    "    all_pat += create_specific_patterns5(i,i+1,i+2,i+3,i+4,n)\n",
    "\n",
    "Phi = np.array([dev_pattern(p) for p in all_pat])\n",
    "y = np.array(Phi * np.matrix(sequence_cost_spectrum).T).T[0]\n",
    "\n",
    "y = np.array(y)\n",
    "\n",
    "omp = OrthogonalMatchingPursuit(n_nonzero_coefs=10)\n",
    "omp.fit(Phi, y)\n",
    "coefficients = [ i if i>0 else 0 for i in omp.coef_]\n",
    "\n",
    "fig = plt.Figure(figsize=(5, 5))\n",
    "ax = fig.subplots()\n",
    "ax.bar([i for i in np.arange(len(coefficients))],coefficients,width=20)\n",
    "ax.set_xlabel(\"Good optimums \" + str(np.intersect1d(np.argpartition(sequence_cost, -20)[-20:],np.nonzero(coefficients)[0])))\n",
    "tabs.append(pn.panel(fig,name=\"NN quintuplets\"))\n",
    "good_opt = np.intersect1d(np.argpartition(sequence_cost, -20)[-20:],np.nonzero(coefficients)[0])\n",
    "print(len(good_opt))\n",
    "print(877 in good_opt)"
   ]
  },
  {
   "cell_type": "code",
   "execution_count": null,
   "metadata": {},
   "outputs": [
    {
     "name": "stderr",
     "output_type": "stream",
     "text": [
      "/home/baptiste/Documents/.venv/lib/python3.12/site-packages/sklearn/linear_model/_omp.py:445: RuntimeWarning: Orthogonal matching pursuit ended prematurely due to linear dependence in the dictionary. The requested precision might not have been met.\n",
      "  out = _cholesky_omp(\n"
     ]
    },
    {
     "name": "stdout",
     "output_type": "stream",
     "text": [
      "2\n",
      "False\n"
     ]
    }
   ],
   "source": [
    "#Random\n",
    "y = []\n",
    "\n",
    "Phi = np.random.rand(250,4096)\n",
    "y = np.array(Phi * np.matrix(sequence_cost_spectrum).T).T[0]\n",
    "\n",
    "y = np.array(y)\n",
    "\n",
    "omp = OrthogonalMatchingPursuit(n_nonzero_coefs=10)\n",
    "omp.fit(Phi, y)\n",
    "coefficients = [ i if i>0 else 0 for i in omp.coef_]\n",
    "\n",
    "fig = plt.Figure(figsize=(5, 5))\n",
    "ax = fig.subplots()\n",
    "ax.bar([i for i in np.arange(len(coefficients))],coefficients,width=20)\n",
    "ax.set_xlabel(\"Good optimums \" + str(np.intersect1d(np.argpartition(sequence_cost, -20)[-20:],np.nonzero(coefficients)[0])))\n",
    "tabs.append(pn.panel(fig,name=\"Random\"))"
   ]
  },
  {
   "cell_type": "code",
   "execution_count": 23,
   "metadata": {},
   "outputs": [
    {
     "name": "stderr",
     "output_type": "stream",
     "text": [
      "/home/baptiste/Documents/.venv/lib/python3.12/site-packages/sklearn/linear_model/_omp.py:445: RuntimeWarning: Orthogonal matching pursuit ended prematurely due to linear dependence in the dictionary. The requested precision might not have been met.\n",
      "  out = _cholesky_omp(\n"
     ]
    }
   ],
   "source": [
    "#Nearest neighbor quadruplets\n",
    "all_pat = []\n",
    "y = []\n",
    "\n",
    "for i in range(n-3):\n",
    "    all_pat += create_specific_patterns4(i,i+1,i+2,i+3,n)\n",
    "\n",
    "Phi = np.array([dev_pattern(p) for p in all_pat])\n",
    "y = np.array(Phi * np.matrix(sequence_cost_spectrum).T).T[0]\n",
    "\n",
    "y = np.array(y)\n",
    "\n",
    "omp = OrthogonalMatchingPursuit(n_nonzero_coefs=10)\n",
    "omp.fit(Phi, y)\n",
    "coefficients = [ i if i>0 else 0 for i in omp.coef_]\n",
    "\n",
    "fig = plt.Figure(figsize=(5, 5))\n",
    "ax = fig.subplots()\n",
    "ax.bar([i for i in np.arange(len(coefficients))],coefficients,width=20)\n",
    "ax.set_xlabel(\"Good optimums \" + str(np.intersect1d(np.argpartition(sequence_cost, -20)[-20:],np.nonzero(coefficients)[0])))\n",
    "tabs.append(pn.panel(fig,name=\"NN quadruplets\"))"
   ]
  },
  {
   "cell_type": "code",
   "execution_count": 24,
   "metadata": {},
   "outputs": [
    {
     "name": "stderr",
     "output_type": "stream",
     "text": [
      "/home/baptiste/Documents/.venv/lib/python3.12/site-packages/sklearn/utils/_param_validation.py:189: RuntimeWarning: Orthogonal matching pursuit ended prematurely due to linear dependence in the dictionary. The requested precision might not have been met.\n",
      "  return func(*args, **kwargs)\n"
     ]
    }
   ],
   "source": [
    "#All quadruplets\n",
    "all_pat = []\n",
    "y = []\n",
    "\n",
    "all_pat = []\n",
    "for i in range(n):\n",
    "    for j in range(i+1,n):\n",
    "        for k in range(j+1,n):\n",
    "            for l in range(k+1,n):\n",
    "                all_pat += create_specific_patterns4(i,j,k,l,n)\n",
    "\n",
    "Phi = np.array([dev_pattern(p) for p in all_pat])\n",
    "y = np.array(Phi * np.matrix(sequence_cost_spectrum).T).T[0]\n",
    "\n",
    "y = np.array(y)\n",
    "\n",
    "omp = OrthogonalMatchingPursuit(n_nonzero_coefs=10)\n",
    "omp.fit(Phi, y)\n",
    "coefficients = [ i if i>0 else 0 for i in omp.coef_]\n",
    "\n",
    "fig = plt.Figure(figsize=(5, 5))\n",
    "ax = fig.subplots()\n",
    "ax.bar([i for i in np.arange(len(coefficients))],coefficients,width=20)\n",
    "ax.set_xlabel(\"Good optimums \" + str(np.intersect1d(np.argpartition(sequence_cost, -20)[-20:],np.nonzero(coefficients)[0])))\n",
    "tabs.append(pn.panel(fig,name=\"All quadruplets\"))"
   ]
  },
  {
   "cell_type": "code",
   "execution_count": 25,
   "metadata": {},
   "outputs": [
    {
     "name": "stderr",
     "output_type": "stream",
     "text": [
      "/home/baptiste/Documents/.venv/lib/python3.12/site-packages/sklearn/linear_model/_omp.py:445: RuntimeWarning: Orthogonal matching pursuit ended prematurely due to linear dependence in the dictionary. The requested precision might not have been met.\n",
      "  out = _cholesky_omp(\n"
     ]
    }
   ],
   "source": [
    "#Nearest neighbor quintuplets\n",
    "all_pat = []\n",
    "y = []\n",
    "\n",
    "for i in range(n-4):\n",
    "    all_pat += create_specific_patterns5(i,i+1,i+2,i+3,i+4,n)\n",
    "\n",
    "Phi = np.array([dev_pattern(p) for p in all_pat])\n",
    "y = np.array(Phi * np.matrix(sequence_cost_spectrum).T).T[0]\n",
    "\n",
    "y = np.array(y)\n",
    "\n",
    "omp = OrthogonalMatchingPursuit(n_nonzero_coefs=10)\n",
    "omp.fit(Phi, y)\n",
    "coefficients = [ i if i>0 else 0 for i in omp.coef_]\n",
    "\n",
    "fig = plt.Figure(figsize=(5, 5))\n",
    "ax = fig.subplots()\n",
    "ax.bar([i for i in np.arange(len(coefficients))],coefficients,width=20)\n",
    "ax.set_xlabel(\"Good optimums \" + str(np.intersect1d(np.argpartition(sequence_cost, -20)[-20:],np.nonzero(coefficients)[0])))\n",
    "tabs.append(pn.panel(fig,name=\"NN quintuplets\"))"
   ]
  },
  {
   "cell_type": "code",
   "execution_count": 376,
   "metadata": {},
   "outputs": [],
   "source": [
    "# #Nearest neighbor pairs\n",
    "# all_pat = []\n",
    "# y = []\n",
    "\n",
    "# for i in range(n-1):\n",
    "#     all_pat += create_specific_patterns(i,i+1,n)\n",
    "\n",
    "# Phi = np.array([dev_pattern(p) for p in all_pat])\n",
    "# y = np.array(Phi * np.matrix(sequence_cost_spectrum).T).T[0]\n",
    "\n",
    "# y = np.array(y)\n",
    "\n",
    "# omp = OrthogonalMatchingPursuit(n_nonzero_coefs=10)\n",
    "# omp.fit(Phi, y)\n",
    "# coefficients = [ i if i>0 else 0 for i in omp.coef_]\n",
    "\n",
    "# fig = plt.Figure(figsize=(5, 5))\n",
    "# ax = fig.subplots()\n",
    "# ax.bar([i for i in np.arange(len(coefficients))],coefficients,width=20)\n",
    "# ax.set_xlabel(\"Good optimums \" + str(np.intersect1d(np.argpartition(sequence_cost, -20)[-20:],np.nonzero(coefficients)[0])))\n",
    "# tabs.append(pn.panel(fig,name=\"NN pairs\"))"
   ]
  },
  {
   "cell_type": "code",
   "execution_count": null,
   "metadata": {},
   "outputs": [],
   "source": [
    "# #All pairs\n",
    "# all_pat = []\n",
    "# y = []\n",
    "\n",
    "# all_pat = []\n",
    "# for i in range(n):\n",
    "#     for j in range(i+1,n):\n",
    "#         all_pat += create_specific_patterns(i,j,n)\n",
    "\n",
    "# Phi = np.array([dev_pattern(p) for p in all_pat])\n",
    "# y = np.array(Phi * np.matrix(sequence_cost_spectrum).T).T[0]\n",
    "\n",
    "# y = np.array(y)\n",
    "\n",
    "# omp = OrthogonalMatchingPursuit(n_nonzero_coefs=10)\n",
    "# omp.fit(Phi, y)\n",
    "# coefficients = [ i if i>0 else 0 for i in omp.coef_]\n",
    "\n",
    "# fig = plt.Figure(figsize=(5, 5))\n",
    "# ax = fig.subplots()\n",
    "# ax.bar([i for i in np.arange(len(coefficients))],coefficients,width=20)\n",
    "# ax.set_xlabel(\"Good optimums \" + str(np.intersect1d(np.argpartition(sequence_cost, -20)[-20:],np.nonzero(coefficients)[0])))\n",
    "# tabs.append(pn.panel(fig,name=\"All pairs\"))"
   ]
  },
  {
   "cell_type": "code",
   "execution_count": null,
   "metadata": {},
   "outputs": [],
   "source": [
    "# #Nearest neighbor triplets\n",
    "# all_pat = []\n",
    "# y = []\n",
    "\n",
    "# for i in range(n-2):\n",
    "#     all_pat += create_specific_patterns3(i,i+1,i+2,n)\n",
    "\n",
    "# Phi = np.array([dev_pattern(p) for p in all_pat])\n",
    "# y = np.array(Phi * np.matrix(sequence_cost_spectrum).T).T[0]\n",
    "\n",
    "# y = np.array(y)\n",
    "\n",
    "# omp = OrthogonalMatchingPursuit(n_nonzero_coefs=10)\n",
    "# omp.fit(Phi, y)\n",
    "# coefficients = [ i if i>0 else 0 for i in omp.coef_]\n",
    "\n",
    "# fig = plt.Figure(figsize=(5, 5))\n",
    "# ax = fig.subplots()\n",
    "# ax.bar([i for i in np.arange(len(coefficients))],coefficients,width=20)\n",
    "# ax.set_xlabel(\"Good optimums \" + str(np.intersect1d(np.argpartition(sequence_cost, -20)[-20:],np.nonzero(coefficients)[0])))\n",
    "# tabs.append(pn.panel(fig,name=\"NN triplets\"))"
   ]
  },
  {
   "cell_type": "code",
   "execution_count": null,
   "metadata": {},
   "outputs": [],
   "source": [
    "# #Nearest neighbor octuplets\n",
    "# all_pat = []\n",
    "# y = []\n",
    "\n",
    "# for i in range(n-7):\n",
    "#     all_pat += create_specific_patterns8(i,i+1,i+2,i+3,i+4,i+5,i+6,i+7,n)\n",
    "\n",
    "# Phi = np.array([dev_pattern(p) for p in all_pat])\n",
    "# y = np.array(Phi * np.matrix(sequence_cost_spectrum).T).T[0]\n",
    "\n",
    "# y = np.array(y)\n",
    "\n",
    "# omp = OrthogonalMatchingPursuit(n_nonzero_coefs=10)\n",
    "# omp.fit(Phi, y)\n",
    "# coefficients = [ i if i>0 else 0 for i in omp.coef_]\n",
    "\n",
    "# fig = plt.Figure(figsize=(5, 5))\n",
    "# ax = fig.subplots()\n",
    "# ax.bar([i for i in np.arange(len(coefficients))],coefficients,width=20)\n",
    "# ax.set_xlabel(\"Good optimums \" + str(np.intersect1d(np.argpartition(sequence_cost, -20)[-20:],np.nonzero(coefficients)[0])))\n",
    "# tabs.append(pn.panel(fig,name=\"NN octuplets\"))"
   ]
  },
  {
   "cell_type": "markdown",
   "metadata": {},
   "source": [
    "<h2>Averages</h2>"
   ]
  },
  {
   "cell_type": "code",
   "execution_count": 38,
   "metadata": {},
   "outputs": [],
   "source": [
    "def monte_carlo_compressive_learning(Phi,sequence_cost,threshold,sample_size=200):\n",
    "\n",
    "    #Sample\n",
    "    sample_index = np.random.randint(0,len(sequence_list),sample_size)\n",
    "    sequence_cost_spectrum = np.zeros_like(sequence_cost)\n",
    "    sequence_cost_spectrum[sample_index] = sequence_cost[sample_index]\n",
    "\n",
    "    #Threshold\n",
    "    sequence_cost_spectrum[sequence_cost_spectrum<threshold]=0\n",
    "\n",
    "    #Measurements\n",
    "    y = []\n",
    "    y = np.array(Phi * np.matrix(sequence_cost_spectrum).T).T[0]\n",
    "    y = np.array(y)\n",
    "\n",
    "    #Matching pursuit\n",
    "    omp = OrthogonalMatchingPursuit(n_nonzero_coefs=10)\n",
    "    omp.fit(Phi, y)\n",
    "    coefficients = [ i if i>0 else 0 for i in omp.coef_]\n",
    "\n",
    "    good_opt = np.intersect1d(np.argpartition(sequence_cost, -20)[-20:],np.nonzero(coefficients)[0])\n",
    "    # print(good_opt)\n",
    "    return len(good_opt)"
   ]
  },
  {
   "cell_type": "code",
   "execution_count": 73,
   "metadata": {},
   "outputs": [
    {
     "name": "stderr",
     "output_type": "stream",
     "text": [
      "/home/baptiste/Documents/.venv/lib/python3.12/site-packages/sklearn/linear_model/_omp.py:445: RuntimeWarning: Orthogonal matching pursuit ended prematurely due to linear dependence in the dictionary. The requested precision might not have been met.\n",
      "  out = _cholesky_omp(\n",
      "/home/baptiste/Documents/.venv/lib/python3.12/site-packages/sklearn/linear_model/_omp.py:445: RuntimeWarning: Orthogonal matching pursuit ended prematurely due to linear dependence in the dictionary. The requested precision might not have been met.\n",
      "  out = _cholesky_omp(\n",
      "/home/baptiste/Documents/.venv/lib/python3.12/site-packages/sklearn/linear_model/_omp.py:445: RuntimeWarning: Orthogonal matching pursuit ended prematurely due to linear dependence in the dictionary. The requested precision might not have been met.\n",
      "  out = _cholesky_omp(\n",
      "/home/baptiste/Documents/.venv/lib/python3.12/site-packages/sklearn/linear_model/_omp.py:445: RuntimeWarning: Orthogonal matching pursuit ended prematurely due to linear dependence in the dictionary. The requested precision might not have been met.\n",
      "  out = _cholesky_omp(\n",
      "/home/baptiste/Documents/.venv/lib/python3.12/site-packages/sklearn/linear_model/_omp.py:445: RuntimeWarning: Orthogonal matching pursuit ended prematurely due to linear dependence in the dictionary. The requested precision might not have been met.\n",
      "  out = _cholesky_omp(\n"
     ]
    },
    {
     "data": {
      "text/plain": [
       "0.147"
      ]
     },
     "execution_count": 73,
     "metadata": {},
     "output_type": "execute_result"
    }
   ],
   "source": [
    "all_pat = []\n",
    "for i in range(n-1):\n",
    "    all_pat += create_specific_patterns(i,i+1,n)\n",
    "Phi = np.array([dev_pattern(p) for p in all_pat])\n",
    "thresh = np.percentile(sequence_cost,90)\n",
    "\n",
    "res = []\n",
    "for _ in range(1000):\n",
    "    res.append(monte_carlo_compressive_learning(Phi,sequence_cost,threshold=thresh,sample_size=600))\n",
    "np.average(res)"
   ]
  }
 ],
 "metadata": {
  "kernelspec": {
   "display_name": ".venv",
   "language": "python",
   "name": "python3"
  },
  "language_info": {
   "codemirror_mode": {
    "name": "ipython",
    "version": 3
   },
   "file_extension": ".py",
   "mimetype": "text/x-python",
   "name": "python",
   "nbconvert_exporter": "python",
   "pygments_lexer": "ipython3",
   "version": "3.12.3"
  }
 },
 "nbformat": 4,
 "nbformat_minor": 2
}
